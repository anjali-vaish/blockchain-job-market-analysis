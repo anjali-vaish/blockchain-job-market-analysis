{
 "cells": [
  {
   "cell_type": "markdown",
   "id": "a02022ef",
   "metadata": {},
   "source": [
    "### satyasubhamnayak   538ad3f773925cbda6d54794ba6290ef"
   ]
  },
  {
   "cell_type": "code",
   "execution_count": 2,
   "id": "9a198c4e",
   "metadata": {},
   "outputs": [
    {
     "name": "stdout",
     "output_type": "stream",
     "text": [
      "Please provide your Kaggle credentials to download this dataset. Learn more: http://bit.ly/kaggle-creds\n",
      "Your Kaggle username:"
     ]
    },
    {
     "name": "stdin",
     "output_type": "stream",
     "text": [
      "  anjalivaish2702\n"
     ]
    },
    {
     "name": "stdout",
     "output_type": "stream",
     "text": [
      "Your Kaggle Key:"
     ]
    },
    {
     "name": "stdin",
     "output_type": "stream",
     "text": [
      "  ········\n"
     ]
    },
    {
     "name": "stdout",
     "output_type": "stream",
     "text": [
      "Downloading blockchain-jobs-india-2022-glassdoorcom.zip to .\\blockchain-jobs-india-2022-glassdoorcom\n"
     ]
    },
    {
     "name": "stderr",
     "output_type": "stream",
     "text": [
      "100%|██████████████████████████████████████████████████████████████████████████████| 4.40k/4.40k [00:00<00:00, 854kB/s]"
     ]
    },
    {
     "name": "stdout",
     "output_type": "stream",
     "text": [
      "\n"
     ]
    },
    {
     "name": "stderr",
     "output_type": "stream",
     "text": [
      "\n"
     ]
    }
   ],
   "source": [
    "import opendatasets as od\n",
    "import pandas\n",
    "\n",
    "od.download(\"https://www.kaggle.com/datasets/arindamsingh/blockchain-jobs-india-2022-glassdoorcom\")"
   ]
  },
  {
   "cell_type": "code",
   "execution_count": 6,
   "id": "e1f12a4a",
   "metadata": {},
   "outputs": [
    {
     "name": "stdout",
     "output_type": "stream",
     "text": [
      "                              Title                         Company  \\\n",
      "0                        Consultant                 Infosys Limited   \n",
      "1       Blockchain Developer Intern                    Synergy Labs   \n",
      "2                           Trainer         REGex Software Services   \n",
      "3       Blockchain Developer Intern    Sarahna Industries Pvt. Ltd.   \n",
      "4    Business Development Associate                             LCX   \n",
      "..                              ...                             ...   \n",
      "561            Blockchain Developer                        KiwiTech   \n",
      "562            Blockchain Developer  Waterneer Biokube Technologies   \n",
      "563    Business Development Manager                             IBM   \n",
      "564             Full Stack Engineer             Lapits Technologies   \n",
      "565                 Project Manager                             IBM   \n",
      "\n",
      "      Location  Easy Apply  Salary_Lower_Limit  Salary_Upper_Limit  \n",
      "0    Bangalore       False              100000              100000  \n",
      "1      Gurgaon        True              200000              300000  \n",
      "2       Remote        True               96000              100000  \n",
      "3        Noida        True              400000              900000  \n",
      "4      Gurgaon       False              500000              700000  \n",
      "..         ...         ...                 ...                 ...  \n",
      "561  Bangalore        True              800000             1000000  \n",
      "562      Noida       False              800000              800000  \n",
      "563      India        True              400000              800000  \n",
      "564  New Delhi        True              300000              300000  \n",
      "565   Tiruppūr        True             1200000             1200000  \n",
      "\n",
      "[566 rows x 6 columns]\n"
     ]
    }
   ],
   "source": [
    "import pandas as pds\n",
    "\n",
    "#reading the CSV file\n",
    "df=pds.read_csv('KaggleGlassdoor (1).csv')\n",
    "#displaying the contents of the XLSX file\n",
    "print(df)"
   ]
  },
  {
   "cell_type": "code",
   "execution_count": 7,
   "id": "40ae2db8",
   "metadata": {},
   "outputs": [
    {
     "data": {
      "text/html": [
       "<div>\n",
       "<style scoped>\n",
       "    .dataframe tbody tr th:only-of-type {\n",
       "        vertical-align: middle;\n",
       "    }\n",
       "\n",
       "    .dataframe tbody tr th {\n",
       "        vertical-align: top;\n",
       "    }\n",
       "\n",
       "    .dataframe thead th {\n",
       "        text-align: right;\n",
       "    }\n",
       "</style>\n",
       "<table border=\"1\" class=\"dataframe\">\n",
       "  <thead>\n",
       "    <tr style=\"text-align: right;\">\n",
       "      <th></th>\n",
       "      <th>Title</th>\n",
       "      <th>Company</th>\n",
       "      <th>Location</th>\n",
       "      <th>Easy Apply</th>\n",
       "      <th>Salary_Lower_Limit</th>\n",
       "      <th>Salary_Upper_Limit</th>\n",
       "    </tr>\n",
       "  </thead>\n",
       "  <tbody>\n",
       "    <tr>\n",
       "      <th>0</th>\n",
       "      <td>Consultant</td>\n",
       "      <td>Infosys Limited</td>\n",
       "      <td>Bangalore</td>\n",
       "      <td>False</td>\n",
       "      <td>100000</td>\n",
       "      <td>100000</td>\n",
       "    </tr>\n",
       "    <tr>\n",
       "      <th>1</th>\n",
       "      <td>Blockchain Developer Intern</td>\n",
       "      <td>Synergy Labs</td>\n",
       "      <td>Gurgaon</td>\n",
       "      <td>True</td>\n",
       "      <td>200000</td>\n",
       "      <td>300000</td>\n",
       "    </tr>\n",
       "    <tr>\n",
       "      <th>2</th>\n",
       "      <td>Trainer</td>\n",
       "      <td>REGex Software Services</td>\n",
       "      <td>Remote</td>\n",
       "      <td>True</td>\n",
       "      <td>96000</td>\n",
       "      <td>100000</td>\n",
       "    </tr>\n",
       "    <tr>\n",
       "      <th>3</th>\n",
       "      <td>Blockchain Developer Intern</td>\n",
       "      <td>Sarahna Industries Pvt. Ltd.</td>\n",
       "      <td>Noida</td>\n",
       "      <td>True</td>\n",
       "      <td>400000</td>\n",
       "      <td>900000</td>\n",
       "    </tr>\n",
       "    <tr>\n",
       "      <th>4</th>\n",
       "      <td>Business Development Associate</td>\n",
       "      <td>LCX</td>\n",
       "      <td>Gurgaon</td>\n",
       "      <td>False</td>\n",
       "      <td>500000</td>\n",
       "      <td>700000</td>\n",
       "    </tr>\n",
       "  </tbody>\n",
       "</table>\n",
       "</div>"
      ],
      "text/plain": [
       "                            Title                       Company   Location  \\\n",
       "0                      Consultant               Infosys Limited  Bangalore   \n",
       "1     Blockchain Developer Intern                  Synergy Labs    Gurgaon   \n",
       "2                         Trainer       REGex Software Services     Remote   \n",
       "3     Blockchain Developer Intern  Sarahna Industries Pvt. Ltd.      Noida   \n",
       "4  Business Development Associate                           LCX    Gurgaon   \n",
       "\n",
       "   Easy Apply  Salary_Lower_Limit  Salary_Upper_Limit  \n",
       "0       False              100000              100000  \n",
       "1        True              200000              300000  \n",
       "2        True               96000              100000  \n",
       "3        True              400000              900000  \n",
       "4       False              500000              700000  "
      ]
     },
     "execution_count": 7,
     "metadata": {},
     "output_type": "execute_result"
    }
   ],
   "source": [
    "df.head()"
   ]
  },
  {
   "cell_type": "code",
   "execution_count": 8,
   "id": "be7cbe26",
   "metadata": {},
   "outputs": [
    {
     "name": "stdout",
     "output_type": "stream",
     "text": [
      "                              Title                               Company   Location  Easy Apply  Salary_Lower_Limit  Salary_Upper_Limit\n",
      "0                        Consultant                       Infosys Limited  Bangalore       False              100000              100000\n",
      "1       Blockchain Developer Intern                          Synergy Labs    Gurgaon        True              200000              300000\n",
      "2                           Trainer               REGex Software Services     Remote        True               96000              100000\n",
      "3       Blockchain Developer Intern          Sarahna Industries Pvt. Ltd.      Noida        True              400000              900000\n",
      "4    Business Development Associate                                   LCX    Gurgaon       False              500000              700000\n",
      "5      Business Development Manager                                Zuvomo      India        True              500000              800000\n",
      "6              Blockchain Developer        Waterneer Biokube Technologies      Alwar        True              500000             2000000\n",
      "7              Blockchain Developer                             TeraBlock     Remote        True              100000              200000\n",
      "8                 Field Interviewer      Varaha ClimateAg Private Limited    Sonipat        True              800000             1000000\n",
      "9               Full Stack Engineer        QuillHash Technologies Pvt Ltd  New Delhi        True              400000             1500000\n",
      "10             Blockchain Developer                   Wits Innovation Lab  Bangalore        True              400000              800000\n",
      "11                  Content Manager                           CoinFantasy  New Delhi        True              800000              800000\n",
      "12                  Project Manager                            SAVE - NGO   Tiruppūr        True              800000             1100000\n",
      "13                          Trainer                                 MPACT   Warangal        True              500000              800000\n",
      "14   Associate Blockchain Developer                                   LCX    Gurgaon       False              400000             1200000\n",
      "15             Blockchain Developer                        Ably Corporate      Noida        True              400000              800000\n",
      "16             Blockchain Developer                   Zorang Technologies    Gurgaon        True              900000             1500000\n",
      "17             Blockchain Developer                            Hack2skill      Noida       False              500000             1200000\n",
      "18                Digital Marketing             Panaesha Capital ltd. pvt    Gurgaon        True              400000              700000\n",
      "19              Technical Recruiter                   Lapits Technologies      Noida       False              200000              300000\n",
      "20             Blockchain Developer             Sweply Technology Pvt Ltd     Nashik        True             1200000             1200000\n",
      "21             Blockchain Developer             ClassHose India Pvt. Ltd.      Noida        True              800000             1800000\n",
      "22             Blockchain Developer                      SDLC Corporation      Noida        True              100000              100000\n",
      "23             Blockchain Developer             Nexonweb Solution Pvt Ltd       Pune        True              200000              300000\n",
      "24             Blockchain Developer                              HRsimpli  New Delhi        True               96000              100000\n",
      "25                        Non Title                  Cubicle Crew Pvt Ltd      Noida       False              400000              900000\n",
      "26               Consulting Manager                          Sopra Steria       Pune       False              500000              700000\n",
      "27                       Consultant                           Tokyotechie  Bangalore       False              500000              800000\n",
      "28      Blockchain Developer Intern                       Infosys Limited    Gurgaon        True              500000             2000000\n",
      "29             Social Media Manager                          Synergy Labs  New Delhi        True              100000              200000\n",
      "30                          Trainer                                Zuvomo     Remote        True              800000             1000000\n",
      "31      Blockchain Developer Intern               REGex Software Services      Noida        True              400000             1500000\n",
      "32   Business Development Associate          Sarahna Industries Pvt. Ltd.    Gurgaon       False              400000              800000\n",
      "33     Business Development Manager                                   LCX      India        True              800000              800000\n",
      "34             Blockchain Developer                                Zuvomo      Alwar        True              800000             1100000\n",
      "35             Blockchain Developer        Waterneer Biokube Technologies     Remote        True              500000              800000\n",
      "36                Field Interviewer                             TeraBlock    Sonipat        True              400000             1200000\n",
      "37              Full Stack Engineer      Varaha ClimateAg Private Limited  New Delhi        True              400000              800000\n",
      "38             Blockchain Developer        QuillHash Technologies Pvt Ltd  Bangalore        True              900000             1500000\n",
      "39                  Content Manager                   Wits Innovation Lab  New Delhi        True              500000             1200000\n",
      "40                  Project Manager                           CoinFantasy   Tiruppūr        True              400000              700000\n",
      "41                          Trainer                            SAVE - NGO   Warangal        True              200000              300000\n",
      "42   Associate Blockchain Developer                                 MPACT    Gurgaon       False             1200000             1200000\n",
      "43             Blockchain Developer                                   LCX      Noida        True              800000             1800000\n",
      "44             Blockchain Developer                        Ably Corporate    Gurgaon        True              100000              100000\n",
      "45             Blockchain Developer                   Zorang Technologies      Noida       False              200000              300000\n",
      "46              Technical Recruiter             Panaesha Capital ltd. pvt      Noida       False               96000              100000\n",
      "47             Blockchain Developer                   Lapits Technologies     Nashik        True              400000              900000\n",
      "48             Blockchain Developer             Sweply Technology Pvt Ltd      Noida        True              500000              700000\n",
      "49             Blockchain Developer             ClassHose India Pvt. Ltd.      Noida        True              500000              800000\n",
      "50             Blockchain Developer                      SDLC Corporation       Pune        True              500000             2000000\n",
      "51             Blockchain Developer             Nexonweb Solution Pvt Ltd     Remote        True              100000              200000\n",
      "52             Blockchain Developer                                   IBM  New Delhi        True              800000             1000000\n",
      "53                        Non Title                              HRsimpli      Noida       False              400000             1500000\n",
      "54               Consulting Manager                  Cubicle Crew Pvt Ltd       Pune       False              400000              800000\n",
      "55                       Consultant                          Sopra Steria  Bangalore       False              800000              800000\n",
      "56      Blockchain Developer Intern                           Tokyotechie    Gurgaon        True              800000             1100000\n",
      "57             Social Media Manager                       Infosys Limited  New Delhi        True              500000              800000\n",
      "58                          Trainer                          Synergy Labs     Remote        True              400000             1200000\n",
      "59      Blockchain Developer Intern                                Zuvomo      Noida        True              400000              800000\n",
      "60   Business Development Associate               REGex Software Services    Gurgaon       False              900000             1500000\n",
      "61     Business Development Manager          Sarahna Industries Pvt. Ltd.      India        True              500000             1200000\n",
      "62             Blockchain Developer                                   LCX      Alwar        True              400000              700000\n",
      "63             Blockchain Developer                                Zuvomo     Remote        True              200000              300000\n",
      "64                Field Interviewer        Waterneer Biokube Technologies    Sonipat        True             1200000             1200000\n",
      "65              Full Stack Engineer                             TeraBlock  New Delhi        True              800000             1800000\n",
      "66             Blockchain Developer      Varaha ClimateAg Private Limited  Bangalore        True              100000              100000\n",
      "67                  Content Manager        QuillHash Technologies Pvt Ltd  New Delhi        True              200000              300000\n",
      "68                          Trainer                           CoinFantasy   Warangal        True               96000              100000\n",
      "69   Associate Blockchain Developer                            SAVE - NGO    Gurgaon       False              400000              900000\n",
      "70             Blockchain Developer                                 MPACT      Noida        True              500000              700000\n",
      "71             Blockchain Developer                                   LCX    Gurgaon        True              500000              800000\n",
      "72             Blockchain Developer                        Ably Corporate      Noida       False              500000             2000000\n",
      "73                Digital Marketing                   Zorang Technologies    Gurgaon        True              100000              200000\n",
      "74              Technical Recruiter                            Hack2skill      Noida       False              800000             1000000\n",
      "75             Blockchain Developer             Panaesha Capital ltd. pvt     Nashik        True              400000             1500000\n",
      "76             Blockchain Developer                   Lapits Technologies      Noida        True              400000              800000\n",
      "77             Blockchain Developer             Sweply Technology Pvt Ltd      Noida        True              800000              800000\n",
      "78             Blockchain Developer             ClassHose India Pvt. Ltd.       Pune        True              800000             1100000\n",
      "79             Blockchain Developer                      SDLC Corporation     Remote        True              500000              800000\n",
      "80             Blockchain Developer             Nexonweb Solution Pvt Ltd  New Delhi        True              400000             1200000\n",
      "81                        Non Title                                   IBM      Noida       False              400000              800000\n",
      "82               Consulting Manager                              HRsimpli       Pune       False              900000             1500000\n",
      "83                       Consultant                  Cubicle Crew Pvt Ltd  Bangalore       False              500000             1200000\n",
      "84      Blockchain Developer Intern                          Sopra Steria    Gurgaon        True              400000              700000\n",
      "85             Social Media Manager                           Tokyotechie  New Delhi        True              200000              300000\n",
      "86                          Trainer                       Infosys Limited     Remote        True             1200000             1200000\n",
      "87      Blockchain Developer Intern                          Synergy Labs      Noida        True              800000             1800000\n",
      "88   Business Development Associate                                Zuvomo    Gurgaon       False              100000              100000\n",
      "89     Business Development Manager               REGex Software Services      India        True              200000              300000\n",
      "90             Blockchain Developer                                   LCX     Remote        True               96000              100000\n",
      "91                Field Interviewer                                Zuvomo    Sonipat        True              400000              900000\n",
      "92              Full Stack Engineer        Waterneer Biokube Technologies  New Delhi        True              500000              700000\n",
      "93             Blockchain Developer                             TeraBlock  Bangalore        True              500000              800000\n",
      "94                  Content Manager      Varaha ClimateAg Private Limited  New Delhi        True              500000             2000000\n",
      "95                  Project Manager        QuillHash Technologies Pvt Ltd   Tiruppūr        True              100000              200000\n",
      "96                          Trainer                   Wits Innovation Lab   Warangal        True              800000             1000000\n",
      "97   Associate Blockchain Developer                           CoinFantasy    Gurgaon       False              400000             1500000\n",
      "98             Blockchain Developer                            SAVE - NGO      Noida        True              400000              800000\n",
      "99             Blockchain Developer                                 MPACT    Gurgaon        True              800000              800000\n",
      "100            Blockchain Developer                                   LCX      Noida       False              800000             1100000\n",
      "101               Digital Marketing                        Ably Corporate    Gurgaon        True              500000              800000\n",
      "102             Technical Recruiter                   Zorang Technologies      Noida       False              400000             1200000\n",
      "103            Blockchain Developer                            Hack2skill     Nashik        True              400000              800000\n",
      "104            Blockchain Developer             Panaesha Capital ltd. pvt      Noida        True              900000             1500000\n",
      "105            Blockchain Developer                   Lapits Technologies      Noida        True              500000             1200000\n",
      "106            Blockchain Developer             Sweply Technology Pvt Ltd       Pune        True              400000              700000\n",
      "107            Blockchain Developer             ClassHose India Pvt. Ltd.     Remote        True              200000              300000\n",
      "108            Blockchain Developer                      SDLC Corporation  New Delhi        True             1200000             1200000\n",
      "109                       Non Title             Nexonweb Solution Pvt Ltd      Noida       False              800000             1800000\n",
      "110              Consulting Manager                                   IBM       Pune       False              100000              100000\n",
      "111                      Consultant                              HRsimpli  Bangalore       False              200000              300000\n",
      "112            Social Media Manager                          Sopra Steria  New Delhi        True              400000              900000\n",
      "113                         Trainer                           Tokyotechie     Remote        True              100000              200000\n",
      "114     Blockchain Developer Intern                       Infosys Limited      Noida        True               96000              100000\n",
      "115  Business Development Associate                          Synergy Labs    Gurgaon       False              500000              700000\n",
      "116    Business Development Manager                                Zuvomo      India        True              900000             1500000\n",
      "117            Blockchain Developer               REGex Software Services      Alwar        True              800000              800000\n",
      "118            Blockchain Developer          Sarahna Industries Pvt. Ltd.     Remote        True              800000             1100000\n",
      "119               Field Interviewer                                   LCX    Sonipat        True              500000             2000000\n",
      "120             Full Stack Engineer                                Zuvomo  New Delhi        True              400000              800000\n",
      "121            Blockchain Developer        Waterneer Biokube Technologies  Bangalore        True              800000             1000000\n",
      "122                 Content Manager                             TeraBlock  New Delhi        True              400000             1500000\n",
      "123                 Project Manager      Varaha ClimateAg Private Limited   Tiruppūr        True              500000              800000\n",
      "124                         Trainer        QuillHash Technologies Pvt Ltd   Warangal        True              500000             1200000\n",
      "125  Associate Blockchain Developer                   Wits Innovation Lab    Gurgaon       False              400000              800000\n",
      "126            Blockchain Developer                           CoinFantasy      Noida        True              500000              800000\n",
      "127            Blockchain Developer                            SAVE - NGO    Gurgaon        True              100000              100000\n",
      "128            Blockchain Developer                                 MPACT      Noida       False              200000              300000\n",
      "129             Technical Recruiter                        Ably Corporate      Noida       False              400000              900000\n",
      "130            Blockchain Developer                   Zorang Technologies     Nashik        True              100000              200000\n",
      "131            Blockchain Developer                            Hack2skill      Noida        True               96000              100000\n",
      "132            Blockchain Developer             Panaesha Capital ltd. pvt      Noida        True              500000              700000\n",
      "133            Blockchain Developer                   Lapits Technologies       Pune        True              900000             1500000\n",
      "134            Blockchain Developer             Sweply Technology Pvt Ltd     Remote        True              800000              800000\n",
      "135            Blockchain Developer             ClassHose India Pvt. Ltd.  New Delhi        True              800000             1100000\n",
      "136                       Non Title                      SDLC Corporation      Noida       False              500000             2000000\n",
      "137              Consulting Manager             Nexonweb Solution Pvt Ltd       Pune       False              400000              800000\n",
      "138   Database Administrator Leader                                   IBM  New Delhi       False              800000             1000000\n",
      "139                      Consultant                              HRsimpli  Bangalore       False              400000             1500000\n",
      "140               Senior Consultant                  Cubicle Crew Pvt Ltd  Bangalore       False              500000              800000\n",
      "141     Blockchain Developer Intern                          Sopra Steria    Gurgaon        True              500000             1200000\n",
      "142            Social Media Manager                           Tokyotechie  New Delhi        True              400000              800000\n",
      "143                         Trainer                                   IBM     Remote        True              500000              800000\n",
      "144  Business Development Associate                       Infosys Limited    Gurgaon       False              100000              100000\n",
      "145               Field Interviewer                       Infosys Limited    Sonipat        True              200000              300000\n",
      "146             Technical Recruiter                                Zuvomo      Noida       False              400000              900000\n",
      "147    Business Development Manager               REGex Software Services      India        True              100000              200000\n",
      "148               Digital Marketing                                   LCX    Gurgaon        True               96000              100000\n",
      "149                 Project Manager      Varaha ClimateAg Private Limited   Tiruppūr        True              500000              700000\n",
      "150                         Trainer                                   IBM   Warangal        True              900000             1500000\n",
      "151            Blockchain Developer          Sarahna Industries Pvt. Ltd.     Remote        True              800000              800000\n",
      "152                 Content Manager                   Lapits Technologies  New Delhi        True              800000             1100000\n",
      "153            Head Finance Manager                                Zuvomo  New Delhi       False              500000             2000000\n",
      "154             Full Stack Engineer             Panaesha Capital ltd. pvt  New Delhi        True              400000              800000\n",
      "155                       Non Title                            SAVE - NGO      Noida       False              800000             1000000\n",
      "156            Blockchain Developer                                 MPACT  Bangalore        True              400000             1500000\n",
      "157  Associate Blockchain Developer                             TeraBlock    Gurgaon       False              500000              800000\n",
      "158            Blockchain Developer                           CoinFantasy     Nashik        True              500000             1200000\n",
      "159            Blockchain Developer                               Binance      Noida       False              400000              800000\n",
      "160            Blockchain Developer        QuillHash Technologies Pvt Ltd      Alwar        True              500000              800000\n",
      "161            Lead Finance Manager                          Sopra Steria    Gurgaon       False              300000              300000\n",
      "162                   Test Engineer                   Wits Innovation Lab      Noida       False              100000              100000\n",
      "163            Blockchain Developer                                   LCX    Gurgaon        True              200000              300000\n",
      "164                      Consultant                            Hack2skill  Bangalore       False              400000              900000\n",
      "165               Senior Consultant                              KiwiTech  Bangalore       False              100000              200000\n",
      "166     Blockchain Developer Intern        Waterneer Biokube Technologies    Gurgaon        True               96000              100000\n",
      "167            Social Media Manager                                   IBM  New Delhi        True              500000              700000\n",
      "168                         Trainer                   Lapits Technologies     Remote        True              900000             1500000\n",
      "169  Business Development Associate                                   IBM    Gurgaon       False              800000              800000\n",
      "170               Field Interviewer                   Zorang Technologies    Sonipat        True              800000             1100000\n",
      "171     Blockchain Developer Intern                                   IBM      Noida        True              500000             2000000\n",
      "172             Technical Recruiter                       Infosys Limited      Noida       False              400000              800000\n",
      "173    Business Development Manager                       Infosys Limited      India        True              800000             1000000\n",
      "174                 Project Manager                                Zuvomo   Tiruppūr        True              500000              800000\n",
      "175                         Trainer               REGex Software Services   Warangal        True              500000             1200000\n",
      "176            Blockchain Developer                                   LCX     Remote        True              400000              800000\n",
      "177                 Content Manager      Varaha ClimateAg Private Limited  New Delhi        True              500000              800000\n",
      "178            Head Finance Manager                                   IBM  New Delhi       False              300000              300000\n",
      "179             Full Stack Engineer          Sarahna Industries Pvt. Ltd.  New Delhi        True              100000              100000\n",
      "180                       Non Title                   Lapits Technologies      Noida       False              200000              300000\n",
      "181  Associate Blockchain Developer             Panaesha Capital ltd. pvt    Gurgaon       False              400000              900000\n",
      "182            Blockchain Developer                            SAVE - NGO     Nashik        True              100000              200000\n",
      "183            Blockchain Developer                                 MPACT      Noida       False               96000              100000\n",
      "184            Blockchain Developer                             TeraBlock      Alwar        True              500000              700000\n",
      "185            Lead Finance Manager                           CoinFantasy    Gurgaon       False              900000             1500000\n",
      "186                   Test Engineer                               Binance      Noida       False              800000              800000\n",
      "187            Blockchain Developer        QuillHash Technologies Pvt Ltd    Gurgaon        True              800000             1100000\n",
      "188                      Consultant                          Sopra Steria  Bangalore       False              500000             2000000\n",
      "189     Blockchain Developer Intern                   Wits Innovation Lab    Gurgaon        True              400000              800000\n",
      "190            Social Media Manager                                   LCX  New Delhi        True              800000             1000000\n",
      "191                         Trainer             Sweply Technology Pvt Ltd     Remote        True              400000             1500000\n",
      "192  Business Development Associate                            Hack2skill    Gurgaon       False              500000              800000\n",
      "193               Field Interviewer                              KiwiTech    Sonipat        True              500000             1200000\n",
      "194     Blockchain Developer Intern        Waterneer Biokube Technologies      Noida        True              400000              800000\n",
      "195             Technical Recruiter                                   IBM      Noida       False              500000              800000\n",
      "196    Business Development Manager                   Lapits Technologies      India        True              300000              300000\n",
      "197               Digital Marketing                                   IBM    Gurgaon        True              100000              100000\n",
      "198                 Project Manager                   Zorang Technologies   Tiruppūr        True              200000              300000\n",
      "199            Blockchain Developer                          Synergy Labs     Remote        True              400000              900000\n",
      "200                 Content Manager                                Zuvomo  New Delhi        True              100000              200000\n",
      "201            Head Finance Manager               REGex Software Services  New Delhi       False               96000              100000\n",
      "202             Full Stack Engineer                                   LCX  New Delhi        True              500000              700000\n",
      "203                       Non Title      Varaha ClimateAg Private Limited      Noida       False              900000             1500000\n",
      "204            Blockchain Developer                                   IBM  Bangalore        True              800000              800000\n",
      "205  Associate Blockchain Developer          Sarahna Industries Pvt. Ltd.    Gurgaon       False              800000             1100000\n",
      "206            Blockchain Developer                   Lapits Technologies     Nashik        True              500000             2000000\n",
      "207            Blockchain Developer                                Zuvomo      Noida       False              400000              800000\n",
      "208            Blockchain Developer             Panaesha Capital ltd. pvt      Alwar        True              800000             1000000\n",
      "209            Lead Finance Manager                            SAVE - NGO    Gurgaon       False              400000             1500000\n",
      "210                   Test Engineer                                 MPACT      Noida       False              500000              800000\n",
      "211            Blockchain Developer                             TeraBlock    Gurgaon        True              500000             1200000\n",
      "212                Business Analyst                           CoinFantasy      Noida        True              400000              800000\n",
      "213     Senior Blockchain Developer                               Binance      Noida       False              500000              800000\n",
      "214                      Consultant        QuillHash Technologies Pvt Ltd  Bangalore       False              300000              300000\n",
      "215     Blockchain Developer Intern                          Sopra Steria    Gurgaon        True              100000              100000\n",
      "216            Social Media Manager                   Wits Innovation Lab  New Delhi        True              200000              300000\n",
      "217  Business Development Associate             Sweply Technology Pvt Ltd    Gurgaon       False              400000              900000\n",
      "218               Field Interviewer                            Hack2skill    Sonipat        True              100000              200000\n",
      "219     Blockchain Developer Intern                              KiwiTech      Noida        True               96000              100000\n",
      "220             Technical Recruiter        Waterneer Biokube Technologies      Noida       False              500000              700000\n",
      "221    Business Development Manager                                   IBM      India        True              900000             1500000\n",
      "222               Digital Marketing                   Lapits Technologies    Gurgaon        True              800000              800000\n",
      "223                 Project Manager                                   IBM   Tiruppūr        True              800000             1100000\n",
      "224                         Trainer                   Zorang Technologies   Warangal        True              500000             2000000\n",
      "225            Blockchain Developer  Interwork Software Solutions Pvt.Ltd     Remote        True              400000              800000\n",
      "226                 Content Manager                    Sparx IT Solutions  New Delhi        True              800000             1000000\n",
      "227            Head Finance Manager                       Infosys Limited  New Delhi       False              400000             1500000\n",
      "228             Full Stack Engineer                          Synergy Labs  New Delhi        True              500000              800000\n",
      "229                       Non Title                                Zuvomo      Noida       False              500000             1200000\n",
      "230            Blockchain Developer               REGex Software Services  Bangalore        True              400000              800000\n",
      "231  Associate Blockchain Developer                                   LCX    Gurgaon       False              500000              800000\n",
      "232            Blockchain Developer      Varaha ClimateAg Private Limited     Nashik        True              300000              300000\n",
      "233            Blockchain Developer                                   IBM      Noida       False              100000              100000\n",
      "234            Blockchain Developer          Sarahna Industries Pvt. Ltd.      Alwar        True              200000              300000\n",
      "235                   Test Engineer                                Zuvomo      Noida       False              400000              900000\n",
      "236            Blockchain Developer             Panaesha Capital ltd. pvt    Gurgaon        True              100000              200000\n",
      "237                Business Analyst                            SAVE - NGO      Noida        True               96000              100000\n",
      "238     Senior Blockchain Developer                                 MPACT      Noida       False              500000              700000\n",
      "239                      Consultant                             TeraBlock  Bangalore       False              900000             1500000\n",
      "240     Blockchain Developer Intern                           CoinFantasy    Gurgaon        True              800000              800000\n",
      "241            Social Media Manager                               Binance  New Delhi        True              800000             1100000\n",
      "242                         Trainer        QuillHash Technologies Pvt Ltd     Remote        True              500000             2000000\n",
      "243  Business Development Associate                          Sopra Steria    Gurgaon       False              400000              800000\n",
      "244               Field Interviewer                   Wits Innovation Lab    Sonipat        True              800000             1000000\n",
      "245     Blockchain Developer Intern                                   LCX      Noida        True              400000             1500000\n",
      "246             Technical Recruiter             Sweply Technology Pvt Ltd      Noida       False              500000              800000\n",
      "247    Business Development Manager                            Hack2skill      India        True              500000             1200000\n",
      "248               Digital Marketing                              KiwiTech    Gurgaon        True              400000              800000\n",
      "249                 Project Manager        Waterneer Biokube Technologies   Tiruppūr        True              500000              800000\n",
      "250                         Trainer                                   IBM   Warangal        True              300000              300000\n",
      "251            Blockchain Developer                   Lapits Technologies     Remote        True              100000              100000\n",
      "252                 Content Manager                                   IBM  New Delhi        True              200000              300000\n",
      "253             Full Stack Engineer  Interwork Software Solutions Pvt.Ltd  New Delhi        True              400000              900000\n",
      "254                       Non Title                    Sparx IT Solutions      Noida       False              100000              200000\n",
      "255            Blockchain Developer                       Infosys Limited  Bangalore        True               96000              100000\n",
      "256  Associate Blockchain Developer                          Synergy Labs    Gurgaon       False              500000              700000\n",
      "257            Blockchain Developer                                Zuvomo     Nashik        True              900000             1500000\n",
      "258            Blockchain Developer               REGex Software Services      Noida       False              800000              800000\n",
      "259            Blockchain Developer                                   LCX      Alwar        True              800000             1100000\n",
      "260            Lead Finance Manager      Varaha ClimateAg Private Limited    Gurgaon       False              500000             2000000\n",
      "261                   Test Engineer                                   IBM      Noida       False              400000              800000\n",
      "262            Blockchain Developer          Sarahna Industries Pvt. Ltd.    Gurgaon        True              800000             1000000\n",
      "263                Business Analyst                   Lapits Technologies      Noida        True              400000             1500000\n",
      "264     Senior Blockchain Developer                                Zuvomo      Noida       False              500000              800000\n",
      "265                      Consultant             Panaesha Capital ltd. pvt  Bangalore       False              500000             1200000\n",
      "266     Blockchain Developer Intern                            SAVE - NGO    Gurgaon        True              400000              800000\n",
      "267            Social Media Manager                                 MPACT  New Delhi        True              500000              800000\n",
      "268                         Trainer                             TeraBlock     Remote        True              300000              300000\n",
      "269  Business Development Associate                           CoinFantasy    Gurgaon       False              100000              100000\n",
      "270               Field Interviewer                               Binance    Sonipat        True              200000              300000\n",
      "271             Technical Recruiter                          Sopra Steria      Noida       False              400000              900000\n",
      "272    Business Development Manager                   Wits Innovation Lab      India        True              100000              200000\n",
      "273               Digital Marketing                                   LCX    Gurgaon        True               96000              100000\n",
      "274                 Project Manager             Sweply Technology Pvt Ltd   Tiruppūr        True              500000              700000\n",
      "275                         Trainer                            Hack2skill   Warangal        True              900000             1500000\n",
      "276            Blockchain Developer                              KiwiTech     Remote        True              800000              800000\n",
      "277                 Content Manager        Waterneer Biokube Technologies  New Delhi        True              800000             1100000\n",
      "278            Head Finance Manager                                   IBM  New Delhi       False              500000             2000000\n",
      "279             Full Stack Engineer                   Lapits Technologies  New Delhi        True              400000              800000\n",
      "280                       Non Title                                   IBM      Noida       False              800000             1000000\n",
      "281            Blockchain Developer                   Zorang Technologies  Bangalore        True              400000             1500000\n",
      "282  Associate Blockchain Developer  Interwork Software Solutions Pvt.Ltd    Gurgaon       False              500000              800000\n",
      "283            Blockchain Developer                    Sparx IT Solutions     Nashik        True              500000             1200000\n",
      "284            Blockchain Developer                       Infosys Limited      Noida       False              400000              800000\n",
      "285            Blockchain Developer                          Synergy Labs      Alwar        True              500000              800000\n",
      "286            Lead Finance Manager                                Zuvomo    Gurgaon       False              300000              300000\n",
      "287                   Test Engineer               REGex Software Services      Noida       False              100000              100000\n",
      "288            Blockchain Developer                                   LCX    Gurgaon        True              200000              300000\n",
      "289     Senior Blockchain Developer                                   IBM      Noida       False              400000              900000\n",
      "290                      Consultant          Sarahna Industries Pvt. Ltd.  Bangalore       False              100000              200000\n",
      "291               Senior Consultant                   Lapits Technologies  Bangalore       False               96000              100000\n",
      "292     Blockchain Developer Intern                                Zuvomo    Gurgaon        True              500000              700000\n",
      "293            Social Media Manager             Panaesha Capital ltd. pvt  New Delhi        True              900000             1500000\n",
      "294                         Trainer                            SAVE - NGO     Remote        True              800000              800000\n",
      "295  Business Development Associate                                 MPACT    Gurgaon       False              800000             1100000\n",
      "296               Field Interviewer                             TeraBlock    Sonipat        True              500000             2000000\n",
      "297     Blockchain Developer Intern                           CoinFantasy      Noida        True              400000              800000\n",
      "298             Technical Recruiter                               Binance      Noida       False              800000             1000000\n",
      "299    Business Development Manager        QuillHash Technologies Pvt Ltd      India        True              400000             1500000\n",
      "300               Digital Marketing                          Sopra Steria    Gurgaon        True              500000              800000\n",
      "301                 Project Manager                   Wits Innovation Lab   Tiruppūr        True              500000             1200000\n",
      "302                         Trainer                                   LCX   Warangal        True              400000              800000\n",
      "303            Blockchain Developer             Sweply Technology Pvt Ltd     Remote        True              500000              800000\n",
      "304                 Content Manager                            Hack2skill  New Delhi        True              300000              300000\n",
      "305            Head Finance Manager                              KiwiTech  New Delhi       False              100000              100000\n",
      "306             Full Stack Engineer        Waterneer Biokube Technologies  New Delhi        True              200000              300000\n",
      "307            Blockchain Developer                   Lapits Technologies  Bangalore        True              400000              900000\n",
      "308  Associate Blockchain Developer                                   IBM    Gurgaon       False              100000              200000\n",
      "309            Blockchain Developer                   Zorang Technologies     Nashik        True               96000              100000\n",
      "310            Blockchain Developer  Interwork Software Solutions Pvt.Ltd      Noida       False              500000              700000\n",
      "311            Blockchain Developer                    Sparx IT Solutions      Alwar        True              900000             1500000\n",
      "312            Lead Finance Manager                       Infosys Limited    Gurgaon       False              800000              800000\n",
      "313                   Test Engineer                       Infosys Limited      Noida       False              800000             1100000\n",
      "314            Blockchain Developer                          Synergy Labs    Gurgaon        True              500000             2000000\n",
      "315                      Consultant               REGex Software Services  Bangalore       False              800000             1000000\n",
      "316               Senior Consultant                                   LCX  Bangalore       False              400000             1500000\n",
      "317     Blockchain Developer Intern      Varaha ClimateAg Private Limited    Gurgaon        True              500000              800000\n",
      "318            Social Media Manager                                   IBM  New Delhi        True              500000             1200000\n",
      "319                         Trainer          Sarahna Industries Pvt. Ltd.     Remote        True              400000              800000\n",
      "320  Business Development Associate                   Lapits Technologies    Gurgaon       False              500000              800000\n",
      "321               Field Interviewer                                Zuvomo    Sonipat        True              300000              300000\n",
      "322     Blockchain Developer Intern             Panaesha Capital ltd. pvt      Noida        True              100000              100000\n",
      "323             Technical Recruiter                            SAVE - NGO      Noida       False              200000              300000\n",
      "324               Digital Marketing                             TeraBlock    Gurgaon        True              400000              900000\n",
      "325                 Project Manager                           CoinFantasy   Tiruppūr        True              100000              200000\n",
      "326                         Trainer                               Binance   Warangal        True               96000              100000\n",
      "327            Blockchain Developer        QuillHash Technologies Pvt Ltd     Remote        True              500000              700000\n",
      "328                 Content Manager                          Sopra Steria  New Delhi        True              900000             1500000\n",
      "329            Head Finance Manager                   Wits Innovation Lab  New Delhi       False              800000              800000\n",
      "330             Full Stack Engineer                                   LCX  New Delhi        True              800000             1100000\n",
      "331                       Non Title             Sweply Technology Pvt Ltd      Noida       False              500000             2000000\n",
      "332            Blockchain Developer                            Hack2skill  Bangalore        True              400000              800000\n",
      "333  Associate Blockchain Developer                              KiwiTech    Gurgaon       False              800000             1000000\n",
      "334            Blockchain Developer        Waterneer Biokube Technologies     Nashik        True              400000             1500000\n",
      "335            Blockchain Developer                                   IBM      Noida       False              500000              800000\n",
      "336            Blockchain Developer                   Lapits Technologies      Alwar        True              500000             1200000\n",
      "337            Lead Finance Manager                                   IBM    Gurgaon       False              400000              800000\n",
      "338                   Test Engineer                   Zorang Technologies      Noida       False              500000              800000\n",
      "339            Blockchain Developer  Interwork Software Solutions Pvt.Ltd    Gurgaon        True              300000              300000\n",
      "340                Business Analyst                       Infosys Limited      Noida        True              100000              100000\n",
      "341                      Consultant                       Infosys Limited  Bangalore       False              200000              300000\n",
      "342     Blockchain Developer Intern                                Zuvomo    Gurgaon        True              400000              900000\n",
      "343            Social Media Manager               REGex Software Services  New Delhi        True              100000              200000\n",
      "344                         Trainer                                   LCX     Remote        True               96000              100000\n",
      "345  Business Development Associate      Varaha ClimateAg Private Limited    Gurgaon       False              500000              700000\n",
      "346               Field Interviewer                                   IBM    Sonipat        True              900000             1500000\n",
      "347     Blockchain Developer Intern          Sarahna Industries Pvt. Ltd.      Noida        True              800000              800000\n",
      "348             Technical Recruiter                   Lapits Technologies      Noida       False              800000             1100000\n",
      "349    Business Development Manager                                Zuvomo      India        True              500000             2000000\n",
      "350               Digital Marketing             Panaesha Capital ltd. pvt    Gurgaon        True              400000              800000\n",
      "351                 Project Manager                            SAVE - NGO   Tiruppūr        True              800000             1000000\n",
      "352                         Trainer                                 MPACT   Warangal        True              400000             1500000\n",
      "353            Blockchain Developer                             TeraBlock     Remote        True              500000              800000\n",
      "354                 Content Manager                           CoinFantasy  New Delhi        True              500000             1200000\n",
      "355            Head Finance Manager                               Binance  New Delhi       False              400000              800000\n",
      "356             Full Stack Engineer        QuillHash Technologies Pvt Ltd  New Delhi        True              500000              800000\n",
      "357                       Non Title                          Sopra Steria      Noida       False              300000              300000\n",
      "358            Blockchain Developer                   Wits Innovation Lab  Bangalore        True              100000              100000\n",
      "359  Associate Blockchain Developer                                   LCX    Gurgaon       False              200000              300000\n",
      "360            Blockchain Developer                            Hack2skill      Noida       False              400000              900000\n",
      "361            Blockchain Developer                              KiwiTech      Alwar        True              100000              200000\n",
      "362            Lead Finance Manager        Waterneer Biokube Technologies    Gurgaon       False               96000              100000\n",
      "363                   Test Engineer                                   IBM      Noida       False              500000              700000\n",
      "364            Blockchain Developer                   Lapits Technologies    Gurgaon        True              900000             1500000\n",
      "365                Business Analyst                                   IBM      Noida        True              800000              800000\n",
      "366                      Consultant                   Zorang Technologies  Bangalore       False              800000             1100000\n",
      "367               Senior Consultant  Interwork Software Solutions Pvt.Ltd  Bangalore       False              500000             2000000\n",
      "368     Blockchain Developer Intern                       Infosys Limited    Gurgaon        True              400000              800000\n",
      "369            Social Media Manager                       Infosys Limited  New Delhi        True              800000             1000000\n",
      "370                         Trainer                          Synergy Labs     Remote        True              400000             1500000\n",
      "371  Business Development Associate                                Zuvomo    Gurgaon       False              500000              800000\n",
      "372               Field Interviewer               REGex Software Services    Sonipat        True              500000             1200000\n",
      "373     Blockchain Developer Intern                                   LCX      Noida        True              400000              800000\n",
      "374             Technical Recruiter      Varaha ClimateAg Private Limited      Noida       False              500000              800000\n",
      "375    Business Development Manager                                   IBM      India        True              300000              300000\n",
      "376               Digital Marketing          Sarahna Industries Pvt. Ltd.    Gurgaon        True              100000              100000\n",
      "377                 Project Manager                   Lapits Technologies   Tiruppūr        True              200000              300000\n",
      "378                         Trainer                                Zuvomo   Warangal        True              400000              900000\n",
      "379            Blockchain Developer             Panaesha Capital ltd. pvt     Remote        True              100000              200000\n",
      "380            Head Finance Manager                                 MPACT  New Delhi       False              900000             1500000\n",
      "381             Full Stack Engineer                             TeraBlock  New Delhi        True               96000              100000\n",
      "382                       Non Title                           CoinFantasy      Noida       False              800000             1100000\n",
      "383            Blockchain Developer                               Binance  Bangalore        True              500000              800000\n",
      "384  Associate Blockchain Developer        QuillHash Technologies Pvt Ltd    Gurgaon       False              500000             2000000\n",
      "385            Blockchain Developer                          Sopra Steria     Nashik        True              500000              800000\n",
      "386            Blockchain Developer                   Wits Innovation Lab      Noida       False              500000             1200000\n",
      "387            Blockchain Developer                                   LCX      Alwar        True              400000             1500000\n",
      "388            Lead Finance Manager             Sweply Technology Pvt Ltd    Gurgaon       False              400000              800000\n",
      "389                   Test Engineer                            Hack2skill      Noida       False              500000              700000\n",
      "390            Blockchain Developer                              KiwiTech    Gurgaon        True              800000             1000000\n",
      "391                Business Analyst        Waterneer Biokube Technologies      Noida        True              800000              800000\n",
      "392                      Consultant                                   IBM  Bangalore       False              400000              800000\n",
      "393               Senior Consultant                   Lapits Technologies  Bangalore       False              300000              300000\n",
      "394     Blockchain Developer Intern                                   IBM    Gurgaon        True             1200000             1200000\n",
      "395            Social Media Manager                   Zorang Technologies  New Delhi        True              100000              100000\n",
      "396                         Trainer  Interwork Software Solutions Pvt.Ltd     Remote        True              200000              300000\n",
      "397  Business Development Associate                       Infosys Limited    Gurgaon       False              400000              900000\n",
      "398               Field Interviewer                       Infosys Limited    Sonipat        True              100000              200000\n",
      "399             Technical Recruiter                                Zuvomo      Noida       False              900000             1500000\n",
      "400    Business Development Manager               REGex Software Services      India        True               96000              100000\n",
      "401               Digital Marketing                                   LCX    Gurgaon        True              800000             1100000\n",
      "402                 Project Manager      Varaha ClimateAg Private Limited   Tiruppūr        True              500000              800000\n",
      "403                         Trainer                                   IBM   Warangal        True              500000             2000000\n",
      "404            Blockchain Developer          Sarahna Industries Pvt. Ltd.     Remote        True              500000              800000\n",
      "405                 Content Manager                   Lapits Technologies  New Delhi        True              500000             1200000\n",
      "406            Head Finance Manager                                Zuvomo  New Delhi       False              400000             1500000\n",
      "407             Full Stack Engineer             Panaesha Capital ltd. pvt  New Delhi        True              400000              800000\n",
      "408                       Non Title                            SAVE - NGO      Noida       False              500000              700000\n",
      "409            Blockchain Developer                                 MPACT  Bangalore        True              800000             1000000\n",
      "410  Associate Blockchain Developer                             TeraBlock    Gurgaon       False              800000              800000\n",
      "411            Blockchain Developer                           CoinFantasy     Nashik        True              400000              800000\n",
      "412            Blockchain Developer                               Binance      Noida       False              300000              300000\n",
      "413            Blockchain Developer        QuillHash Technologies Pvt Ltd      Alwar        True             1200000             1200000\n",
      "414            Lead Finance Manager                          Sopra Steria    Gurgaon       False              100000              100000\n",
      "415                   Test Engineer                   Wits Innovation Lab      Noida       False              200000              300000\n",
      "416            Blockchain Developer                                   LCX    Gurgaon        True              400000              900000\n",
      "417                Business Analyst             Sweply Technology Pvt Ltd      Noida        True              100000              200000\n",
      "418               Senior Consultant                              KiwiTech  Bangalore       False              900000             1500000\n",
      "419     Blockchain Developer Intern        Waterneer Biokube Technologies    Gurgaon        True               96000              100000\n",
      "420            Social Media Manager                                   IBM  New Delhi        True              800000             1100000\n",
      "421                         Trainer                   Lapits Technologies     Remote        True              500000              800000\n",
      "422  Business Development Associate                                   IBM    Gurgaon       False              500000             2000000\n",
      "423               Field Interviewer                   Zorang Technologies    Sonipat        True              500000              800000\n",
      "424     Blockchain Developer Intern  Interwork Software Solutions Pvt.Ltd      Noida        True              500000             1200000\n",
      "425             Technical Recruiter                       Infosys Limited      Noida       False              400000             1500000\n",
      "426    Business Development Manager                       Infosys Limited      India        True              400000              800000\n",
      "427               Digital Marketing                          Synergy Labs    Gurgaon        True              500000              700000\n",
      "428                 Project Manager                                Zuvomo   Tiruppūr        True              800000             1000000\n",
      "429                         Trainer               REGex Software Services   Warangal        True              800000              800000\n",
      "430            Blockchain Developer                                   LCX     Remote        True              400000              800000\n",
      "431                 Content Manager      Varaha ClimateAg Private Limited  New Delhi        True              300000              300000\n",
      "432            Head Finance Manager                                   IBM  New Delhi       False             1200000             1200000\n",
      "433             Full Stack Engineer          Sarahna Industries Pvt. Ltd.  New Delhi        True              100000              100000\n",
      "434                       Non Title                   Lapits Technologies      Noida       False              200000              300000\n",
      "435            Blockchain Developer                                Zuvomo  Bangalore        True              400000              900000\n",
      "436  Associate Blockchain Developer             Panaesha Capital ltd. pvt    Gurgaon       False              100000              200000\n",
      "437            Blockchain Developer                                 MPACT      Noida       False              900000             1500000\n",
      "438            Blockchain Developer                             TeraBlock      Alwar        True               96000              100000\n",
      "439            Lead Finance Manager                           CoinFantasy    Gurgaon       False              800000             1100000\n",
      "440                   Test Engineer                               Binance      Noida       False              500000              800000\n",
      "441            Blockchain Developer        QuillHash Technologies Pvt Ltd    Gurgaon        True              500000             2000000\n",
      "442                Business Analyst                          Sopra Steria      Noida        True              500000              800000\n",
      "443                      Consultant                   Wits Innovation Lab  Bangalore       False              500000             1200000\n",
      "444               Senior Consultant                                   LCX  Bangalore       False              400000             1500000\n",
      "445     Blockchain Developer Intern             Sweply Technology Pvt Ltd    Gurgaon        True              400000              800000\n",
      "446            Social Media Manager                            Hack2skill  New Delhi        True              500000              700000\n",
      "447                         Trainer                              KiwiTech     Remote        True              800000             1000000\n",
      "448  Business Development Associate        Waterneer Biokube Technologies    Gurgaon       False              800000              800000\n",
      "449               Field Interviewer                                   IBM    Sonipat        True              400000              800000\n",
      "450     Blockchain Developer Intern                   Lapits Technologies      Noida        True              300000              300000\n",
      "451             Technical Recruiter                                   IBM      Noida       False             1200000             1200000\n",
      "452    Business Development Manager                   Zorang Technologies      India        True              100000              100000\n",
      "453               Digital Marketing  Interwork Software Solutions Pvt.Ltd    Gurgaon        True              200000              300000\n",
      "454                 Project Manager                       Infosys Limited   Tiruppūr        True              400000              900000\n",
      "455                         Trainer                       Infosys Limited   Warangal        True              100000              200000\n",
      "456                 Content Manager                                Zuvomo  New Delhi        True              900000             1500000\n",
      "457            Head Finance Manager               REGex Software Services  New Delhi       False               96000              100000\n",
      "458             Full Stack Engineer                                   LCX  New Delhi        True              800000             1100000\n",
      "459                       Non Title      Varaha ClimateAg Private Limited      Noida       False              500000              800000\n",
      "460            Blockchain Developer                                   IBM  Bangalore        True              500000             2000000\n",
      "461  Associate Blockchain Developer          Sarahna Industries Pvt. Ltd.    Gurgaon       False              500000              800000\n",
      "462            Blockchain Developer                   Lapits Technologies     Nashik        True              500000             1200000\n",
      "463            Blockchain Developer                                Zuvomo      Noida       False              400000             1500000\n",
      "464            Blockchain Developer             Panaesha Capital ltd. pvt      Alwar        True              400000              800000\n",
      "465            Lead Finance Manager                            SAVE - NGO    Gurgaon       False              500000              700000\n",
      "466                   Test Engineer                                 MPACT      Noida       False              800000             1000000\n",
      "467            Blockchain Developer                             TeraBlock    Gurgaon        True              800000              800000\n",
      "468                Business Analyst                           CoinFantasy      Noida        True              400000              800000\n",
      "469                      Consultant                               Binance  Bangalore       False              300000              300000\n",
      "470               Senior Consultant        QuillHash Technologies Pvt Ltd  Bangalore       False             1200000             1200000\n",
      "471     Blockchain Developer Intern                          Sopra Steria    Gurgaon        True              100000              100000\n",
      "472            Social Media Manager                   Wits Innovation Lab  New Delhi        True              200000              300000\n",
      "473                         Trainer                                   LCX     Remote        True              400000              900000\n",
      "474  Business Development Associate             Sweply Technology Pvt Ltd    Gurgaon       False              100000              200000\n",
      "475     Blockchain Developer Intern                              KiwiTech      Noida        True              900000             1500000\n",
      "476             Technical Recruiter        Waterneer Biokube Technologies      Noida       False               96000              100000\n",
      "477    Business Development Manager                                   IBM      India        True              800000             1100000\n",
      "478               Digital Marketing                   Lapits Technologies    Gurgaon        True              500000              800000\n",
      "479                 Project Manager                                   IBM   Tiruppūr        True              500000             2000000\n",
      "480                         Trainer                   Zorang Technologies   Warangal        True              500000              800000\n",
      "481            Blockchain Developer  Interwork Software Solutions Pvt.Ltd     Remote        True              500000             1200000\n",
      "482                 Content Manager                       Infosys Limited  New Delhi        True              400000             1500000\n",
      "483            Head Finance Manager                       Infosys Limited  New Delhi       False              400000              800000\n",
      "484             Full Stack Engineer                          Synergy Labs  New Delhi        True              500000              700000\n",
      "485                       Non Title                                Zuvomo      Noida       False              800000             1000000\n",
      "486            Blockchain Developer               REGex Software Services  Bangalore        True              800000              800000\n",
      "487  Associate Blockchain Developer                                   LCX    Gurgaon       False              400000              800000\n",
      "488            Blockchain Developer      Varaha ClimateAg Private Limited     Nashik        True              300000              300000\n",
      "489            Blockchain Developer                                   IBM      Noida       False             1200000             1200000\n",
      "490            Blockchain Developer          Sarahna Industries Pvt. Ltd.      Alwar        True              100000              100000\n",
      "491            Lead Finance Manager                   Lapits Technologies    Gurgaon       False              200000              300000\n",
      "492                   Test Engineer                                Zuvomo      Noida       False              400000              900000\n",
      "493            Blockchain Developer             Panaesha Capital ltd. pvt    Gurgaon        True              100000              200000\n",
      "494                      Consultant                                 MPACT  Bangalore       False              900000             1500000\n",
      "495               Senior Consultant                             TeraBlock  Bangalore       False               96000              100000\n",
      "496     Blockchain Developer Intern                           CoinFantasy    Gurgaon        True              800000             1100000\n",
      "497            Social Media Manager                               Binance  New Delhi        True              500000              800000\n",
      "498                         Trainer        QuillHash Technologies Pvt Ltd     Remote        True              500000             2000000\n",
      "499  Business Development Associate                          Sopra Steria    Gurgaon       False              500000              800000\n",
      "500               Field Interviewer                   Wits Innovation Lab    Sonipat        True              500000             1200000\n",
      "501     Blockchain Developer Intern                                   LCX      Noida        True              400000             1500000\n",
      "502             Technical Recruiter             Sweply Technology Pvt Ltd      Noida       False              400000              800000\n",
      "503    Business Development Manager                            Hack2skill      India        True              500000              700000\n",
      "504               Digital Marketing                              KiwiTech    Gurgaon        True              800000             1000000\n",
      "505                 Project Manager        Waterneer Biokube Technologies   Tiruppūr        True              800000              800000\n",
      "506                         Trainer                                   IBM   Warangal        True              400000              800000\n",
      "507            Blockchain Developer                   Lapits Technologies     Remote        True              300000              300000\n",
      "508                 Content Manager                                   IBM  New Delhi        True             1200000             1200000\n",
      "509            Head Finance Manager                   Zorang Technologies  New Delhi       False              100000              100000\n",
      "510             Full Stack Engineer  Interwork Software Solutions Pvt.Ltd  New Delhi        True              200000              300000\n",
      "511                       Non Title                       Infosys Limited      Noida       False              400000              900000\n",
      "512            Blockchain Developer                       Infosys Limited  Bangalore        True              100000              200000\n",
      "513            Blockchain Developer                                Zuvomo     Nashik        True              900000             1500000\n",
      "514            Blockchain Developer               REGex Software Services      Noida       False               96000              100000\n",
      "515            Blockchain Developer                                   LCX      Alwar        True              800000             1100000\n",
      "516            Lead Finance Manager      Varaha ClimateAg Private Limited    Gurgaon       False              500000              800000\n",
      "517                   Test Engineer                                   IBM      Noida       False              500000             2000000\n",
      "518            Blockchain Developer          Sarahna Industries Pvt. Ltd.    Gurgaon        True              500000              800000\n",
      "519                Business Analyst                   Lapits Technologies      Noida        True              500000             1200000\n",
      "520                      Consultant                                Zuvomo  Bangalore       False              400000             1500000\n",
      "521               Senior Consultant             Panaesha Capital ltd. pvt  Bangalore       False              400000              800000\n",
      "522     Blockchain Developer Intern                            SAVE - NGO    Gurgaon        True              500000              700000\n",
      "523            Social Media Manager                                 MPACT  New Delhi        True              800000             1000000\n",
      "524  Business Development Associate                             TeraBlock    Gurgaon       False              800000              800000\n",
      "525               Field Interviewer                           CoinFantasy    Sonipat        True              400000              800000\n",
      "526                         Trainer                               Binance     Remote        True              300000              300000\n",
      "527               Digital Marketing        QuillHash Technologies Pvt Ltd    Gurgaon        True             1200000             1200000\n",
      "528     Blockchain Developer Intern                          Sopra Steria      Noida        True              100000              100000\n",
      "529                         Trainer                   Wits Innovation Lab   Warangal        True              200000              300000\n",
      "530            Blockchain Developer                                   LCX      Alwar        True              400000              900000\n",
      "531             Technical Recruiter             Sweply Technology Pvt Ltd      Noida       False              100000              200000\n",
      "532  Associate Blockchain Developer                              KiwiTech    Gurgaon       False              900000             1500000\n",
      "533            Blockchain Developer        Waterneer Biokube Technologies     Nashik        True               96000              100000\n",
      "534            Blockchain Developer                                   IBM  Bangalore        True              800000             1100000\n",
      "535            Blockchain Developer                   Lapits Technologies      Noida       False              500000              800000\n",
      "536    Business Development Manager                                   IBM      India        True              500000             2000000\n",
      "537             Full Stack Engineer                   Zorang Technologies  New Delhi        True              500000              800000\n",
      "538                 Project Manager  Interwork Software Solutions Pvt.Ltd   Tiruppūr        True              500000             1200000\n",
      "539                 Content Manager                       Infosys Limited  New Delhi        True              400000             1500000\n",
      "540            Blockchain Developer                       Infosys Limited    Gurgaon        True              400000              800000\n",
      "541                   Test Engineer                          Synergy Labs      Noida       False              500000              700000\n",
      "542     Senior Blockchain Developer                                Zuvomo      Noida       False              800000             1000000\n",
      "543                       Non Title               REGex Software Services      Noida       False              800000              800000\n",
      "544                Business Analyst                                   LCX      Noida        True              400000              800000\n",
      "545            Blockchain Developer      Varaha ClimateAg Private Limited       Pune        True              300000              300000\n",
      "546            Head Finance Manager                                   IBM  New Delhi       False             1200000             1200000\n",
      "547                      Consultant          Sarahna Industries Pvt. Ltd.  Bangalore       False              100000              100000\n",
      "548               Senior Consultant                   Lapits Technologies  Bangalore       False              200000              300000\n",
      "549     Blockchain Developer Intern                                Zuvomo    Gurgaon        True              400000              900000\n",
      "550            Social Media Manager             Panaesha Capital ltd. pvt  New Delhi        True              100000              200000\n",
      "551               Field Interviewer                                 MPACT    Sonipat        True              900000             1500000\n",
      "552                         Trainer                             TeraBlock     Remote        True               96000              100000\n",
      "553               Digital Marketing                           CoinFantasy    Gurgaon        True              800000             1100000\n",
      "554     Blockchain Developer Intern                               Binance      Noida        True              500000              800000\n",
      "555                         Trainer        QuillHash Technologies Pvt Ltd   Warangal        True              500000             2000000\n",
      "556            Blockchain Developer                          Sopra Steria      Alwar        True              500000              800000\n",
      "557             Technical Recruiter                   Wits Innovation Lab      Noida       False              500000             1200000\n",
      "558            Blockchain Developer                                   LCX     Remote        True              400000             1500000\n",
      "559  Associate Blockchain Developer             Sweply Technology Pvt Ltd    Gurgaon       False              400000              800000\n",
      "560            Blockchain Developer                            Hack2skill     Nashik        True              500000              700000\n",
      "561            Blockchain Developer                              KiwiTech  Bangalore        True              800000             1000000\n",
      "562            Blockchain Developer        Waterneer Biokube Technologies      Noida       False              800000              800000\n",
      "563    Business Development Manager                                   IBM      India        True              400000              800000\n",
      "564             Full Stack Engineer                   Lapits Technologies  New Delhi        True              300000              300000\n",
      "565                 Project Manager                                   IBM   Tiruppūr        True             1200000             1200000\n"
     ]
    }
   ],
   "source": [
    "print(df.to_string())"
   ]
  },
  {
   "cell_type": "code",
   "execution_count": 11,
   "id": "d9af65ad",
   "metadata": {},
   "outputs": [
    {
     "data": {
      "text/plain": [
       "['Title',\n",
       " 'Company',\n",
       " 'Location',\n",
       " 'Easy Apply',\n",
       " 'Salary_Lower_Limit',\n",
       " 'Salary_Upper_Limit']"
      ]
     },
     "execution_count": 11,
     "metadata": {},
     "output_type": "execute_result"
    }
   ],
   "source": [
    "df.columns.tolist()"
   ]
  },
  {
   "cell_type": "code",
   "execution_count": 12,
   "id": "703770f6",
   "metadata": {},
   "outputs": [
    {
     "data": {
      "text/plain": [
       "Company\n",
       "IBM                                     50\n",
       "LCX                                     38\n",
       "Zuvomo                                  37\n",
       "Lapits Technologies                     34\n",
       "Infosys Limited                         30\n",
       "Sopra Steria                            20\n",
       "CoinFantasy                             20\n",
       "Panaesha Capital ltd. pvt               20\n",
       "TeraBlock                               20\n",
       "Waterneer Biokube Technologies          20\n",
       "REGex Software Services                 20\n",
       "Varaha ClimateAg Private Limited        19\n",
       "Wits Innovation Lab                     19\n",
       "Sarahna Industries Pvt. Ltd.            19\n",
       "MPACT                                   19\n",
       "QuillHash Technologies Pvt Ltd          19\n",
       "Zorang Technologies                     18\n",
       "Sweply Technology Pvt Ltd               18\n",
       "Hack2skill                              16\n",
       "SAVE - NGO                              16\n",
       "Binance                                 15\n",
       "KiwiTech                                15\n",
       "Synergy Labs                            14\n",
       "Interwork Software Solutions Pvt.Ltd    12\n",
       "ClassHose India Pvt. Ltd.                5\n",
       "SDLC Corporation                         5\n",
       "Nexonweb Solution Pvt Ltd                5\n",
       "HRsimpli                                 5\n",
       "Ably Corporate                           5\n",
       "Tokyotechie                              5\n",
       "Cubicle Crew Pvt Ltd                     4\n",
       "Sparx IT Solutions                       4\n",
       "Name: count, dtype: int64"
      ]
     },
     "execution_count": 12,
     "metadata": {},
     "output_type": "execute_result"
    }
   ],
   "source": [
    "df['Company'].value_counts() #number of jobs available according to cities"
   ]
  },
  {
   "cell_type": "code",
   "execution_count": 13,
   "id": "2fd0de66",
   "metadata": {},
   "outputs": [
    {
     "data": {
      "text/plain": [
       "Location\n",
       "Noida        130\n",
       "Gurgaon      117\n",
       "New Delhi     84\n",
       "Bangalore     54\n",
       "Remote        45\n",
       "India         21\n",
       "Alwar         21\n",
       "Sonipat       21\n",
       "Tiruppūr      21\n",
       "Warangal      21\n",
       "Nashik        20\n",
       "Pune          11\n",
       "Name: count, dtype: int64"
      ]
     },
     "execution_count": 13,
     "metadata": {},
     "output_type": "execute_result"
    }
   ],
   "source": [
    "df['Location'].value_counts()"
   ]
  },
  {
   "cell_type": "code",
   "execution_count": 14,
   "id": "266b94a0",
   "metadata": {
    "scrolled": true
   },
   "outputs": [
    {
     "data": {
      "text/plain": [
       "Title\n",
       "Blockchain Developer              155\n",
       "Trainer                            42\n",
       "Blockchain Developer Intern        40\n",
       "Full Stack Engineer                22\n",
       "Technical Recruiter                22\n",
       "Consultant                         21\n",
       "Social Media Manager               21\n",
       "Business Development Associate     21\n",
       "Business Development Manager       21\n",
       "Field Interviewer                  21\n",
       "Project Manager                    21\n",
       "Associate Blockchain Developer     21\n",
       "Content Manager                    20\n",
       "Non Title                          20\n",
       "Digital Marketing                  19\n",
       "Test Engineer                      16\n",
       "Head Finance Manager               15\n",
       "Lead Finance Manager               14\n",
       "Senior Consultant                  12\n",
       "Business Analyst                   11\n",
       "Consulting Manager                  5\n",
       "Senior Blockchain Developer         5\n",
       "Database Administrator Leader       1\n",
       "Name: count, dtype: int64"
      ]
     },
     "execution_count": 14,
     "metadata": {},
     "output_type": "execute_result"
    }
   ],
   "source": [
    "df['Title'].value_counts()"
   ]
  },
  {
   "cell_type": "code",
   "execution_count": 15,
   "id": "b97acc67",
   "metadata": {},
   "outputs": [
    {
     "data": {
      "text/plain": [
       "Salary_Upper_Limit\n",
       "800000     149\n",
       "100000      60\n",
       "1500000     59\n",
       "300000      58\n",
       "1200000     50\n",
       "700000      35\n",
       "900000      30\n",
       "2000000     30\n",
       "200000      30\n",
       "1000000     30\n",
       "1100000     30\n",
       "1800000      5\n",
       "Name: count, dtype: int64"
      ]
     },
     "execution_count": 15,
     "metadata": {},
     "output_type": "execute_result"
    }
   ],
   "source": [
    "df['Salary_Upper_Limit'].value_counts()"
   ]
  },
  {
   "cell_type": "code",
   "execution_count": 16,
   "id": "1e535242",
   "metadata": {},
   "outputs": [
    {
     "data": {
      "text/plain": [
       "Easy Apply\n",
       "True     371\n",
       "False    195\n",
       "Name: count, dtype: int64"
      ]
     },
     "execution_count": 16,
     "metadata": {},
     "output_type": "execute_result"
    }
   ],
   "source": [
    "df['Easy Apply'].value_counts()"
   ]
  },
  {
   "cell_type": "code",
   "execution_count": null,
   "id": "a80202b3",
   "metadata": {},
   "outputs": [],
   "source": [
    "df['Avg_Salary']=df[['Salary_Lower_Limit', 'Salary_Upper_Limit']].mean(axis=1)"
   ]
  },
  {
   "cell_type": "code",
   "execution_count": 20,
   "id": "a7ec4769",
   "metadata": {},
   "outputs": [
    {
     "data": {
      "text/html": [
       "<div>\n",
       "<style scoped>\n",
       "    .dataframe tbody tr th:only-of-type {\n",
       "        vertical-align: middle;\n",
       "    }\n",
       "\n",
       "    .dataframe tbody tr th {\n",
       "        vertical-align: top;\n",
       "    }\n",
       "\n",
       "    .dataframe thead th {\n",
       "        text-align: right;\n",
       "    }\n",
       "</style>\n",
       "<table border=\"1\" class=\"dataframe\">\n",
       "  <thead>\n",
       "    <tr style=\"text-align: right;\">\n",
       "      <th></th>\n",
       "      <th>Title</th>\n",
       "      <th>Company</th>\n",
       "      <th>Location</th>\n",
       "      <th>Easy Apply</th>\n",
       "      <th>Salary_Lower_Limit</th>\n",
       "      <th>Salary_Upper_Limit</th>\n",
       "      <th>Avg_Salary</th>\n",
       "    </tr>\n",
       "  </thead>\n",
       "  <tbody>\n",
       "    <tr>\n",
       "      <th>0</th>\n",
       "      <td>Consultant</td>\n",
       "      <td>Infosys Limited</td>\n",
       "      <td>Bangalore</td>\n",
       "      <td>False</td>\n",
       "      <td>100000</td>\n",
       "      <td>100000</td>\n",
       "      <td>100000.0</td>\n",
       "    </tr>\n",
       "    <tr>\n",
       "      <th>1</th>\n",
       "      <td>Blockchain Developer Intern</td>\n",
       "      <td>Synergy Labs</td>\n",
       "      <td>Gurgaon</td>\n",
       "      <td>True</td>\n",
       "      <td>200000</td>\n",
       "      <td>300000</td>\n",
       "      <td>250000.0</td>\n",
       "    </tr>\n",
       "    <tr>\n",
       "      <th>2</th>\n",
       "      <td>Trainer</td>\n",
       "      <td>REGex Software Services</td>\n",
       "      <td>Remote</td>\n",
       "      <td>True</td>\n",
       "      <td>96000</td>\n",
       "      <td>100000</td>\n",
       "      <td>98000.0</td>\n",
       "    </tr>\n",
       "    <tr>\n",
       "      <th>3</th>\n",
       "      <td>Blockchain Developer Intern</td>\n",
       "      <td>Sarahna Industries Pvt. Ltd.</td>\n",
       "      <td>Noida</td>\n",
       "      <td>True</td>\n",
       "      <td>400000</td>\n",
       "      <td>900000</td>\n",
       "      <td>650000.0</td>\n",
       "    </tr>\n",
       "    <tr>\n",
       "      <th>4</th>\n",
       "      <td>Business Development Associate</td>\n",
       "      <td>LCX</td>\n",
       "      <td>Gurgaon</td>\n",
       "      <td>False</td>\n",
       "      <td>500000</td>\n",
       "      <td>700000</td>\n",
       "      <td>600000.0</td>\n",
       "    </tr>\n",
       "  </tbody>\n",
       "</table>\n",
       "</div>"
      ],
      "text/plain": [
       "                            Title                       Company   Location  \\\n",
       "0                      Consultant               Infosys Limited  Bangalore   \n",
       "1     Blockchain Developer Intern                  Synergy Labs    Gurgaon   \n",
       "2                         Trainer       REGex Software Services     Remote   \n",
       "3     Blockchain Developer Intern  Sarahna Industries Pvt. Ltd.      Noida   \n",
       "4  Business Development Associate                           LCX    Gurgaon   \n",
       "\n",
       "   Easy Apply  Salary_Lower_Limit  Salary_Upper_Limit  Avg_Salary  \n",
       "0       False              100000              100000    100000.0  \n",
       "1        True              200000              300000    250000.0  \n",
       "2        True               96000              100000     98000.0  \n",
       "3        True              400000              900000    650000.0  \n",
       "4       False              500000              700000    600000.0  "
      ]
     },
     "execution_count": 20,
     "metadata": {},
     "output_type": "execute_result"
    }
   ],
   "source": [
    "df.head()"
   ]
  },
  {
   "cell_type": "code",
   "execution_count": 21,
   "id": "3364ceed",
   "metadata": {},
   "outputs": [
    {
     "data": {
      "text/html": [
       "<div>\n",
       "<style scoped>\n",
       "    .dataframe tbody tr th:only-of-type {\n",
       "        vertical-align: middle;\n",
       "    }\n",
       "\n",
       "    .dataframe tbody tr th {\n",
       "        vertical-align: top;\n",
       "    }\n",
       "\n",
       "    .dataframe thead th {\n",
       "        text-align: right;\n",
       "    }\n",
       "</style>\n",
       "<table border=\"1\" class=\"dataframe\">\n",
       "  <thead>\n",
       "    <tr style=\"text-align: right;\">\n",
       "      <th></th>\n",
       "      <th>Title</th>\n",
       "      <th>Company</th>\n",
       "      <th>Location</th>\n",
       "      <th>Easy Apply</th>\n",
       "      <th>Salary_Lower_Limit</th>\n",
       "      <th>Salary_Upper_Limit</th>\n",
       "      <th>Avg_Salary</th>\n",
       "    </tr>\n",
       "  </thead>\n",
       "  <tbody>\n",
       "    <tr>\n",
       "      <th>0</th>\n",
       "      <td>Consultant</td>\n",
       "      <td>Infosys Limited</td>\n",
       "      <td>Bangalore</td>\n",
       "      <td>False</td>\n",
       "      <td>100000</td>\n",
       "      <td>100000</td>\n",
       "      <td>100000.0</td>\n",
       "    </tr>\n",
       "    <tr>\n",
       "      <th>1</th>\n",
       "      <td>Blockchain Developer Intern</td>\n",
       "      <td>Synergy Labs</td>\n",
       "      <td>Gurgaon</td>\n",
       "      <td>True</td>\n",
       "      <td>200000</td>\n",
       "      <td>300000</td>\n",
       "      <td>250000.0</td>\n",
       "    </tr>\n",
       "    <tr>\n",
       "      <th>2</th>\n",
       "      <td>Trainer</td>\n",
       "      <td>REGex Software Services</td>\n",
       "      <td>Remote</td>\n",
       "      <td>True</td>\n",
       "      <td>96000</td>\n",
       "      <td>100000</td>\n",
       "      <td>98000.0</td>\n",
       "    </tr>\n",
       "    <tr>\n",
       "      <th>3</th>\n",
       "      <td>Blockchain Developer Intern</td>\n",
       "      <td>Sarahna Industries Pvt. Ltd.</td>\n",
       "      <td>Noida</td>\n",
       "      <td>True</td>\n",
       "      <td>400000</td>\n",
       "      <td>900000</td>\n",
       "      <td>650000.0</td>\n",
       "    </tr>\n",
       "    <tr>\n",
       "      <th>4</th>\n",
       "      <td>Business Development Associate</td>\n",
       "      <td>LCX</td>\n",
       "      <td>Gurgaon</td>\n",
       "      <td>False</td>\n",
       "      <td>500000</td>\n",
       "      <td>700000</td>\n",
       "      <td>600000.0</td>\n",
       "    </tr>\n",
       "    <tr>\n",
       "      <th>5</th>\n",
       "      <td>Business Development Manager</td>\n",
       "      <td>Zuvomo</td>\n",
       "      <td>India</td>\n",
       "      <td>True</td>\n",
       "      <td>500000</td>\n",
       "      <td>800000</td>\n",
       "      <td>650000.0</td>\n",
       "    </tr>\n",
       "    <tr>\n",
       "      <th>6</th>\n",
       "      <td>Blockchain Developer</td>\n",
       "      <td>Waterneer Biokube Technologies</td>\n",
       "      <td>Alwar</td>\n",
       "      <td>True</td>\n",
       "      <td>500000</td>\n",
       "      <td>2000000</td>\n",
       "      <td>1250000.0</td>\n",
       "    </tr>\n",
       "    <tr>\n",
       "      <th>7</th>\n",
       "      <td>Blockchain Developer</td>\n",
       "      <td>TeraBlock</td>\n",
       "      <td>Remote</td>\n",
       "      <td>True</td>\n",
       "      <td>100000</td>\n",
       "      <td>200000</td>\n",
       "      <td>150000.0</td>\n",
       "    </tr>\n",
       "    <tr>\n",
       "      <th>8</th>\n",
       "      <td>Field Interviewer</td>\n",
       "      <td>Varaha ClimateAg Private Limited</td>\n",
       "      <td>Sonipat</td>\n",
       "      <td>True</td>\n",
       "      <td>800000</td>\n",
       "      <td>1000000</td>\n",
       "      <td>900000.0</td>\n",
       "    </tr>\n",
       "    <tr>\n",
       "      <th>9</th>\n",
       "      <td>Full Stack Engineer</td>\n",
       "      <td>QuillHash Technologies Pvt Ltd</td>\n",
       "      <td>New Delhi</td>\n",
       "      <td>True</td>\n",
       "      <td>400000</td>\n",
       "      <td>1500000</td>\n",
       "      <td>950000.0</td>\n",
       "    </tr>\n",
       "    <tr>\n",
       "      <th>10</th>\n",
       "      <td>Blockchain Developer</td>\n",
       "      <td>Wits Innovation Lab</td>\n",
       "      <td>Bangalore</td>\n",
       "      <td>True</td>\n",
       "      <td>400000</td>\n",
       "      <td>800000</td>\n",
       "      <td>600000.0</td>\n",
       "    </tr>\n",
       "    <tr>\n",
       "      <th>11</th>\n",
       "      <td>Content Manager</td>\n",
       "      <td>CoinFantasy</td>\n",
       "      <td>New Delhi</td>\n",
       "      <td>True</td>\n",
       "      <td>800000</td>\n",
       "      <td>800000</td>\n",
       "      <td>800000.0</td>\n",
       "    </tr>\n",
       "    <tr>\n",
       "      <th>12</th>\n",
       "      <td>Project Manager</td>\n",
       "      <td>SAVE - NGO</td>\n",
       "      <td>Tiruppūr</td>\n",
       "      <td>True</td>\n",
       "      <td>800000</td>\n",
       "      <td>1100000</td>\n",
       "      <td>950000.0</td>\n",
       "    </tr>\n",
       "    <tr>\n",
       "      <th>13</th>\n",
       "      <td>Trainer</td>\n",
       "      <td>MPACT</td>\n",
       "      <td>Warangal</td>\n",
       "      <td>True</td>\n",
       "      <td>500000</td>\n",
       "      <td>800000</td>\n",
       "      <td>650000.0</td>\n",
       "    </tr>\n",
       "    <tr>\n",
       "      <th>14</th>\n",
       "      <td>Associate Blockchain Developer</td>\n",
       "      <td>LCX</td>\n",
       "      <td>Gurgaon</td>\n",
       "      <td>False</td>\n",
       "      <td>400000</td>\n",
       "      <td>1200000</td>\n",
       "      <td>800000.0</td>\n",
       "    </tr>\n",
       "    <tr>\n",
       "      <th>15</th>\n",
       "      <td>Blockchain Developer</td>\n",
       "      <td>Ably Corporate</td>\n",
       "      <td>Noida</td>\n",
       "      <td>True</td>\n",
       "      <td>400000</td>\n",
       "      <td>800000</td>\n",
       "      <td>600000.0</td>\n",
       "    </tr>\n",
       "    <tr>\n",
       "      <th>16</th>\n",
       "      <td>Blockchain Developer</td>\n",
       "      <td>Zorang Technologies</td>\n",
       "      <td>Gurgaon</td>\n",
       "      <td>True</td>\n",
       "      <td>900000</td>\n",
       "      <td>1500000</td>\n",
       "      <td>1200000.0</td>\n",
       "    </tr>\n",
       "    <tr>\n",
       "      <th>17</th>\n",
       "      <td>Blockchain Developer</td>\n",
       "      <td>Hack2skill</td>\n",
       "      <td>Noida</td>\n",
       "      <td>False</td>\n",
       "      <td>500000</td>\n",
       "      <td>1200000</td>\n",
       "      <td>850000.0</td>\n",
       "    </tr>\n",
       "    <tr>\n",
       "      <th>18</th>\n",
       "      <td>Digital Marketing</td>\n",
       "      <td>Panaesha Capital ltd. pvt</td>\n",
       "      <td>Gurgaon</td>\n",
       "      <td>True</td>\n",
       "      <td>400000</td>\n",
       "      <td>700000</td>\n",
       "      <td>550000.0</td>\n",
       "    </tr>\n",
       "    <tr>\n",
       "      <th>19</th>\n",
       "      <td>Technical Recruiter</td>\n",
       "      <td>Lapits Technologies</td>\n",
       "      <td>Noida</td>\n",
       "      <td>False</td>\n",
       "      <td>200000</td>\n",
       "      <td>300000</td>\n",
       "      <td>250000.0</td>\n",
       "    </tr>\n",
       "    <tr>\n",
       "      <th>20</th>\n",
       "      <td>Blockchain Developer</td>\n",
       "      <td>Sweply Technology Pvt Ltd</td>\n",
       "      <td>Nashik</td>\n",
       "      <td>True</td>\n",
       "      <td>1200000</td>\n",
       "      <td>1200000</td>\n",
       "      <td>1200000.0</td>\n",
       "    </tr>\n",
       "    <tr>\n",
       "      <th>21</th>\n",
       "      <td>Blockchain Developer</td>\n",
       "      <td>ClassHose India Pvt. Ltd.</td>\n",
       "      <td>Noida</td>\n",
       "      <td>True</td>\n",
       "      <td>800000</td>\n",
       "      <td>1800000</td>\n",
       "      <td>1300000.0</td>\n",
       "    </tr>\n",
       "    <tr>\n",
       "      <th>22</th>\n",
       "      <td>Blockchain Developer</td>\n",
       "      <td>SDLC Corporation</td>\n",
       "      <td>Noida</td>\n",
       "      <td>True</td>\n",
       "      <td>100000</td>\n",
       "      <td>100000</td>\n",
       "      <td>100000.0</td>\n",
       "    </tr>\n",
       "    <tr>\n",
       "      <th>23</th>\n",
       "      <td>Blockchain Developer</td>\n",
       "      <td>Nexonweb Solution Pvt Ltd</td>\n",
       "      <td>Pune</td>\n",
       "      <td>True</td>\n",
       "      <td>200000</td>\n",
       "      <td>300000</td>\n",
       "      <td>250000.0</td>\n",
       "    </tr>\n",
       "    <tr>\n",
       "      <th>24</th>\n",
       "      <td>Blockchain Developer</td>\n",
       "      <td>HRsimpli</td>\n",
       "      <td>New Delhi</td>\n",
       "      <td>True</td>\n",
       "      <td>96000</td>\n",
       "      <td>100000</td>\n",
       "      <td>98000.0</td>\n",
       "    </tr>\n",
       "    <tr>\n",
       "      <th>25</th>\n",
       "      <td>Non Title</td>\n",
       "      <td>Cubicle Crew Pvt Ltd</td>\n",
       "      <td>Noida</td>\n",
       "      <td>False</td>\n",
       "      <td>400000</td>\n",
       "      <td>900000</td>\n",
       "      <td>650000.0</td>\n",
       "    </tr>\n",
       "    <tr>\n",
       "      <th>26</th>\n",
       "      <td>Consulting Manager</td>\n",
       "      <td>Sopra Steria</td>\n",
       "      <td>Pune</td>\n",
       "      <td>False</td>\n",
       "      <td>500000</td>\n",
       "      <td>700000</td>\n",
       "      <td>600000.0</td>\n",
       "    </tr>\n",
       "    <tr>\n",
       "      <th>27</th>\n",
       "      <td>Consultant</td>\n",
       "      <td>Tokyotechie</td>\n",
       "      <td>Bangalore</td>\n",
       "      <td>False</td>\n",
       "      <td>500000</td>\n",
       "      <td>800000</td>\n",
       "      <td>650000.0</td>\n",
       "    </tr>\n",
       "    <tr>\n",
       "      <th>28</th>\n",
       "      <td>Blockchain Developer Intern</td>\n",
       "      <td>Infosys Limited</td>\n",
       "      <td>Gurgaon</td>\n",
       "      <td>True</td>\n",
       "      <td>500000</td>\n",
       "      <td>2000000</td>\n",
       "      <td>1250000.0</td>\n",
       "    </tr>\n",
       "    <tr>\n",
       "      <th>29</th>\n",
       "      <td>Social Media Manager</td>\n",
       "      <td>Synergy Labs</td>\n",
       "      <td>New Delhi</td>\n",
       "      <td>True</td>\n",
       "      <td>100000</td>\n",
       "      <td>200000</td>\n",
       "      <td>150000.0</td>\n",
       "    </tr>\n",
       "  </tbody>\n",
       "</table>\n",
       "</div>"
      ],
      "text/plain": [
       "                             Title                           Company  \\\n",
       "0                       Consultant                   Infosys Limited   \n",
       "1      Blockchain Developer Intern                      Synergy Labs   \n",
       "2                          Trainer           REGex Software Services   \n",
       "3      Blockchain Developer Intern      Sarahna Industries Pvt. Ltd.   \n",
       "4   Business Development Associate                               LCX   \n",
       "5     Business Development Manager                            Zuvomo   \n",
       "6             Blockchain Developer    Waterneer Biokube Technologies   \n",
       "7             Blockchain Developer                         TeraBlock   \n",
       "8                Field Interviewer  Varaha ClimateAg Private Limited   \n",
       "9              Full Stack Engineer    QuillHash Technologies Pvt Ltd   \n",
       "10            Blockchain Developer               Wits Innovation Lab   \n",
       "11                 Content Manager                       CoinFantasy   \n",
       "12                 Project Manager                        SAVE - NGO   \n",
       "13                         Trainer                             MPACT   \n",
       "14  Associate Blockchain Developer                               LCX   \n",
       "15            Blockchain Developer                    Ably Corporate   \n",
       "16            Blockchain Developer               Zorang Technologies   \n",
       "17            Blockchain Developer                        Hack2skill   \n",
       "18               Digital Marketing         Panaesha Capital ltd. pvt   \n",
       "19             Technical Recruiter               Lapits Technologies   \n",
       "20            Blockchain Developer         Sweply Technology Pvt Ltd   \n",
       "21            Blockchain Developer         ClassHose India Pvt. Ltd.   \n",
       "22            Blockchain Developer                  SDLC Corporation   \n",
       "23            Blockchain Developer         Nexonweb Solution Pvt Ltd   \n",
       "24            Blockchain Developer                          HRsimpli   \n",
       "25                       Non Title              Cubicle Crew Pvt Ltd   \n",
       "26              Consulting Manager                      Sopra Steria   \n",
       "27                      Consultant                       Tokyotechie   \n",
       "28     Blockchain Developer Intern                   Infosys Limited   \n",
       "29            Social Media Manager                      Synergy Labs   \n",
       "\n",
       "     Location  Easy Apply  Salary_Lower_Limit  Salary_Upper_Limit  Avg_Salary  \n",
       "0   Bangalore       False              100000              100000    100000.0  \n",
       "1     Gurgaon        True              200000              300000    250000.0  \n",
       "2      Remote        True               96000              100000     98000.0  \n",
       "3       Noida        True              400000              900000    650000.0  \n",
       "4     Gurgaon       False              500000              700000    600000.0  \n",
       "5       India        True              500000              800000    650000.0  \n",
       "6       Alwar        True              500000             2000000   1250000.0  \n",
       "7      Remote        True              100000              200000    150000.0  \n",
       "8     Sonipat        True              800000             1000000    900000.0  \n",
       "9   New Delhi        True              400000             1500000    950000.0  \n",
       "10  Bangalore        True              400000              800000    600000.0  \n",
       "11  New Delhi        True              800000              800000    800000.0  \n",
       "12   Tiruppūr        True              800000             1100000    950000.0  \n",
       "13   Warangal        True              500000              800000    650000.0  \n",
       "14    Gurgaon       False              400000             1200000    800000.0  \n",
       "15      Noida        True              400000              800000    600000.0  \n",
       "16    Gurgaon        True              900000             1500000   1200000.0  \n",
       "17      Noida       False              500000             1200000    850000.0  \n",
       "18    Gurgaon        True              400000              700000    550000.0  \n",
       "19      Noida       False              200000              300000    250000.0  \n",
       "20     Nashik        True             1200000             1200000   1200000.0  \n",
       "21      Noida        True              800000             1800000   1300000.0  \n",
       "22      Noida        True              100000              100000    100000.0  \n",
       "23       Pune        True              200000              300000    250000.0  \n",
       "24  New Delhi        True               96000              100000     98000.0  \n",
       "25      Noida       False              400000              900000    650000.0  \n",
       "26       Pune       False              500000              700000    600000.0  \n",
       "27  Bangalore       False              500000              800000    650000.0  \n",
       "28    Gurgaon        True              500000             2000000   1250000.0  \n",
       "29  New Delhi        True              100000              200000    150000.0  "
      ]
     },
     "execution_count": 21,
     "metadata": {},
     "output_type": "execute_result"
    }
   ],
   "source": [
    "df.head(30)"
   ]
  },
  {
   "cell_type": "code",
   "execution_count": 22,
   "id": "7bb907f8",
   "metadata": {},
   "outputs": [],
   "source": [
    "df = df.drop(['Salary_Lower_Limit', 'Salary_Upper_Limit'], axis=1)"
   ]
  },
  {
   "cell_type": "code",
   "execution_count": 23,
   "id": "64c9e28a",
   "metadata": {},
   "outputs": [
    {
     "data": {
      "text/html": [
       "<div>\n",
       "<style scoped>\n",
       "    .dataframe tbody tr th:only-of-type {\n",
       "        vertical-align: middle;\n",
       "    }\n",
       "\n",
       "    .dataframe tbody tr th {\n",
       "        vertical-align: top;\n",
       "    }\n",
       "\n",
       "    .dataframe thead th {\n",
       "        text-align: right;\n",
       "    }\n",
       "</style>\n",
       "<table border=\"1\" class=\"dataframe\">\n",
       "  <thead>\n",
       "    <tr style=\"text-align: right;\">\n",
       "      <th></th>\n",
       "      <th>Title</th>\n",
       "      <th>Company</th>\n",
       "      <th>Location</th>\n",
       "      <th>Easy Apply</th>\n",
       "      <th>Avg_Salary</th>\n",
       "    </tr>\n",
       "  </thead>\n",
       "  <tbody>\n",
       "    <tr>\n",
       "      <th>0</th>\n",
       "      <td>Consultant</td>\n",
       "      <td>Infosys Limited</td>\n",
       "      <td>Bangalore</td>\n",
       "      <td>False</td>\n",
       "      <td>100000.0</td>\n",
       "    </tr>\n",
       "    <tr>\n",
       "      <th>1</th>\n",
       "      <td>Blockchain Developer Intern</td>\n",
       "      <td>Synergy Labs</td>\n",
       "      <td>Gurgaon</td>\n",
       "      <td>True</td>\n",
       "      <td>250000.0</td>\n",
       "    </tr>\n",
       "    <tr>\n",
       "      <th>2</th>\n",
       "      <td>Trainer</td>\n",
       "      <td>REGex Software Services</td>\n",
       "      <td>Remote</td>\n",
       "      <td>True</td>\n",
       "      <td>98000.0</td>\n",
       "    </tr>\n",
       "    <tr>\n",
       "      <th>3</th>\n",
       "      <td>Blockchain Developer Intern</td>\n",
       "      <td>Sarahna Industries Pvt. Ltd.</td>\n",
       "      <td>Noida</td>\n",
       "      <td>True</td>\n",
       "      <td>650000.0</td>\n",
       "    </tr>\n",
       "    <tr>\n",
       "      <th>4</th>\n",
       "      <td>Business Development Associate</td>\n",
       "      <td>LCX</td>\n",
       "      <td>Gurgaon</td>\n",
       "      <td>False</td>\n",
       "      <td>600000.0</td>\n",
       "    </tr>\n",
       "    <tr>\n",
       "      <th>5</th>\n",
       "      <td>Business Development Manager</td>\n",
       "      <td>Zuvomo</td>\n",
       "      <td>India</td>\n",
       "      <td>True</td>\n",
       "      <td>650000.0</td>\n",
       "    </tr>\n",
       "    <tr>\n",
       "      <th>6</th>\n",
       "      <td>Blockchain Developer</td>\n",
       "      <td>Waterneer Biokube Technologies</td>\n",
       "      <td>Alwar</td>\n",
       "      <td>True</td>\n",
       "      <td>1250000.0</td>\n",
       "    </tr>\n",
       "    <tr>\n",
       "      <th>7</th>\n",
       "      <td>Blockchain Developer</td>\n",
       "      <td>TeraBlock</td>\n",
       "      <td>Remote</td>\n",
       "      <td>True</td>\n",
       "      <td>150000.0</td>\n",
       "    </tr>\n",
       "    <tr>\n",
       "      <th>8</th>\n",
       "      <td>Field Interviewer</td>\n",
       "      <td>Varaha ClimateAg Private Limited</td>\n",
       "      <td>Sonipat</td>\n",
       "      <td>True</td>\n",
       "      <td>900000.0</td>\n",
       "    </tr>\n",
       "    <tr>\n",
       "      <th>9</th>\n",
       "      <td>Full Stack Engineer</td>\n",
       "      <td>QuillHash Technologies Pvt Ltd</td>\n",
       "      <td>New Delhi</td>\n",
       "      <td>True</td>\n",
       "      <td>950000.0</td>\n",
       "    </tr>\n",
       "    <tr>\n",
       "      <th>10</th>\n",
       "      <td>Blockchain Developer</td>\n",
       "      <td>Wits Innovation Lab</td>\n",
       "      <td>Bangalore</td>\n",
       "      <td>True</td>\n",
       "      <td>600000.0</td>\n",
       "    </tr>\n",
       "    <tr>\n",
       "      <th>11</th>\n",
       "      <td>Content Manager</td>\n",
       "      <td>CoinFantasy</td>\n",
       "      <td>New Delhi</td>\n",
       "      <td>True</td>\n",
       "      <td>800000.0</td>\n",
       "    </tr>\n",
       "    <tr>\n",
       "      <th>12</th>\n",
       "      <td>Project Manager</td>\n",
       "      <td>SAVE - NGO</td>\n",
       "      <td>Tiruppūr</td>\n",
       "      <td>True</td>\n",
       "      <td>950000.0</td>\n",
       "    </tr>\n",
       "    <tr>\n",
       "      <th>13</th>\n",
       "      <td>Trainer</td>\n",
       "      <td>MPACT</td>\n",
       "      <td>Warangal</td>\n",
       "      <td>True</td>\n",
       "      <td>650000.0</td>\n",
       "    </tr>\n",
       "    <tr>\n",
       "      <th>14</th>\n",
       "      <td>Associate Blockchain Developer</td>\n",
       "      <td>LCX</td>\n",
       "      <td>Gurgaon</td>\n",
       "      <td>False</td>\n",
       "      <td>800000.0</td>\n",
       "    </tr>\n",
       "    <tr>\n",
       "      <th>15</th>\n",
       "      <td>Blockchain Developer</td>\n",
       "      <td>Ably Corporate</td>\n",
       "      <td>Noida</td>\n",
       "      <td>True</td>\n",
       "      <td>600000.0</td>\n",
       "    </tr>\n",
       "    <tr>\n",
       "      <th>16</th>\n",
       "      <td>Blockchain Developer</td>\n",
       "      <td>Zorang Technologies</td>\n",
       "      <td>Gurgaon</td>\n",
       "      <td>True</td>\n",
       "      <td>1200000.0</td>\n",
       "    </tr>\n",
       "    <tr>\n",
       "      <th>17</th>\n",
       "      <td>Blockchain Developer</td>\n",
       "      <td>Hack2skill</td>\n",
       "      <td>Noida</td>\n",
       "      <td>False</td>\n",
       "      <td>850000.0</td>\n",
       "    </tr>\n",
       "    <tr>\n",
       "      <th>18</th>\n",
       "      <td>Digital Marketing</td>\n",
       "      <td>Panaesha Capital ltd. pvt</td>\n",
       "      <td>Gurgaon</td>\n",
       "      <td>True</td>\n",
       "      <td>550000.0</td>\n",
       "    </tr>\n",
       "    <tr>\n",
       "      <th>19</th>\n",
       "      <td>Technical Recruiter</td>\n",
       "      <td>Lapits Technologies</td>\n",
       "      <td>Noida</td>\n",
       "      <td>False</td>\n",
       "      <td>250000.0</td>\n",
       "    </tr>\n",
       "  </tbody>\n",
       "</table>\n",
       "</div>"
      ],
      "text/plain": [
       "                             Title                           Company  \\\n",
       "0                       Consultant                   Infosys Limited   \n",
       "1      Blockchain Developer Intern                      Synergy Labs   \n",
       "2                          Trainer           REGex Software Services   \n",
       "3      Blockchain Developer Intern      Sarahna Industries Pvt. Ltd.   \n",
       "4   Business Development Associate                               LCX   \n",
       "5     Business Development Manager                            Zuvomo   \n",
       "6             Blockchain Developer    Waterneer Biokube Technologies   \n",
       "7             Blockchain Developer                         TeraBlock   \n",
       "8                Field Interviewer  Varaha ClimateAg Private Limited   \n",
       "9              Full Stack Engineer    QuillHash Technologies Pvt Ltd   \n",
       "10            Blockchain Developer               Wits Innovation Lab   \n",
       "11                 Content Manager                       CoinFantasy   \n",
       "12                 Project Manager                        SAVE - NGO   \n",
       "13                         Trainer                             MPACT   \n",
       "14  Associate Blockchain Developer                               LCX   \n",
       "15            Blockchain Developer                    Ably Corporate   \n",
       "16            Blockchain Developer               Zorang Technologies   \n",
       "17            Blockchain Developer                        Hack2skill   \n",
       "18               Digital Marketing         Panaesha Capital ltd. pvt   \n",
       "19             Technical Recruiter               Lapits Technologies   \n",
       "\n",
       "     Location  Easy Apply  Avg_Salary  \n",
       "0   Bangalore       False    100000.0  \n",
       "1     Gurgaon        True    250000.0  \n",
       "2      Remote        True     98000.0  \n",
       "3       Noida        True    650000.0  \n",
       "4     Gurgaon       False    600000.0  \n",
       "5       India        True    650000.0  \n",
       "6       Alwar        True   1250000.0  \n",
       "7      Remote        True    150000.0  \n",
       "8     Sonipat        True    900000.0  \n",
       "9   New Delhi        True    950000.0  \n",
       "10  Bangalore        True    600000.0  \n",
       "11  New Delhi        True    800000.0  \n",
       "12   Tiruppūr        True    950000.0  \n",
       "13   Warangal        True    650000.0  \n",
       "14    Gurgaon       False    800000.0  \n",
       "15      Noida        True    600000.0  \n",
       "16    Gurgaon        True   1200000.0  \n",
       "17      Noida       False    850000.0  \n",
       "18    Gurgaon        True    550000.0  \n",
       "19      Noida       False    250000.0  "
      ]
     },
     "execution_count": 23,
     "metadata": {},
     "output_type": "execute_result"
    }
   ],
   "source": [
    "df.head(20)"
   ]
  },
  {
   "cell_type": "code",
   "execution_count": 32,
   "id": "beed5a9b-94d6-4dee-8d17-b36bec670a4a",
   "metadata": {},
   "outputs": [
    {
     "name": "stdout",
     "output_type": "stream",
     "text": [
      "Accuracy: 0.25\n",
      "Classification Report:\n",
      "              precision    recall  f1-score   support\n",
      "\n",
      "       False       0.00      0.00      0.00         2\n",
      "        True       0.33      0.50      0.40         2\n",
      "\n",
      "    accuracy                           0.25         4\n",
      "   macro avg       0.17      0.25      0.20         4\n",
      "weighted avg       0.17      0.25      0.20         4\n",
      "\n"
     ]
    }
   ],
   "source": [
    "import pandas as pd\n",
    "from sklearn.model_selection import train_test_split\n",
    "from sklearn.linear_model import LogisticRegression\n",
    "from sklearn.metrics import accuracy_score, classification_report\n",
    "from sklearn.preprocessing import StandardScaler, OneHotEncoder\n",
    "from sklearn.compose import ColumnTransformer\n",
    "from sklearn.pipeline import Pipeline\n",
    "import warnings\n",
    "\n",
    "# Load the data\n",
    "data = {\n",
    "    \"Title\": [\"Consultant\", \"Blockchain Developer Intern\", \"Trainer\", \"Blockchain Developer Intern\", \"Business Development Associate\", \"Business Development Manager\", \"Blockchain Developer\", \"Blockchain Developer\", \"Field Interviewer\", \"Full Stack Engineer\", \"Blockchain Developer\", \"Content Manager\", \"Project Manager\", \"Trainer\", \"Associate Blockchain Developer\", \"Blockchain Developer\", \"Blockchain Developer\", \"Blockchain Developer\", \"Digital Marketing\", \"Technical Recruiter\"],\n",
    "    \"Company\": [\"Infosys Limited\", \"Synergy Labs\", \"REGex Software Services\", \"Sarahna Industries Pvt. Ltd.\", \"LCX\", \"Zuvomo\", \"Waterneer Biokube Technologies\", \"TeraBlock\", \"Varaha ClimateAg Private Limited\", \"QuillHash Technologies Pvt Ltd\", \"Wits Innovation Lab\", \"CoinFantasy\", \"SAVE - NGO\", \"MPACT\", \"LCX\", \"Ably Corporate\", \"Zorang Technologies\", \"Hack2skill\", \"Panaesha Capital ltd. pvt\", \"Lapits Technologies\"],\n",
    "    \"Location\": [\"Bangalore\", \"Gurgaon\", \"Remote\", \"Noida\", \"Gurgaon\", \"India\", \"Alwar\", \"Remote\", \"Sonipat\", \"New Delhi\", \"Bangalore\", \"New Delhi\", \"Tiruppūr\", \"Warangal\", \"Gurgaon\", \"Noida\", \"Gurgaon\", \"Noida\", \"Gurgaon\", \"Noida\"],\n",
    "    \"Easy Apply\": [False, True, True, True, False, True, True, True, True, True, True, True, True, True, False, True, True, False, True, False],\n",
    "    \"Avg_Salary\": [100000.0, 250000.0, 98000.0, 650000.0, 600000.0, 650000.0, 1250000.0, 150000.0, 900000.0, 950000.0, 600000.0, 800000.0, 950000.0, 650000.0, 800000.0, 600000.0, 1200000.0, 850000.0, 550000.0, 250000.0]\n",
    "}\n",
    "\n",
    "df = pd.DataFrame(data)\n",
    "\n",
    "# Separating features and target variable\n",
    "X = df.drop(columns=[\"Easy Apply\"])\n",
    "y = df[\"Easy Apply\"]\n",
    "\n",
    "# Splitting data into training and testing sets\n",
    "X_train, X_test, y_train, y_test = train_test_split(X, y, test_size=0.2, random_state=42)\n",
    "\n",
    "# Suppressing the UndefinedMetricWarning\n",
    "warnings.filterwarnings(\"ignore\", category=UserWarning)\n",
    "\n",
    "# Preprocessing numerical and categorical features separately\n",
    "numeric_features = ['Avg_Salary']\n",
    "categorical_features = ['Title', 'Company', 'Location']\n",
    "\n",
    "numeric_transformer = Pipeline(steps=[\n",
    "    ('scaler', StandardScaler())\n",
    "])\n",
    "\n",
    "categorical_transformer = Pipeline(steps=[\n",
    "    ('onehot', OneHotEncoder(handle_unknown='ignore'))\n",
    "])\n",
    "\n",
    "# Combining numerical and categorical transformers\n",
    "preprocessor = ColumnTransformer(\n",
    "    transformers=[\n",
    "        ('num', numeric_transformer, numeric_features),\n",
    "        ('cat', categorical_transformer, categorical_features)\n",
    "    ])\n",
    "\n",
    "# Creating a pipeline with preprocessing and Logistic Regression\n",
    "pipeline = Pipeline(steps=[('preprocessor', preprocessor),\n",
    "                           ('classifier', LogisticRegression(class_weight='balanced', random_state=42))])\n",
    "\n",
    "# Training the model\n",
    "pipeline.fit(X_train, y_train)\n",
    "\n",
    "# Making predictions\n",
    "y_pred = pipeline.predict(X_test)\n",
    "\n",
    "# Evaluating the model\n",
    "accuracy = accuracy_score(y_test, y_pred)\n",
    "print(\"Accuracy:\", accuracy)\n",
    "print(\"Classification Report:\")\n",
    "print(classification_report(y_test, y_pred))\n"
   ]
  },
  {
   "cell_type": "code",
   "execution_count": 16,
   "id": "72240814-7148-4f74-92c1-4aeb428f0684",
   "metadata": {},
   "outputs": [
    {
     "name": "stdout",
     "output_type": "stream",
     "text": [
      "Accuracy: 0.5\n",
      "Classification Report:\n",
      "              precision    recall  f1-score   support\n",
      "\n",
      "       False       0.00      0.00      0.00         2\n",
      "        True       0.50      1.00      0.67         2\n",
      "\n",
      "    accuracy                           0.50         4\n",
      "   macro avg       0.25      0.50      0.33         4\n",
      "weighted avg       0.25      0.50      0.33         4\n",
      "\n"
     ]
    }
   ],
   "source": [
    "import pandas as pd\n",
    "from sklearn.model_selection import train_test_split\n",
    "from sklearn.linear_model import LogisticRegression\n",
    "from sklearn.metrics import accuracy_score, classification_report\n",
    "from sklearn.preprocessing import StandardScaler, OneHotEncoder\n",
    "from sklearn.compose import ColumnTransformer\n",
    "from sklearn.pipeline import Pipeline\n",
    "import warnings\n",
    "\n",
    "# Load the data from CSV\n",
    "data = pd.read_csv(\"sorted.csv\")\n",
    "\n",
    "# Separating features and target variable\n",
    "X = data.drop(columns=[\"Easy Apply\"])\n",
    "y = data[\"Easy Apply\"]\n",
    "\n",
    "# Splitting data into training and testing sets\n",
    "X_train, X_test, y_train, y_test = train_test_split(X, y, test_size=0.2, random_state=42)\n",
    "\n",
    "# Suppressing the UndefinedMetricWarning\n",
    "warnings.filterwarnings(\"ignore\", category=UserWarning)\n",
    "\n",
    "# Preprocessing categorical features\n",
    "categorical_features = ['Title', 'Company', 'Location']\n",
    "\n",
    "categorical_transformer = Pipeline(steps=[\n",
    "    ('onehot', OneHotEncoder(handle_unknown='ignore'))\n",
    "])\n",
    "\n",
    "# Combining categorical transformer\n",
    "preprocessor = ColumnTransformer(\n",
    "    transformers=[\n",
    "        ('cat', categorical_transformer, categorical_features)\n",
    "    ])\n",
    "\n",
    "# Creating a pipeline with preprocessing and Logistic Regression\n",
    "pipeline = Pipeline(steps=[('preprocessor', preprocessor),\n",
    "                           ('classifier', LogisticRegression(class_weight='balanced', random_state=42))])\n",
    "\n",
    "# Training the model\n",
    "pipeline.fit(X_train, y_train)\n",
    "\n",
    "# Making predictions\n",
    "y_pred = pipeline.predict(X_test)\n",
    "\n",
    "# Evaluating the model\n",
    "accuracy = accuracy_score(y_test, y_pred)\n",
    "print(\"Accuracy:\", accuracy)\n",
    "print(\"Classification Report:\")\n",
    "print(classification_report(y_test, y_pred))"
   ]
  },
  {
   "cell_type": "code",
   "execution_count": 15,
   "id": "69fdfd54-607a-46ea-8833-77dd3928cda5",
   "metadata": {},
   "outputs": [
    {
     "name": "stdout",
     "output_type": "stream",
     "text": [
      "Accuracy: 0.5\n",
      "Classification Report:\n",
      "              precision    recall  f1-score   support\n",
      "\n",
      "       False       0.00      0.00      0.00         2\n",
      "        True       0.50      1.00      0.67         2\n",
      "\n",
      "    accuracy                           0.50         4\n",
      "   macro avg       0.25      0.50      0.33         4\n",
      "weighted avg       0.25      0.50      0.33         4\n",
      "\n"
     ]
    },
    {
     "data": {
      "application/vnd.plotly.v1+json": {
       "config": {
        "plotlyServerURL": "https://plot.ly"
       },
       "data": [
        {
         "colorscale": [
          [
           0,
           "#636efa"
          ],
          [
           1,
           "#636efa"
          ]
         ],
         "geo": "geo",
         "hovertemplate": "<b>%{hovertext}</b><br><br>Easy Apply=False<br>Location=%{location}<extra></extra>",
         "hovertext": [
          "Bangalore",
          "Gurgaon",
          "Gurgaon",
          "Noida",
          "Noida"
         ],
         "locationmode": "ISO-3",
         "locations": [
          "Bangalore",
          "Gurgaon",
          "Gurgaon",
          "Noida",
          "Noida"
         ],
         "name": "False",
         "showlegend": true,
         "showscale": false,
         "type": "choropleth",
         "z": [
          1,
          1,
          1,
          1,
          1
         ]
        },
        {
         "colorscale": [
          [
           0,
           "#EF553B"
          ],
          [
           1,
           "#EF553B"
          ]
         ],
         "geo": "geo",
         "hovertemplate": "<b>%{hovertext}</b><br><br>Easy Apply=True<br>Location=%{location}<extra></extra>",
         "hovertext": [
          "Gurgaon",
          "Remote",
          "Noida",
          "India",
          "Alwar",
          "Remote",
          "Sonipat",
          "New Delhi",
          "Bangalore",
          "New Delhi",
          "Tiruppūr",
          "Warangal",
          "Noida",
          "Gurgaon",
          "Gurgaon"
         ],
         "locationmode": "ISO-3",
         "locations": [
          "Gurgaon",
          "Remote",
          "Noida",
          "India",
          "Alwar",
          "Remote",
          "Sonipat",
          "New Delhi",
          "Bangalore",
          "New Delhi",
          "Tiruppūr",
          "Warangal",
          "Noida",
          "Gurgaon",
          "Gurgaon"
         ],
         "name": "True",
         "showlegend": true,
         "showscale": false,
         "type": "choropleth",
         "z": [
          1,
          1,
          1,
          1,
          1,
          1,
          1,
          1,
          1,
          1,
          1,
          1,
          1,
          1,
          1
         ]
        }
       ],
       "layout": {
        "autosize": true,
        "geo": {
         "center": {
          "lat": 20,
          "lon": 91
         },
         "domain": {
          "x": [
           0,
           1
          ],
          "y": [
           0,
           1
          ]
         },
         "fitbounds": false,
         "projection": {
          "scale": 1
         },
         "scope": "asia"
        },
        "legend": {
         "title": {
          "text": "Easy Apply"
         },
         "tracegroupgap": 0
        },
        "template": {
         "data": {
          "bar": [
           {
            "error_x": {
             "color": "#2a3f5f"
            },
            "error_y": {
             "color": "#2a3f5f"
            },
            "marker": {
             "line": {
              "color": "#E5ECF6",
              "width": 0.5
             },
             "pattern": {
              "fillmode": "overlay",
              "size": 10,
              "solidity": 0.2
             }
            },
            "type": "bar"
           }
          ],
          "barpolar": [
           {
            "marker": {
             "line": {
              "color": "#E5ECF6",
              "width": 0.5
             },
             "pattern": {
              "fillmode": "overlay",
              "size": 10,
              "solidity": 0.2
             }
            },
            "type": "barpolar"
           }
          ],
          "carpet": [
           {
            "aaxis": {
             "endlinecolor": "#2a3f5f",
             "gridcolor": "white",
             "linecolor": "white",
             "minorgridcolor": "white",
             "startlinecolor": "#2a3f5f"
            },
            "baxis": {
             "endlinecolor": "#2a3f5f",
             "gridcolor": "white",
             "linecolor": "white",
             "minorgridcolor": "white",
             "startlinecolor": "#2a3f5f"
            },
            "type": "carpet"
           }
          ],
          "choropleth": [
           {
            "colorbar": {
             "outlinewidth": 0,
             "ticks": ""
            },
            "type": "choropleth"
           }
          ],
          "contour": [
           {
            "colorbar": {
             "outlinewidth": 0,
             "ticks": ""
            },
            "colorscale": [
             [
              0,
              "#0d0887"
             ],
             [
              0.1111111111111111,
              "#46039f"
             ],
             [
              0.2222222222222222,
              "#7201a8"
             ],
             [
              0.3333333333333333,
              "#9c179e"
             ],
             [
              0.4444444444444444,
              "#bd3786"
             ],
             [
              0.5555555555555556,
              "#d8576b"
             ],
             [
              0.6666666666666666,
              "#ed7953"
             ],
             [
              0.7777777777777778,
              "#fb9f3a"
             ],
             [
              0.8888888888888888,
              "#fdca26"
             ],
             [
              1,
              "#f0f921"
             ]
            ],
            "type": "contour"
           }
          ],
          "contourcarpet": [
           {
            "colorbar": {
             "outlinewidth": 0,
             "ticks": ""
            },
            "type": "contourcarpet"
           }
          ],
          "heatmap": [
           {
            "colorbar": {
             "outlinewidth": 0,
             "ticks": ""
            },
            "colorscale": [
             [
              0,
              "#0d0887"
             ],
             [
              0.1111111111111111,
              "#46039f"
             ],
             [
              0.2222222222222222,
              "#7201a8"
             ],
             [
              0.3333333333333333,
              "#9c179e"
             ],
             [
              0.4444444444444444,
              "#bd3786"
             ],
             [
              0.5555555555555556,
              "#d8576b"
             ],
             [
              0.6666666666666666,
              "#ed7953"
             ],
             [
              0.7777777777777778,
              "#fb9f3a"
             ],
             [
              0.8888888888888888,
              "#fdca26"
             ],
             [
              1,
              "#f0f921"
             ]
            ],
            "type": "heatmap"
           }
          ],
          "heatmapgl": [
           {
            "colorbar": {
             "outlinewidth": 0,
             "ticks": ""
            },
            "colorscale": [
             [
              0,
              "#0d0887"
             ],
             [
              0.1111111111111111,
              "#46039f"
             ],
             [
              0.2222222222222222,
              "#7201a8"
             ],
             [
              0.3333333333333333,
              "#9c179e"
             ],
             [
              0.4444444444444444,
              "#bd3786"
             ],
             [
              0.5555555555555556,
              "#d8576b"
             ],
             [
              0.6666666666666666,
              "#ed7953"
             ],
             [
              0.7777777777777778,
              "#fb9f3a"
             ],
             [
              0.8888888888888888,
              "#fdca26"
             ],
             [
              1,
              "#f0f921"
             ]
            ],
            "type": "heatmapgl"
           }
          ],
          "histogram": [
           {
            "marker": {
             "pattern": {
              "fillmode": "overlay",
              "size": 10,
              "solidity": 0.2
             }
            },
            "type": "histogram"
           }
          ],
          "histogram2d": [
           {
            "colorbar": {
             "outlinewidth": 0,
             "ticks": ""
            },
            "colorscale": [
             [
              0,
              "#0d0887"
             ],
             [
              0.1111111111111111,
              "#46039f"
             ],
             [
              0.2222222222222222,
              "#7201a8"
             ],
             [
              0.3333333333333333,
              "#9c179e"
             ],
             [
              0.4444444444444444,
              "#bd3786"
             ],
             [
              0.5555555555555556,
              "#d8576b"
             ],
             [
              0.6666666666666666,
              "#ed7953"
             ],
             [
              0.7777777777777778,
              "#fb9f3a"
             ],
             [
              0.8888888888888888,
              "#fdca26"
             ],
             [
              1,
              "#f0f921"
             ]
            ],
            "type": "histogram2d"
           }
          ],
          "histogram2dcontour": [
           {
            "colorbar": {
             "outlinewidth": 0,
             "ticks": ""
            },
            "colorscale": [
             [
              0,
              "#0d0887"
             ],
             [
              0.1111111111111111,
              "#46039f"
             ],
             [
              0.2222222222222222,
              "#7201a8"
             ],
             [
              0.3333333333333333,
              "#9c179e"
             ],
             [
              0.4444444444444444,
              "#bd3786"
             ],
             [
              0.5555555555555556,
              "#d8576b"
             ],
             [
              0.6666666666666666,
              "#ed7953"
             ],
             [
              0.7777777777777778,
              "#fb9f3a"
             ],
             [
              0.8888888888888888,
              "#fdca26"
             ],
             [
              1,
              "#f0f921"
             ]
            ],
            "type": "histogram2dcontour"
           }
          ],
          "mesh3d": [
           {
            "colorbar": {
             "outlinewidth": 0,
             "ticks": ""
            },
            "type": "mesh3d"
           }
          ],
          "parcoords": [
           {
            "line": {
             "colorbar": {
              "outlinewidth": 0,
              "ticks": ""
             }
            },
            "type": "parcoords"
           }
          ],
          "pie": [
           {
            "automargin": true,
            "type": "pie"
           }
          ],
          "scatter": [
           {
            "fillpattern": {
             "fillmode": "overlay",
             "size": 10,
             "solidity": 0.2
            },
            "type": "scatter"
           }
          ],
          "scatter3d": [
           {
            "line": {
             "colorbar": {
              "outlinewidth": 0,
              "ticks": ""
             }
            },
            "marker": {
             "colorbar": {
              "outlinewidth": 0,
              "ticks": ""
             }
            },
            "type": "scatter3d"
           }
          ],
          "scattercarpet": [
           {
            "marker": {
             "colorbar": {
              "outlinewidth": 0,
              "ticks": ""
             }
            },
            "type": "scattercarpet"
           }
          ],
          "scattergeo": [
           {
            "marker": {
             "colorbar": {
              "outlinewidth": 0,
              "ticks": ""
             }
            },
            "type": "scattergeo"
           }
          ],
          "scattergl": [
           {
            "marker": {
             "colorbar": {
              "outlinewidth": 0,
              "ticks": ""
             }
            },
            "type": "scattergl"
           }
          ],
          "scattermapbox": [
           {
            "marker": {
             "colorbar": {
              "outlinewidth": 0,
              "ticks": ""
             }
            },
            "type": "scattermapbox"
           }
          ],
          "scatterpolar": [
           {
            "marker": {
             "colorbar": {
              "outlinewidth": 0,
              "ticks": ""
             }
            },
            "type": "scatterpolar"
           }
          ],
          "scatterpolargl": [
           {
            "marker": {
             "colorbar": {
              "outlinewidth": 0,
              "ticks": ""
             }
            },
            "type": "scatterpolargl"
           }
          ],
          "scatterternary": [
           {
            "marker": {
             "colorbar": {
              "outlinewidth": 0,
              "ticks": ""
             }
            },
            "type": "scatterternary"
           }
          ],
          "surface": [
           {
            "colorbar": {
             "outlinewidth": 0,
             "ticks": ""
            },
            "colorscale": [
             [
              0,
              "#0d0887"
             ],
             [
              0.1111111111111111,
              "#46039f"
             ],
             [
              0.2222222222222222,
              "#7201a8"
             ],
             [
              0.3333333333333333,
              "#9c179e"
             ],
             [
              0.4444444444444444,
              "#bd3786"
             ],
             [
              0.5555555555555556,
              "#d8576b"
             ],
             [
              0.6666666666666666,
              "#ed7953"
             ],
             [
              0.7777777777777778,
              "#fb9f3a"
             ],
             [
              0.8888888888888888,
              "#fdca26"
             ],
             [
              1,
              "#f0f921"
             ]
            ],
            "type": "surface"
           }
          ],
          "table": [
           {
            "cells": {
             "fill": {
              "color": "#EBF0F8"
             },
             "line": {
              "color": "white"
             }
            },
            "header": {
             "fill": {
              "color": "#C8D4E3"
             },
             "line": {
              "color": "white"
             }
            },
            "type": "table"
           }
          ]
         },
         "layout": {
          "annotationdefaults": {
           "arrowcolor": "#2a3f5f",
           "arrowhead": 0,
           "arrowwidth": 1
          },
          "autotypenumbers": "strict",
          "coloraxis": {
           "colorbar": {
            "outlinewidth": 0,
            "ticks": ""
           }
          },
          "colorscale": {
           "diverging": [
            [
             0,
             "#8e0152"
            ],
            [
             0.1,
             "#c51b7d"
            ],
            [
             0.2,
             "#de77ae"
            ],
            [
             0.3,
             "#f1b6da"
            ],
            [
             0.4,
             "#fde0ef"
            ],
            [
             0.5,
             "#f7f7f7"
            ],
            [
             0.6,
             "#e6f5d0"
            ],
            [
             0.7,
             "#b8e186"
            ],
            [
             0.8,
             "#7fbc41"
            ],
            [
             0.9,
             "#4d9221"
            ],
            [
             1,
             "#276419"
            ]
           ],
           "sequential": [
            [
             0,
             "#0d0887"
            ],
            [
             0.1111111111111111,
             "#46039f"
            ],
            [
             0.2222222222222222,
             "#7201a8"
            ],
            [
             0.3333333333333333,
             "#9c179e"
            ],
            [
             0.4444444444444444,
             "#bd3786"
            ],
            [
             0.5555555555555556,
             "#d8576b"
            ],
            [
             0.6666666666666666,
             "#ed7953"
            ],
            [
             0.7777777777777778,
             "#fb9f3a"
            ],
            [
             0.8888888888888888,
             "#fdca26"
            ],
            [
             1,
             "#f0f921"
            ]
           ],
           "sequentialminus": [
            [
             0,
             "#0d0887"
            ],
            [
             0.1111111111111111,
             "#46039f"
            ],
            [
             0.2222222222222222,
             "#7201a8"
            ],
            [
             0.3333333333333333,
             "#9c179e"
            ],
            [
             0.4444444444444444,
             "#bd3786"
            ],
            [
             0.5555555555555556,
             "#d8576b"
            ],
            [
             0.6666666666666666,
             "#ed7953"
            ],
            [
             0.7777777777777778,
             "#fb9f3a"
            ],
            [
             0.8888888888888888,
             "#fdca26"
            ],
            [
             1,
             "#f0f921"
            ]
           ]
          },
          "colorway": [
           "#636efa",
           "#EF553B",
           "#00cc96",
           "#ab63fa",
           "#FFA15A",
           "#19d3f3",
           "#FF6692",
           "#B6E880",
           "#FF97FF",
           "#FECB52"
          ],
          "font": {
           "color": "#2a3f5f"
          },
          "geo": {
           "bgcolor": "white",
           "lakecolor": "white",
           "landcolor": "#E5ECF6",
           "showlakes": true,
           "showland": true,
           "subunitcolor": "white"
          },
          "hoverlabel": {
           "align": "left"
          },
          "hovermode": "closest",
          "mapbox": {
           "style": "light"
          },
          "paper_bgcolor": "white",
          "plot_bgcolor": "#E5ECF6",
          "polar": {
           "angularaxis": {
            "gridcolor": "white",
            "linecolor": "white",
            "ticks": ""
           },
           "bgcolor": "#E5ECF6",
           "radialaxis": {
            "gridcolor": "white",
            "linecolor": "white",
            "ticks": ""
           }
          },
          "scene": {
           "xaxis": {
            "backgroundcolor": "#E5ECF6",
            "gridcolor": "white",
            "gridwidth": 2,
            "linecolor": "white",
            "showbackground": true,
            "ticks": "",
            "zerolinecolor": "white"
           },
           "yaxis": {
            "backgroundcolor": "#E5ECF6",
            "gridcolor": "white",
            "gridwidth": 2,
            "linecolor": "white",
            "showbackground": true,
            "ticks": "",
            "zerolinecolor": "white"
           },
           "zaxis": {
            "backgroundcolor": "#E5ECF6",
            "gridcolor": "white",
            "gridwidth": 2,
            "linecolor": "white",
            "showbackground": true,
            "ticks": "",
            "zerolinecolor": "white"
           }
          },
          "shapedefaults": {
           "line": {
            "color": "#2a3f5f"
           }
          },
          "ternary": {
           "aaxis": {
            "gridcolor": "white",
            "linecolor": "white",
            "ticks": ""
           },
           "baxis": {
            "gridcolor": "white",
            "linecolor": "white",
            "ticks": ""
           },
           "bgcolor": "#E5ECF6",
           "caxis": {
            "gridcolor": "white",
            "linecolor": "white",
            "ticks": ""
           }
          },
          "title": {
           "x": 0.05
          },
          "xaxis": {
           "automargin": true,
           "gridcolor": "white",
           "linecolor": "white",
           "ticks": "",
           "title": {
            "standoff": 15
           },
           "zerolinecolor": "white",
           "zerolinewidth": 2
          },
          "yaxis": {
           "automargin": true,
           "gridcolor": "white",
           "linecolor": "white",
           "ticks": "",
           "title": {
            "standoff": 15
           },
           "zerolinecolor": "white",
           "zerolinewidth": 2
          }
         }
        },
        "title": {
         "text": "Easy Apply by State in India"
        }
       }
      },
      "image/png": "[encoded data removed]",
      "text/html": [
       "<div>                            <div id=\"3a40e07d-8013-4371-8486-c86d53e2bfe5\" class=\"plotly-graph-div\" style=\"height:525px; width:100%;\"></div>            <script type=\"text/javascript\">                require([\"plotly\"], function(Plotly) {                    window.PLOTLYENV=window.PLOTLYENV || {};                                    if (document.getElementById(\"3a40e07d-8013-4371-8486-c86d53e2bfe5\")) {                    Plotly.newPlot(                        \"3a40e07d-8013-4371-8486-c86d53e2bfe5\",                        [{\"colorscale\":[[0.0,\"#636efa\"],[1.0,\"#636efa\"]],\"geo\":\"geo\",\"hovertemplate\":\"\\u003cb\\u003e%{hovertext}\\u003c\\u002fb\\u003e\\u003cbr\\u003e\\u003cbr\\u003eEasy Apply=False\\u003cbr\\u003eLocation=%{location}\\u003cextra\\u003e\\u003c\\u002fextra\\u003e\",\"hovertext\":[\"Bangalore\",\"Gurgaon\",\"Gurgaon\",\"Noida\",\"Noida\"],\"locationmode\":\"ISO-3\",\"locations\":[\"Bangalore\",\"Gurgaon\",\"Gurgaon\",\"Noida\",\"Noida\"],\"name\":\"False\",\"showlegend\":true,\"showscale\":false,\"z\":[1,1,1,1,1],\"type\":\"choropleth\"},{\"colorscale\":[[0.0,\"#EF553B\"],[1.0,\"#EF553B\"]],\"geo\":\"geo\",\"hovertemplate\":\"\\u003cb\\u003e%{hovertext}\\u003c\\u002fb\\u003e\\u003cbr\\u003e\\u003cbr\\u003eEasy Apply=True\\u003cbr\\u003eLocation=%{location}\\u003cextra\\u003e\\u003c\\u002fextra\\u003e\",\"hovertext\":[\"Gurgaon\",\"Remote\",\"Noida\",\"India\",\"Alwar\",\"Remote\",\"Sonipat\",\"New Delhi\",\"Bangalore\",\"New Delhi\",\"Tirupp\\u016br\",\"Warangal\",\"Noida\",\"Gurgaon\",\"Gurgaon\"],\"locationmode\":\"ISO-3\",\"locations\":[\"Gurgaon\",\"Remote\",\"Noida\",\"India\",\"Alwar\",\"Remote\",\"Sonipat\",\"New Delhi\",\"Bangalore\",\"New Delhi\",\"Tirupp\\u016br\",\"Warangal\",\"Noida\",\"Gurgaon\",\"Gurgaon\"],\"name\":\"True\",\"showlegend\":true,\"showscale\":false,\"z\":[1,1,1,1,1,1,1,1,1,1,1,1,1,1,1],\"type\":\"choropleth\"}],                        {\"template\":{\"data\":{\"histogram2dcontour\":[{\"type\":\"histogram2dcontour\",\"colorbar\":{\"outlinewidth\":0,\"ticks\":\"\"},\"colorscale\":[[0.0,\"#0d0887\"],[0.1111111111111111,\"#46039f\"],[0.2222222222222222,\"#7201a8\"],[0.3333333333333333,\"#9c179e\"],[0.4444444444444444,\"#bd3786\"],[0.5555555555555556,\"#d8576b\"],[0.6666666666666666,\"#ed7953\"],[0.7777777777777778,\"#fb9f3a\"],[0.8888888888888888,\"#fdca26\"],[1.0,\"#f0f921\"]]}],\"choropleth\":[{\"type\":\"choropleth\",\"colorbar\":{\"outlinewidth\":0,\"ticks\":\"\"}}],\"histogram2d\":[{\"type\":\"histogram2d\",\"colorbar\":{\"outlinewidth\":0,\"ticks\":\"\"},\"colorscale\":[[0.0,\"#0d0887\"],[0.1111111111111111,\"#46039f\"],[0.2222222222222222,\"#7201a8\"],[0.3333333333333333,\"#9c179e\"],[0.4444444444444444,\"#bd3786\"],[0.5555555555555556,\"#d8576b\"],[0.6666666666666666,\"#ed7953\"],[0.7777777777777778,\"#fb9f3a\"],[0.8888888888888888,\"#fdca26\"],[1.0,\"#f0f921\"]]}],\"heatmap\":[{\"type\":\"heatmap\",\"colorbar\":{\"outlinewidth\":0,\"ticks\":\"\"},\"colorscale\":[[0.0,\"#0d0887\"],[0.1111111111111111,\"#46039f\"],[0.2222222222222222,\"#7201a8\"],[0.3333333333333333,\"#9c179e\"],[0.4444444444444444,\"#bd3786\"],[0.5555555555555556,\"#d8576b\"],[0.6666666666666666,\"#ed7953\"],[0.7777777777777778,\"#fb9f3a\"],[0.8888888888888888,\"#fdca26\"],[1.0,\"#f0f921\"]]}],\"heatmapgl\":[{\"type\":\"heatmapgl\",\"colorbar\":{\"outlinewidth\":0,\"ticks\":\"\"},\"colorscale\":[[0.0,\"#0d0887\"],[0.1111111111111111,\"#46039f\"],[0.2222222222222222,\"#7201a8\"],[0.3333333333333333,\"#9c179e\"],[0.4444444444444444,\"#bd3786\"],[0.5555555555555556,\"#d8576b\"],[0.6666666666666666,\"#ed7953\"],[0.7777777777777778,\"#fb9f3a\"],[0.8888888888888888,\"#fdca26\"],[1.0,\"#f0f921\"]]}],\"contourcarpet\":[{\"type\":\"contourcarpet\",\"colorbar\":{\"outlinewidth\":0,\"ticks\":\"\"}}],\"contour\":[{\"type\":\"contour\",\"colorbar\":{\"outlinewidth\":0,\"ticks\":\"\"},\"colorscale\":[[0.0,\"#0d0887\"],[0.1111111111111111,\"#46039f\"],[0.2222222222222222,\"#7201a8\"],[0.3333333333333333,\"#9c179e\"],[0.4444444444444444,\"#bd3786\"],[0.5555555555555556,\"#d8576b\"],[0.6666666666666666,\"#ed7953\"],[0.7777777777777778,\"#fb9f3a\"],[0.8888888888888888,\"#fdca26\"],[1.0,\"#f0f921\"]]}],\"surface\":[{\"type\":\"surface\",\"colorbar\":{\"outlinewidth\":0,\"ticks\":\"\"},\"colorscale\":[[0.0,\"#0d0887\"],[0.1111111111111111,\"#46039f\"],[0.2222222222222222,\"#7201a8\"],[0.3333333333333333,\"#9c179e\"],[0.4444444444444444,\"#bd3786\"],[0.5555555555555556,\"#d8576b\"],[0.6666666666666666,\"#ed7953\"],[0.7777777777777778,\"#fb9f3a\"],[0.8888888888888888,\"#fdca26\"],[1.0,\"#f0f921\"]]}],\"mesh3d\":[{\"type\":\"mesh3d\",\"colorbar\":{\"outlinewidth\":0,\"ticks\":\"\"}}],\"scatter\":[{\"fillpattern\":{\"fillmode\":\"overlay\",\"size\":10,\"solidity\":0.2},\"type\":\"scatter\"}],\"parcoords\":[{\"type\":\"parcoords\",\"line\":{\"colorbar\":{\"outlinewidth\":0,\"ticks\":\"\"}}}],\"scatterpolargl\":[{\"type\":\"scatterpolargl\",\"marker\":{\"colorbar\":{\"outlinewidth\":0,\"ticks\":\"\"}}}],\"bar\":[{\"error_x\":{\"color\":\"#2a3f5f\"},\"error_y\":{\"color\":\"#2a3f5f\"},\"marker\":{\"line\":{\"color\":\"#E5ECF6\",\"width\":0.5},\"pattern\":{\"fillmode\":\"overlay\",\"size\":10,\"solidity\":0.2}},\"type\":\"bar\"}],\"scattergeo\":[{\"type\":\"scattergeo\",\"marker\":{\"colorbar\":{\"outlinewidth\":0,\"ticks\":\"\"}}}],\"scatterpolar\":[{\"type\":\"scatterpolar\",\"marker\":{\"colorbar\":{\"outlinewidth\":0,\"ticks\":\"\"}}}],\"histogram\":[{\"marker\":{\"pattern\":{\"fillmode\":\"overlay\",\"size\":10,\"solidity\":0.2}},\"type\":\"histogram\"}],\"scattergl\":[{\"type\":\"scattergl\",\"marker\":{\"colorbar\":{\"outlinewidth\":0,\"ticks\":\"\"}}}],\"scatter3d\":[{\"type\":\"scatter3d\",\"line\":{\"colorbar\":{\"outlinewidth\":0,\"ticks\":\"\"}},\"marker\":{\"colorbar\":{\"outlinewidth\":0,\"ticks\":\"\"}}}],\"scattermapbox\":[{\"type\":\"scattermapbox\",\"marker\":{\"colorbar\":{\"outlinewidth\":0,\"ticks\":\"\"}}}],\"scatterternary\":[{\"type\":\"scatterternary\",\"marker\":{\"colorbar\":{\"outlinewidth\":0,\"ticks\":\"\"}}}],\"scattercarpet\":[{\"type\":\"scattercarpet\",\"marker\":{\"colorbar\":{\"outlinewidth\":0,\"ticks\":\"\"}}}],\"carpet\":[{\"aaxis\":{\"endlinecolor\":\"#2a3f5f\",\"gridcolor\":\"white\",\"linecolor\":\"white\",\"minorgridcolor\":\"white\",\"startlinecolor\":\"#2a3f5f\"},\"baxis\":{\"endlinecolor\":\"#2a3f5f\",\"gridcolor\":\"white\",\"linecolor\":\"white\",\"minorgridcolor\":\"white\",\"startlinecolor\":\"#2a3f5f\"},\"type\":\"carpet\"}],\"table\":[{\"cells\":{\"fill\":{\"color\":\"#EBF0F8\"},\"line\":{\"color\":\"white\"}},\"header\":{\"fill\":{\"color\":\"#C8D4E3\"},\"line\":{\"color\":\"white\"}},\"type\":\"table\"}],\"barpolar\":[{\"marker\":{\"line\":{\"color\":\"#E5ECF6\",\"width\":0.5},\"pattern\":{\"fillmode\":\"overlay\",\"size\":10,\"solidity\":0.2}},\"type\":\"barpolar\"}],\"pie\":[{\"automargin\":true,\"type\":\"pie\"}]},\"layout\":{\"autotypenumbers\":\"strict\",\"colorway\":[\"#636efa\",\"#EF553B\",\"#00cc96\",\"#ab63fa\",\"#FFA15A\",\"#19d3f3\",\"#FF6692\",\"#B6E880\",\"#FF97FF\",\"#FECB52\"],\"font\":{\"color\":\"#2a3f5f\"},\"hovermode\":\"closest\",\"hoverlabel\":{\"align\":\"left\"},\"paper_bgcolor\":\"white\",\"plot_bgcolor\":\"#E5ECF6\",\"polar\":{\"bgcolor\":\"#E5ECF6\",\"angularaxis\":{\"gridcolor\":\"white\",\"linecolor\":\"white\",\"ticks\":\"\"},\"radialaxis\":{\"gridcolor\":\"white\",\"linecolor\":\"white\",\"ticks\":\"\"}},\"ternary\":{\"bgcolor\":\"#E5ECF6\",\"aaxis\":{\"gridcolor\":\"white\",\"linecolor\":\"white\",\"ticks\":\"\"},\"baxis\":{\"gridcolor\":\"white\",\"linecolor\":\"white\",\"ticks\":\"\"},\"caxis\":{\"gridcolor\":\"white\",\"linecolor\":\"white\",\"ticks\":\"\"}},\"coloraxis\":{\"colorbar\":{\"outlinewidth\":0,\"ticks\":\"\"}},\"colorscale\":{\"sequential\":[[0.0,\"#0d0887\"],[0.1111111111111111,\"#46039f\"],[0.2222222222222222,\"#7201a8\"],[0.3333333333333333,\"#9c179e\"],[0.4444444444444444,\"#bd3786\"],[0.5555555555555556,\"#d8576b\"],[0.6666666666666666,\"#ed7953\"],[0.7777777777777778,\"#fb9f3a\"],[0.8888888888888888,\"#fdca26\"],[1.0,\"#f0f921\"]],\"sequentialminus\":[[0.0,\"#0d0887\"],[0.1111111111111111,\"#46039f\"],[0.2222222222222222,\"#7201a8\"],[0.3333333333333333,\"#9c179e\"],[0.4444444444444444,\"#bd3786\"],[0.5555555555555556,\"#d8576b\"],[0.6666666666666666,\"#ed7953\"],[0.7777777777777778,\"#fb9f3a\"],[0.8888888888888888,\"#fdca26\"],[1.0,\"#f0f921\"]],\"diverging\":[[0,\"#8e0152\"],[0.1,\"#c51b7d\"],[0.2,\"#de77ae\"],[0.3,\"#f1b6da\"],[0.4,\"#fde0ef\"],[0.5,\"#f7f7f7\"],[0.6,\"#e6f5d0\"],[0.7,\"#b8e186\"],[0.8,\"#7fbc41\"],[0.9,\"#4d9221\"],[1,\"#276419\"]]},\"xaxis\":{\"gridcolor\":\"white\",\"linecolor\":\"white\",\"ticks\":\"\",\"title\":{\"standoff\":15},\"zerolinecolor\":\"white\",\"automargin\":true,\"zerolinewidth\":2},\"yaxis\":{\"gridcolor\":\"white\",\"linecolor\":\"white\",\"ticks\":\"\",\"title\":{\"standoff\":15},\"zerolinecolor\":\"white\",\"automargin\":true,\"zerolinewidth\":2},\"scene\":{\"xaxis\":{\"backgroundcolor\":\"#E5ECF6\",\"gridcolor\":\"white\",\"linecolor\":\"white\",\"showbackground\":true,\"ticks\":\"\",\"zerolinecolor\":\"white\",\"gridwidth\":2},\"yaxis\":{\"backgroundcolor\":\"#E5ECF6\",\"gridcolor\":\"white\",\"linecolor\":\"white\",\"showbackground\":true,\"ticks\":\"\",\"zerolinecolor\":\"white\",\"gridwidth\":2},\"zaxis\":{\"backgroundcolor\":\"#E5ECF6\",\"gridcolor\":\"white\",\"linecolor\":\"white\",\"showbackground\":true,\"ticks\":\"\",\"zerolinecolor\":\"white\",\"gridwidth\":2}},\"shapedefaults\":{\"line\":{\"color\":\"#2a3f5f\"}},\"annotationdefaults\":{\"arrowcolor\":\"#2a3f5f\",\"arrowhead\":0,\"arrowwidth\":1},\"geo\":{\"bgcolor\":\"white\",\"landcolor\":\"#E5ECF6\",\"subunitcolor\":\"white\",\"showland\":true,\"showlakes\":true,\"lakecolor\":\"white\"},\"title\":{\"x\":0.05},\"mapbox\":{\"style\":\"light\"}}},\"geo\":{\"domain\":{\"x\":[0.0,1.0],\"y\":[0.0,1.0]},\"center\":{},\"scope\":\"asia\"},\"legend\":{\"title\":{\"text\":\"Easy Apply\"},\"tracegroupgap\":0},\"title\":{\"text\":\"Easy Apply by State in India\"}},                        {\"responsive\": true}                    ).then(function(){\n",
       "                            \n",
       "var gd = document.getElementById('3a40e07d-8013-4371-8486-c86d53e2bfe5');\n",
       "var x = new MutationObserver(function (mutations, observer) {{\n",
       "        var display = window.getComputedStyle(gd).display;\n",
       "        if (!display || display === 'none') {{\n",
       "            console.log([gd, 'removed!']);\n",
       "            Plotly.purge(gd);\n",
       "            observer.disconnect();\n",
       "        }}\n",
       "}});\n",
       "\n",
       "// Listen for the removal of the full notebook cells\n",
       "var notebookContainer = gd.closest('#notebook-container');\n",
       "if (notebookContainer) {{\n",
       "    x.observe(notebookContainer, {childList: true});\n",
       "}}\n",
       "\n",
       "// Listen for the clearing of the current output cell\n",
       "var outputEl = gd.closest('.output');\n",
       "if (outputEl) {{\n",
       "    x.observe(outputEl, {childList: true});\n",
       "}}\n",
       "\n",
       "                        })                };                });            </script>        </div>"
      ]
     },
     "metadata": {},
     "output_type": "display_data"
    }
   ],
   "source": [
    "import pandas as pd\n",
    "from sklearn.model_selection import train_test_split\n",
    "from sklearn.linear_model import LogisticRegression\n",
    "from sklearn.metrics import accuracy_score, classification_report\n",
    "from sklearn.preprocessing import OneHotEncoder\n",
    "from sklearn.compose import ColumnTransformer\n",
    "from sklearn.pipeline import Pipeline\n",
    "import warnings\n",
    "import plotly.express as px  # Import Plotly for visualization\n",
    "\n",
    "# Load the data from CSV\n",
    "data = pd.read_csv(\"sorted.csv\")\n",
    "\n",
    "# Separating features and target variable\n",
    "X = data.drop(columns=[\"Easy Apply\"])\n",
    "y = data[\"Easy Apply\"]\n",
    "\n",
    "# Splitting data into training and testing sets\n",
    "X_train, X_test, y_train, y_test = train_test_split(X, y, test_size=0.2, random_state=42)\n",
    "\n",
    "# Suppressing the UndefinedMetricWarning\n",
    "warnings.filterwarnings(\"ignore\", category=UserWarning)\n",
    "\n",
    "# Preprocessing categorical features\n",
    "categorical_features = ['Title', 'Company', 'Location']\n",
    "\n",
    "categorical_transformer = Pipeline(steps=[\n",
    "    ('onehot', OneHotEncoder(handle_unknown='ignore'))\n",
    "])\n",
    "\n",
    "# Combining categorical transformer\n",
    "preprocessor = ColumnTransformer(\n",
    "    transformers=[\n",
    "        ('cat', categorical_transformer, categorical_features)\n",
    "    ])\n",
    "\n",
    "# Creating a pipeline with preprocessing and Logistic Regression\n",
    "pipeline = Pipeline(steps=[('preprocessor', preprocessor),\n",
    "                           ('classifier', LogisticRegression(class_weight='balanced', random_state=42))])\n",
    "\n",
    "# Training the model\n",
    "pipeline.fit(X_train, y_train)\n",
    "\n",
    "# Making predictions\n",
    "y_pred = pipeline.predict(X_test)\n",
    "\n",
    "# Evaluating the model\n",
    "accuracy = accuracy_score(y_test, y_pred)\n",
    "print(\"Accuracy:\", accuracy)\n",
    "print(\"Classification Report:\")\n",
    "print(classification_report(y_test, y_pred))\n",
    "\n",
    "# Add 'Easy Apply' predictions to X_test for visualization\n",
    "X_test['Easy Apply'] = y_test\n",
    "\n",
    "# Create map visualization for India\n",
    "fig = px.choropleth(data_frame=X_test, \n",
    "                    locations=\"Location\", \n",
    "                    locationmode=\"ISO-3\",  # Use ISO-3 country codes\n",
    "                    color=\"Easy Apply\",  \n",
    "                    hover_name=\"Location\", \n",
    "                    color_continuous_scale=px.colors.sequential.Blues,\n",
    "                    scope=\"asia\",  # Set the scope to Asia\n",
    "                    title=\"Easy Apply by State in India\")  # Set the title\n",
    "\n",
    "# Show plot\n",
    "fig.show()\n"
   ]
  },
  {
   "cell_type": "code",
   "execution_count": 5,
   "id": "42a655fb-63c0-4dfd-a82e-1ad5615431fa",
   "metadata": {},
   "outputs": [
    {
     "data": {
      "application/vnd.plotly.v1+json": {
       "config": {
        "plotlyServerURL": "https://plot.ly"
       },
       "data": [
        {
         "customdata": [
          [
           true
          ],
          [
           false
          ]
         ],
         "domain": {
          "x": [
           0,
           1
          ],
          "y": [
           0,
           1
          ]
         },
         "hole": 0.3,
         "hovertemplate": "Easy Apply=%{customdata[0]}<br>value=%{value}<extra></extra>",
         "labels": [
          true,
          false
         ],
         "legendgroup": "",
         "marker": {
          "colors": [
           "#00cc96",
           "#ab63fa"
          ]
         },
         "name": "",
         "showlegend": true,
         "type": "pie",
         "values": [
          15,
          5
         ]
        }
       ],
       "layout": {
        "autosize": true,
        "legend": {
         "tracegroupgap": 0
        },
        "template": {
         "data": {
          "bar": [
           {
            "error_x": {
             "color": "#2a3f5f"
            },
            "error_y": {
             "color": "#2a3f5f"
            },
            "marker": {
             "line": {
              "color": "#E5ECF6",
              "width": 0.5
             },
             "pattern": {
              "fillmode": "overlay",
              "size": 10,
              "solidity": 0.2
             }
            },
            "type": "bar"
           }
          ],
          "barpolar": [
           {
            "marker": {
             "line": {
              "color": "#E5ECF6",
              "width": 0.5
             },
             "pattern": {
              "fillmode": "overlay",
              "size": 10,
              "solidity": 0.2
             }
            },
            "type": "barpolar"
           }
          ],
          "carpet": [
           {
            "aaxis": {
             "endlinecolor": "#2a3f5f",
             "gridcolor": "white",
             "linecolor": "white",
             "minorgridcolor": "white",
             "startlinecolor": "#2a3f5f"
            },
            "baxis": {
             "endlinecolor": "#2a3f5f",
             "gridcolor": "white",
             "linecolor": "white",
             "minorgridcolor": "white",
             "startlinecolor": "#2a3f5f"
            },
            "type": "carpet"
           }
          ],
          "choropleth": [
           {
            "colorbar": {
             "outlinewidth": 0,
             "ticks": ""
            },
            "type": "choropleth"
           }
          ],
          "contour": [
           {
            "colorbar": {
             "outlinewidth": 0,
             "ticks": ""
            },
            "colorscale": [
             [
              0,
              "#0d0887"
             ],
             [
              0.1111111111111111,
              "#46039f"
             ],
             [
              0.2222222222222222,
              "#7201a8"
             ],
             [
              0.3333333333333333,
              "#9c179e"
             ],
             [
              0.4444444444444444,
              "#bd3786"
             ],
             [
              0.5555555555555556,
              "#d8576b"
             ],
             [
              0.6666666666666666,
              "#ed7953"
             ],
             [
              0.7777777777777778,
              "#fb9f3a"
             ],
             [
              0.8888888888888888,
              "#fdca26"
             ],
             [
              1,
              "#f0f921"
             ]
            ],
            "type": "contour"
           }
          ],
          "contourcarpet": [
           {
            "colorbar": {
             "outlinewidth": 0,
             "ticks": ""
            },
            "type": "contourcarpet"
           }
          ],
          "heatmap": [
           {
            "colorbar": {
             "outlinewidth": 0,
             "ticks": ""
            },
            "colorscale": [
             [
              0,
              "#0d0887"
             ],
             [
              0.1111111111111111,
              "#46039f"
             ],
             [
              0.2222222222222222,
              "#7201a8"
             ],
             [
              0.3333333333333333,
              "#9c179e"
             ],
             [
              0.4444444444444444,
              "#bd3786"
             ],
             [
              0.5555555555555556,
              "#d8576b"
             ],
             [
              0.6666666666666666,
              "#ed7953"
             ],
             [
              0.7777777777777778,
              "#fb9f3a"
             ],
             [
              0.8888888888888888,
              "#fdca26"
             ],
             [
              1,
              "#f0f921"
             ]
            ],
            "type": "heatmap"
           }
          ],
          "heatmapgl": [
           {
            "colorbar": {
             "outlinewidth": 0,
             "ticks": ""
            },
            "colorscale": [
             [
              0,
              "#0d0887"
             ],
             [
              0.1111111111111111,
              "#46039f"
             ],
             [
              0.2222222222222222,
              "#7201a8"
             ],
             [
              0.3333333333333333,
              "#9c179e"
             ],
             [
              0.4444444444444444,
              "#bd3786"
             ],
             [
              0.5555555555555556,
              "#d8576b"
             ],
             [
              0.6666666666666666,
              "#ed7953"
             ],
             [
              0.7777777777777778,
              "#fb9f3a"
             ],
             [
              0.8888888888888888,
              "#fdca26"
             ],
             [
              1,
              "#f0f921"
             ]
            ],
            "type": "heatmapgl"
           }
          ],
          "histogram": [
           {
            "marker": {
             "pattern": {
              "fillmode": "overlay",
              "size": 10,
              "solidity": 0.2
             }
            },
            "type": "histogram"
           }
          ],
          "histogram2d": [
           {
            "colorbar": {
             "outlinewidth": 0,
             "ticks": ""
            },
            "colorscale": [
             [
              0,
              "#0d0887"
             ],
             [
              0.1111111111111111,
              "#46039f"
             ],
             [
              0.2222222222222222,
              "#7201a8"
             ],
             [
              0.3333333333333333,
              "#9c179e"
             ],
             [
              0.4444444444444444,
              "#bd3786"
             ],
             [
              0.5555555555555556,
              "#d8576b"
             ],
             [
              0.6666666666666666,
              "#ed7953"
             ],
             [
              0.7777777777777778,
              "#fb9f3a"
             ],
             [
              0.8888888888888888,
              "#fdca26"
             ],
             [
              1,
              "#f0f921"
             ]
            ],
            "type": "histogram2d"
           }
          ],
          "histogram2dcontour": [
           {
            "colorbar": {
             "outlinewidth": 0,
             "ticks": ""
            },
            "colorscale": [
             [
              0,
              "#0d0887"
             ],
             [
              0.1111111111111111,
              "#46039f"
             ],
             [
              0.2222222222222222,
              "#7201a8"
             ],
             [
              0.3333333333333333,
              "#9c179e"
             ],
             [
              0.4444444444444444,
              "#bd3786"
             ],
             [
              0.5555555555555556,
              "#d8576b"
             ],
             [
              0.6666666666666666,
              "#ed7953"
             ],
             [
              0.7777777777777778,
              "#fb9f3a"
             ],
             [
              0.8888888888888888,
              "#fdca26"
             ],
             [
              1,
              "#f0f921"
             ]
            ],
            "type": "histogram2dcontour"
           }
          ],
          "mesh3d": [
           {
            "colorbar": {
             "outlinewidth": 0,
             "ticks": ""
            },
            "type": "mesh3d"
           }
          ],
          "parcoords": [
           {
            "line": {
             "colorbar": {
              "outlinewidth": 0,
              "ticks": ""
             }
            },
            "type": "parcoords"
           }
          ],
          "pie": [
           {
            "automargin": true,
            "type": "pie"
           }
          ],
          "scatter": [
           {
            "fillpattern": {
             "fillmode": "overlay",
             "size": 10,
             "solidity": 0.2
            },
            "type": "scatter"
           }
          ],
          "scatter3d": [
           {
            "line": {
             "colorbar": {
              "outlinewidth": 0,
              "ticks": ""
             }
            },
            "marker": {
             "colorbar": {
              "outlinewidth": 0,
              "ticks": ""
             }
            },
            "type": "scatter3d"
           }
          ],
          "scattercarpet": [
           {
            "marker": {
             "colorbar": {
              "outlinewidth": 0,
              "ticks": ""
             }
            },
            "type": "scattercarpet"
           }
          ],
          "scattergeo": [
           {
            "marker": {
             "colorbar": {
              "outlinewidth": 0,
              "ticks": ""
             }
            },
            "type": "scattergeo"
           }
          ],
          "scattergl": [
           {
            "marker": {
             "colorbar": {
              "outlinewidth": 0,
              "ticks": ""
             }
            },
            "type": "scattergl"
           }
          ],
          "scattermapbox": [
           {
            "marker": {
             "colorbar": {
              "outlinewidth": 0,
              "ticks": ""
             }
            },
            "type": "scattermapbox"
           }
          ],
          "scatterpolar": [
           {
            "marker": {
             "colorbar": {
              "outlinewidth": 0,
              "ticks": ""
             }
            },
            "type": "scatterpolar"
           }
          ],
          "scatterpolargl": [
           {
            "marker": {
             "colorbar": {
              "outlinewidth": 0,
              "ticks": ""
             }
            },
            "type": "scatterpolargl"
           }
          ],
          "scatterternary": [
           {
            "marker": {
             "colorbar": {
              "outlinewidth": 0,
              "ticks": ""
             }
            },
            "type": "scatterternary"
           }
          ],
          "surface": [
           {
            "colorbar": {
             "outlinewidth": 0,
             "ticks": ""
            },
            "colorscale": [
             [
              0,
              "#0d0887"
             ],
             [
              0.1111111111111111,
              "#46039f"
             ],
             [
              0.2222222222222222,
              "#7201a8"
             ],
             [
              0.3333333333333333,
              "#9c179e"
             ],
             [
              0.4444444444444444,
              "#bd3786"
             ],
             [
              0.5555555555555556,
              "#d8576b"
             ],
             [
              0.6666666666666666,
              "#ed7953"
             ],
             [
              0.7777777777777778,
              "#fb9f3a"
             ],
             [
              0.8888888888888888,
              "#fdca26"
             ],
             [
              1,
              "#f0f921"
             ]
            ],
            "type": "surface"
           }
          ],
          "table": [
           {
            "cells": {
             "fill": {
              "color": "#EBF0F8"
             },
             "line": {
              "color": "white"
             }
            },
            "header": {
             "fill": {
              "color": "#C8D4E3"
             },
             "line": {
              "color": "white"
             }
            },
            "type": "table"
           }
          ]
         },
         "layout": {
          "annotationdefaults": {
           "arrowcolor": "#2a3f5f",
           "arrowhead": 0,
           "arrowwidth": 1
          },
          "autotypenumbers": "strict",
          "coloraxis": {
           "colorbar": {
            "outlinewidth": 0,
            "ticks": ""
           }
          },
          "colorscale": {
           "diverging": [
            [
             0,
             "#8e0152"
            ],
            [
             0.1,
             "#c51b7d"
            ],
            [
             0.2,
             "#de77ae"
            ],
            [
             0.3,
             "#f1b6da"
            ],
            [
             0.4,
             "#fde0ef"
            ],
            [
             0.5,
             "#f7f7f7"
            ],
            [
             0.6,
             "#e6f5d0"
            ],
            [
             0.7,
             "#b8e186"
            ],
            [
             0.8,
             "#7fbc41"
            ],
            [
             0.9,
             "#4d9221"
            ],
            [
             1,
             "#276419"
            ]
           ],
           "sequential": [
            [
             0,
             "#0d0887"
            ],
            [
             0.1111111111111111,
             "#46039f"
            ],
            [
             0.2222222222222222,
             "#7201a8"
            ],
            [
             0.3333333333333333,
             "#9c179e"
            ],
            [
             0.4444444444444444,
             "#bd3786"
            ],
            [
             0.5555555555555556,
             "#d8576b"
            ],
            [
             0.6666666666666666,
             "#ed7953"
            ],
            [
             0.7777777777777778,
             "#fb9f3a"
            ],
            [
             0.8888888888888888,
             "#fdca26"
            ],
            [
             1,
             "#f0f921"
            ]
           ],
           "sequentialminus": [
            [
             0,
             "#0d0887"
            ],
            [
             0.1111111111111111,
             "#46039f"
            ],
            [
             0.2222222222222222,
             "#7201a8"
            ],
            [
             0.3333333333333333,
             "#9c179e"
            ],
            [
             0.4444444444444444,
             "#bd3786"
            ],
            [
             0.5555555555555556,
             "#d8576b"
            ],
            [
             0.6666666666666666,
             "#ed7953"
            ],
            [
             0.7777777777777778,
             "#fb9f3a"
            ],
            [
             0.8888888888888888,
             "#fdca26"
            ],
            [
             1,
             "#f0f921"
            ]
           ]
          },
          "colorway": [
           "#636efa",
           "#EF553B",
           "#00cc96",
           "#ab63fa",
           "#FFA15A",
           "#19d3f3",
           "#FF6692",
           "#B6E880",
           "#FF97FF",
           "#FECB52"
          ],
          "font": {
           "color": "#2a3f5f"
          },
          "geo": {
           "bgcolor": "white",
           "lakecolor": "white",
           "landcolor": "#E5ECF6",
           "showlakes": true,
           "showland": true,
           "subunitcolor": "white"
          },
          "hoverlabel": {
           "align": "left"
          },
          "hovermode": "closest",
          "mapbox": {
           "style": "light"
          },
          "paper_bgcolor": "white",
          "plot_bgcolor": "#E5ECF6",
          "polar": {
           "angularaxis": {
            "gridcolor": "white",
            "linecolor": "white",
            "ticks": ""
           },
           "bgcolor": "#E5ECF6",
           "radialaxis": {
            "gridcolor": "white",
            "linecolor": "white",
            "ticks": ""
           }
          },
          "scene": {
           "xaxis": {
            "backgroundcolor": "#E5ECF6",
            "gridcolor": "white",
            "gridwidth": 2,
            "linecolor": "white",
            "showbackground": true,
            "ticks": "",
            "zerolinecolor": "white"
           },
           "yaxis": {
            "backgroundcolor": "#E5ECF6",
            "gridcolor": "white",
            "gridwidth": 2,
            "linecolor": "white",
            "showbackground": true,
            "ticks": "",
            "zerolinecolor": "white"
           },
           "zaxis": {
            "backgroundcolor": "#E5ECF6",
            "gridcolor": "white",
            "gridwidth": 2,
            "linecolor": "white",
            "showbackground": true,
            "ticks": "",
            "zerolinecolor": "white"
           }
          },
          "shapedefaults": {
           "line": {
            "color": "#2a3f5f"
           }
          },
          "ternary": {
           "aaxis": {
            "gridcolor": "white",
            "linecolor": "white",
            "ticks": ""
           },
           "baxis": {
            "gridcolor": "white",
            "linecolor": "white",
            "ticks": ""
           },
           "bgcolor": "#E5ECF6",
           "caxis": {
            "gridcolor": "white",
            "linecolor": "white",
            "ticks": ""
           }
          },
          "title": {
           "x": 0.05
          },
          "xaxis": {
           "automargin": true,
           "gridcolor": "white",
           "linecolor": "white",
           "ticks": "",
           "title": {
            "standoff": 15
           },
           "zerolinecolor": "white",
           "zerolinewidth": 2
          },
          "yaxis": {
           "automargin": true,
           "gridcolor": "white",
           "linecolor": "white",
           "ticks": "",
           "title": {
            "standoff": 15
           },
           "zerolinecolor": "white",
           "zerolinewidth": 2
          }
         }
        },
        "title": {
         "text": "Distribution of Easy Apply",
         "x": 0.5
        }
       }
      },
      "image/png": "[encoded data removed]",
      "text/html": [
       "<div>                            <div id=\"41cd24fe-cd63-4855-b139-9e21d1e38008\" class=\"plotly-graph-div\" style=\"height:525px; width:100%;\"></div>            <script type=\"text/javascript\">                require([\"plotly\"], function(Plotly) {                    window.PLOTLYENV=window.PLOTLYENV || {};                                    if (document.getElementById(\"41cd24fe-cd63-4855-b139-9e21d1e38008\")) {                    Plotly.newPlot(                        \"41cd24fe-cd63-4855-b139-9e21d1e38008\",                        [{\"customdata\":[[true],[false]],\"domain\":{\"x\":[0.0,1.0],\"y\":[0.0,1.0]},\"hole\":0.3,\"hovertemplate\":\"Easy Apply=%{customdata[0]}\\u003cbr\\u003evalue=%{value}\\u003cextra\\u003e\\u003c\\u002fextra\\u003e\",\"labels\":[true,false],\"legendgroup\":\"\",\"marker\":{\"colors\":[\"#00cc96\",\"#ab63fa\"]},\"name\":\"\",\"showlegend\":true,\"values\":[15,5],\"type\":\"pie\"}],                        {\"template\":{\"data\":{\"histogram2dcontour\":[{\"type\":\"histogram2dcontour\",\"colorbar\":{\"outlinewidth\":0,\"ticks\":\"\"},\"colorscale\":[[0.0,\"#0d0887\"],[0.1111111111111111,\"#46039f\"],[0.2222222222222222,\"#7201a8\"],[0.3333333333333333,\"#9c179e\"],[0.4444444444444444,\"#bd3786\"],[0.5555555555555556,\"#d8576b\"],[0.6666666666666666,\"#ed7953\"],[0.7777777777777778,\"#fb9f3a\"],[0.8888888888888888,\"#fdca26\"],[1.0,\"#f0f921\"]]}],\"choropleth\":[{\"type\":\"choropleth\",\"colorbar\":{\"outlinewidth\":0,\"ticks\":\"\"}}],\"histogram2d\":[{\"type\":\"histogram2d\",\"colorbar\":{\"outlinewidth\":0,\"ticks\":\"\"},\"colorscale\":[[0.0,\"#0d0887\"],[0.1111111111111111,\"#46039f\"],[0.2222222222222222,\"#7201a8\"],[0.3333333333333333,\"#9c179e\"],[0.4444444444444444,\"#bd3786\"],[0.5555555555555556,\"#d8576b\"],[0.6666666666666666,\"#ed7953\"],[0.7777777777777778,\"#fb9f3a\"],[0.8888888888888888,\"#fdca26\"],[1.0,\"#f0f921\"]]}],\"heatmap\":[{\"type\":\"heatmap\",\"colorbar\":{\"outlinewidth\":0,\"ticks\":\"\"},\"colorscale\":[[0.0,\"#0d0887\"],[0.1111111111111111,\"#46039f\"],[0.2222222222222222,\"#7201a8\"],[0.3333333333333333,\"#9c179e\"],[0.4444444444444444,\"#bd3786\"],[0.5555555555555556,\"#d8576b\"],[0.6666666666666666,\"#ed7953\"],[0.7777777777777778,\"#fb9f3a\"],[0.8888888888888888,\"#fdca26\"],[1.0,\"#f0f921\"]]}],\"heatmapgl\":[{\"type\":\"heatmapgl\",\"colorbar\":{\"outlinewidth\":0,\"ticks\":\"\"},\"colorscale\":[[0.0,\"#0d0887\"],[0.1111111111111111,\"#46039f\"],[0.2222222222222222,\"#7201a8\"],[0.3333333333333333,\"#9c179e\"],[0.4444444444444444,\"#bd3786\"],[0.5555555555555556,\"#d8576b\"],[0.6666666666666666,\"#ed7953\"],[0.7777777777777778,\"#fb9f3a\"],[0.8888888888888888,\"#fdca26\"],[1.0,\"#f0f921\"]]}],\"contourcarpet\":[{\"type\":\"contourcarpet\",\"colorbar\":{\"outlinewidth\":0,\"ticks\":\"\"}}],\"contour\":[{\"type\":\"contour\",\"colorbar\":{\"outlinewidth\":0,\"ticks\":\"\"},\"colorscale\":[[0.0,\"#0d0887\"],[0.1111111111111111,\"#46039f\"],[0.2222222222222222,\"#7201a8\"],[0.3333333333333333,\"#9c179e\"],[0.4444444444444444,\"#bd3786\"],[0.5555555555555556,\"#d8576b\"],[0.6666666666666666,\"#ed7953\"],[0.7777777777777778,\"#fb9f3a\"],[0.8888888888888888,\"#fdca26\"],[1.0,\"#f0f921\"]]}],\"surface\":[{\"type\":\"surface\",\"colorbar\":{\"outlinewidth\":0,\"ticks\":\"\"},\"colorscale\":[[0.0,\"#0d0887\"],[0.1111111111111111,\"#46039f\"],[0.2222222222222222,\"#7201a8\"],[0.3333333333333333,\"#9c179e\"],[0.4444444444444444,\"#bd3786\"],[0.5555555555555556,\"#d8576b\"],[0.6666666666666666,\"#ed7953\"],[0.7777777777777778,\"#fb9f3a\"],[0.8888888888888888,\"#fdca26\"],[1.0,\"#f0f921\"]]}],\"mesh3d\":[{\"type\":\"mesh3d\",\"colorbar\":{\"outlinewidth\":0,\"ticks\":\"\"}}],\"scatter\":[{\"fillpattern\":{\"fillmode\":\"overlay\",\"size\":10,\"solidity\":0.2},\"type\":\"scatter\"}],\"parcoords\":[{\"type\":\"parcoords\",\"line\":{\"colorbar\":{\"outlinewidth\":0,\"ticks\":\"\"}}}],\"scatterpolargl\":[{\"type\":\"scatterpolargl\",\"marker\":{\"colorbar\":{\"outlinewidth\":0,\"ticks\":\"\"}}}],\"bar\":[{\"error_x\":{\"color\":\"#2a3f5f\"},\"error_y\":{\"color\":\"#2a3f5f\"},\"marker\":{\"line\":{\"color\":\"#E5ECF6\",\"width\":0.5},\"pattern\":{\"fillmode\":\"overlay\",\"size\":10,\"solidity\":0.2}},\"type\":\"bar\"}],\"scattergeo\":[{\"type\":\"scattergeo\",\"marker\":{\"colorbar\":{\"outlinewidth\":0,\"ticks\":\"\"}}}],\"scatterpolar\":[{\"type\":\"scatterpolar\",\"marker\":{\"colorbar\":{\"outlinewidth\":0,\"ticks\":\"\"}}}],\"histogram\":[{\"marker\":{\"pattern\":{\"fillmode\":\"overlay\",\"size\":10,\"solidity\":0.2}},\"type\":\"histogram\"}],\"scattergl\":[{\"type\":\"scattergl\",\"marker\":{\"colorbar\":{\"outlinewidth\":0,\"ticks\":\"\"}}}],\"scatter3d\":[{\"type\":\"scatter3d\",\"line\":{\"colorbar\":{\"outlinewidth\":0,\"ticks\":\"\"}},\"marker\":{\"colorbar\":{\"outlinewidth\":0,\"ticks\":\"\"}}}],\"scattermapbox\":[{\"type\":\"scattermapbox\",\"marker\":{\"colorbar\":{\"outlinewidth\":0,\"ticks\":\"\"}}}],\"scatterternary\":[{\"type\":\"scatterternary\",\"marker\":{\"colorbar\":{\"outlinewidth\":0,\"ticks\":\"\"}}}],\"scattercarpet\":[{\"type\":\"scattercarpet\",\"marker\":{\"colorbar\":{\"outlinewidth\":0,\"ticks\":\"\"}}}],\"carpet\":[{\"aaxis\":{\"endlinecolor\":\"#2a3f5f\",\"gridcolor\":\"white\",\"linecolor\":\"white\",\"minorgridcolor\":\"white\",\"startlinecolor\":\"#2a3f5f\"},\"baxis\":{\"endlinecolor\":\"#2a3f5f\",\"gridcolor\":\"white\",\"linecolor\":\"white\",\"minorgridcolor\":\"white\",\"startlinecolor\":\"#2a3f5f\"},\"type\":\"carpet\"}],\"table\":[{\"cells\":{\"fill\":{\"color\":\"#EBF0F8\"},\"line\":{\"color\":\"white\"}},\"header\":{\"fill\":{\"color\":\"#C8D4E3\"},\"line\":{\"color\":\"white\"}},\"type\":\"table\"}],\"barpolar\":[{\"marker\":{\"line\":{\"color\":\"#E5ECF6\",\"width\":0.5},\"pattern\":{\"fillmode\":\"overlay\",\"size\":10,\"solidity\":0.2}},\"type\":\"barpolar\"}],\"pie\":[{\"automargin\":true,\"type\":\"pie\"}]},\"layout\":{\"autotypenumbers\":\"strict\",\"colorway\":[\"#636efa\",\"#EF553B\",\"#00cc96\",\"#ab63fa\",\"#FFA15A\",\"#19d3f3\",\"#FF6692\",\"#B6E880\",\"#FF97FF\",\"#FECB52\"],\"font\":{\"color\":\"#2a3f5f\"},\"hovermode\":\"closest\",\"hoverlabel\":{\"align\":\"left\"},\"paper_bgcolor\":\"white\",\"plot_bgcolor\":\"#E5ECF6\",\"polar\":{\"bgcolor\":\"#E5ECF6\",\"angularaxis\":{\"gridcolor\":\"white\",\"linecolor\":\"white\",\"ticks\":\"\"},\"radialaxis\":{\"gridcolor\":\"white\",\"linecolor\":\"white\",\"ticks\":\"\"}},\"ternary\":{\"bgcolor\":\"#E5ECF6\",\"aaxis\":{\"gridcolor\":\"white\",\"linecolor\":\"white\",\"ticks\":\"\"},\"baxis\":{\"gridcolor\":\"white\",\"linecolor\":\"white\",\"ticks\":\"\"},\"caxis\":{\"gridcolor\":\"white\",\"linecolor\":\"white\",\"ticks\":\"\"}},\"coloraxis\":{\"colorbar\":{\"outlinewidth\":0,\"ticks\":\"\"}},\"colorscale\":{\"sequential\":[[0.0,\"#0d0887\"],[0.1111111111111111,\"#46039f\"],[0.2222222222222222,\"#7201a8\"],[0.3333333333333333,\"#9c179e\"],[0.4444444444444444,\"#bd3786\"],[0.5555555555555556,\"#d8576b\"],[0.6666666666666666,\"#ed7953\"],[0.7777777777777778,\"#fb9f3a\"],[0.8888888888888888,\"#fdca26\"],[1.0,\"#f0f921\"]],\"sequentialminus\":[[0.0,\"#0d0887\"],[0.1111111111111111,\"#46039f\"],[0.2222222222222222,\"#7201a8\"],[0.3333333333333333,\"#9c179e\"],[0.4444444444444444,\"#bd3786\"],[0.5555555555555556,\"#d8576b\"],[0.6666666666666666,\"#ed7953\"],[0.7777777777777778,\"#fb9f3a\"],[0.8888888888888888,\"#fdca26\"],[1.0,\"#f0f921\"]],\"diverging\":[[0,\"#8e0152\"],[0.1,\"#c51b7d\"],[0.2,\"#de77ae\"],[0.3,\"#f1b6da\"],[0.4,\"#fde0ef\"],[0.5,\"#f7f7f7\"],[0.6,\"#e6f5d0\"],[0.7,\"#b8e186\"],[0.8,\"#7fbc41\"],[0.9,\"#4d9221\"],[1,\"#276419\"]]},\"xaxis\":{\"gridcolor\":\"white\",\"linecolor\":\"white\",\"ticks\":\"\",\"title\":{\"standoff\":15},\"zerolinecolor\":\"white\",\"automargin\":true,\"zerolinewidth\":2},\"yaxis\":{\"gridcolor\":\"white\",\"linecolor\":\"white\",\"ticks\":\"\",\"title\":{\"standoff\":15},\"zerolinecolor\":\"white\",\"automargin\":true,\"zerolinewidth\":2},\"scene\":{\"xaxis\":{\"backgroundcolor\":\"#E5ECF6\",\"gridcolor\":\"white\",\"linecolor\":\"white\",\"showbackground\":true,\"ticks\":\"\",\"zerolinecolor\":\"white\",\"gridwidth\":2},\"yaxis\":{\"backgroundcolor\":\"#E5ECF6\",\"gridcolor\":\"white\",\"linecolor\":\"white\",\"showbackground\":true,\"ticks\":\"\",\"zerolinecolor\":\"white\",\"gridwidth\":2},\"zaxis\":{\"backgroundcolor\":\"#E5ECF6\",\"gridcolor\":\"white\",\"linecolor\":\"white\",\"showbackground\":true,\"ticks\":\"\",\"zerolinecolor\":\"white\",\"gridwidth\":2}},\"shapedefaults\":{\"line\":{\"color\":\"#2a3f5f\"}},\"annotationdefaults\":{\"arrowcolor\":\"#2a3f5f\",\"arrowhead\":0,\"arrowwidth\":1},\"geo\":{\"bgcolor\":\"white\",\"landcolor\":\"#E5ECF6\",\"subunitcolor\":\"white\",\"showland\":true,\"showlakes\":true,\"lakecolor\":\"white\"},\"title\":{\"x\":0.05},\"mapbox\":{\"style\":\"light\"}}},\"legend\":{\"tracegroupgap\":0},\"title\":{\"text\":\"Distribution of Easy Apply\",\"x\":0.5}},                        {\"responsive\": true}                    ).then(function(){\n",
       "                            \n",
       "var gd = document.getElementById('41cd24fe-cd63-4855-b139-9e21d1e38008');\n",
       "var x = new MutationObserver(function (mutations, observer) {{\n",
       "        var display = window.getComputedStyle(gd).display;\n",
       "        if (!display || display === 'none') {{\n",
       "            console.log([gd, 'removed!']);\n",
       "            Plotly.purge(gd);\n",
       "            observer.disconnect();\n",
       "        }}\n",
       "}});\n",
       "\n",
       "// Listen for the removal of the full notebook cells\n",
       "var notebookContainer = gd.closest('#notebook-container');\n",
       "if (notebookContainer) {{\n",
       "    x.observe(notebookContainer, {childList: true});\n",
       "}}\n",
       "\n",
       "// Listen for the clearing of the current output cell\n",
       "var outputEl = gd.closest('.output');\n",
       "if (outputEl) {{\n",
       "    x.observe(outputEl, {childList: true});\n",
       "}}\n",
       "\n",
       "                        })                };                });            </script>        </div>"
      ]
     },
     "metadata": {},
     "output_type": "display_data"
    }
   ],
   "source": [
    "import pandas as pd\n",
    "import plotly.express as px\n",
    "\n",
    "# Load the data from CSV\n",
    "data = pd.read_csv(\"sorted.csv\")\n",
    "\n",
    "# Create a color map for Easy Apply\n",
    "color_map = {True: 'green', False: 'red'}\n",
    "\n",
    "# Map the colors based on Easy Apply column\n",
    "data['Color'] = data['Easy Apply'].map(color_map)\n",
    "\n",
    "# Count the number of occurrences for each category\n",
    "easy_apply_counts = data['Easy Apply'].value_counts()\n",
    "\n",
    "# Create a pie chart using Plotly\n",
    "fig = px.pie(data_frame=easy_apply_counts,\n",
    "             names=easy_apply_counts.index,\n",
    "             values=easy_apply_counts.values,\n",
    "             color=easy_apply_counts.index,\n",
    "             color_discrete_map={'True': 'green', 'False': 'red'},\n",
    "             hole=0.3,\n",
    "             title='Distribution of Easy Apply',\n",
    "             labels={'True': 'Easily Appliable', 'False': 'Not Easily Appliable'})\n",
    "\n",
    "# Update layout for the chart\n",
    "fig.update_layout(title_x=0.5)\n",
    "\n",
    "# Show the plot\n",
    "fig.show()"
   ]
  },
  {
   "cell_type": "code",
   "execution_count": 6,
   "id": "f3ba4248-d682-4d02-b218-2e05c44ab8fc",
   "metadata": {},
   "outputs": [
    {
     "data": {
      "application/vnd.plotly.v1+json": {
       "config": {
        "plotlyServerURL": "https://plot.ly"
       },
       "data": [
        {
         "customdata": [
          [
           true
          ],
          [
           false
          ]
         ],
         "domain": {
          "x": [
           0,
           1
          ],
          "y": [
           0,
           1
          ]
         },
         "hole": 0.3,
         "hovertemplate": "Easy Apply=%{customdata[0]}<br>value=%{value}<extra></extra>",
         "labels": [
          true,
          false
         ],
         "legendgroup": "",
         "marker": {
          "colors": [
           "#00cc96",
           "#ab63fa"
          ]
         },
         "name": "",
         "showlegend": true,
         "type": "pie",
         "values": [
          15,
          5
         ]
        }
       ],
       "layout": {
        "autosize": true,
        "legend": {
         "tracegroupgap": 0
        },
        "template": {
         "data": {
          "bar": [
           {
            "error_x": {
             "color": "#2a3f5f"
            },
            "error_y": {
             "color": "#2a3f5f"
            },
            "marker": {
             "line": {
              "color": "#E5ECF6",
              "width": 0.5
             },
             "pattern": {
              "fillmode": "overlay",
              "size": 10,
              "solidity": 0.2
             }
            },
            "type": "bar"
           }
          ],
          "barpolar": [
           {
            "marker": {
             "line": {
              "color": "#E5ECF6",
              "width": 0.5
             },
             "pattern": {
              "fillmode": "overlay",
              "size": 10,
              "solidity": 0.2
             }
            },
            "type": "barpolar"
           }
          ],
          "carpet": [
           {
            "aaxis": {
             "endlinecolor": "#2a3f5f",
             "gridcolor": "white",
             "linecolor": "white",
             "minorgridcolor": "white",
             "startlinecolor": "#2a3f5f"
            },
            "baxis": {
             "endlinecolor": "#2a3f5f",
             "gridcolor": "white",
             "linecolor": "white",
             "minorgridcolor": "white",
             "startlinecolor": "#2a3f5f"
            },
            "type": "carpet"
           }
          ],
          "choropleth": [
           {
            "colorbar": {
             "outlinewidth": 0,
             "ticks": ""
            },
            "type": "choropleth"
           }
          ],
          "contour": [
           {
            "colorbar": {
             "outlinewidth": 0,
             "ticks": ""
            },
            "colorscale": [
             [
              0,
              "#0d0887"
             ],
             [
              0.1111111111111111,
              "#46039f"
             ],
             [
              0.2222222222222222,
              "#7201a8"
             ],
             [
              0.3333333333333333,
              "#9c179e"
             ],
             [
              0.4444444444444444,
              "#bd3786"
             ],
             [
              0.5555555555555556,
              "#d8576b"
             ],
             [
              0.6666666666666666,
              "#ed7953"
             ],
             [
              0.7777777777777778,
              "#fb9f3a"
             ],
             [
              0.8888888888888888,
              "#fdca26"
             ],
             [
              1,
              "#f0f921"
             ]
            ],
            "type": "contour"
           }
          ],
          "contourcarpet": [
           {
            "colorbar": {
             "outlinewidth": 0,
             "ticks": ""
            },
            "type": "contourcarpet"
           }
          ],
          "heatmap": [
           {
            "colorbar": {
             "outlinewidth": 0,
             "ticks": ""
            },
            "colorscale": [
             [
              0,
              "#0d0887"
             ],
             [
              0.1111111111111111,
              "#46039f"
             ],
             [
              0.2222222222222222,
              "#7201a8"
             ],
             [
              0.3333333333333333,
              "#9c179e"
             ],
             [
              0.4444444444444444,
              "#bd3786"
             ],
             [
              0.5555555555555556,
              "#d8576b"
             ],
             [
              0.6666666666666666,
              "#ed7953"
             ],
             [
              0.7777777777777778,
              "#fb9f3a"
             ],
             [
              0.8888888888888888,
              "#fdca26"
             ],
             [
              1,
              "#f0f921"
             ]
            ],
            "type": "heatmap"
           }
          ],
          "heatmapgl": [
           {
            "colorbar": {
             "outlinewidth": 0,
             "ticks": ""
            },
            "colorscale": [
             [
              0,
              "#0d0887"
             ],
             [
              0.1111111111111111,
              "#46039f"
             ],
             [
              0.2222222222222222,
              "#7201a8"
             ],
             [
              0.3333333333333333,
              "#9c179e"
             ],
             [
              0.4444444444444444,
              "#bd3786"
             ],
             [
              0.5555555555555556,
              "#d8576b"
             ],
             [
              0.6666666666666666,
              "#ed7953"
             ],
             [
              0.7777777777777778,
              "#fb9f3a"
             ],
             [
              0.8888888888888888,
              "#fdca26"
             ],
             [
              1,
              "#f0f921"
             ]
            ],
            "type": "heatmapgl"
           }
          ],
          "histogram": [
           {
            "marker": {
             "pattern": {
              "fillmode": "overlay",
              "size": 10,
              "solidity": 0.2
             }
            },
            "type": "histogram"
           }
          ],
          "histogram2d": [
           {
            "colorbar": {
             "outlinewidth": 0,
             "ticks": ""
            },
            "colorscale": [
             [
              0,
              "#0d0887"
             ],
             [
              0.1111111111111111,
              "#46039f"
             ],
             [
              0.2222222222222222,
              "#7201a8"
             ],
             [
              0.3333333333333333,
              "#9c179e"
             ],
             [
              0.4444444444444444,
              "#bd3786"
             ],
             [
              0.5555555555555556,
              "#d8576b"
             ],
             [
              0.6666666666666666,
              "#ed7953"
             ],
             [
              0.7777777777777778,
              "#fb9f3a"
             ],
             [
              0.8888888888888888,
              "#fdca26"
             ],
             [
              1,
              "#f0f921"
             ]
            ],
            "type": "histogram2d"
           }
          ],
          "histogram2dcontour": [
           {
            "colorbar": {
             "outlinewidth": 0,
             "ticks": ""
            },
            "colorscale": [
             [
              0,
              "#0d0887"
             ],
             [
              0.1111111111111111,
              "#46039f"
             ],
             [
              0.2222222222222222,
              "#7201a8"
             ],
             [
              0.3333333333333333,
              "#9c179e"
             ],
             [
              0.4444444444444444,
              "#bd3786"
             ],
             [
              0.5555555555555556,
              "#d8576b"
             ],
             [
              0.6666666666666666,
              "#ed7953"
             ],
             [
              0.7777777777777778,
              "#fb9f3a"
             ],
             [
              0.8888888888888888,
              "#fdca26"
             ],
             [
              1,
              "#f0f921"
             ]
            ],
            "type": "histogram2dcontour"
           }
          ],
          "mesh3d": [
           {
            "colorbar": {
             "outlinewidth": 0,
             "ticks": ""
            },
            "type": "mesh3d"
           }
          ],
          "parcoords": [
           {
            "line": {
             "colorbar": {
              "outlinewidth": 0,
              "ticks": ""
             }
            },
            "type": "parcoords"
           }
          ],
          "pie": [
           {
            "automargin": true,
            "type": "pie"
           }
          ],
          "scatter": [
           {
            "fillpattern": {
             "fillmode": "overlay",
             "size": 10,
             "solidity": 0.2
            },
            "type": "scatter"
           }
          ],
          "scatter3d": [
           {
            "line": {
             "colorbar": {
              "outlinewidth": 0,
              "ticks": ""
             }
            },
            "marker": {
             "colorbar": {
              "outlinewidth": 0,
              "ticks": ""
             }
            },
            "type": "scatter3d"
           }
          ],
          "scattercarpet": [
           {
            "marker": {
             "colorbar": {
              "outlinewidth": 0,
              "ticks": ""
             }
            },
            "type": "scattercarpet"
           }
          ],
          "scattergeo": [
           {
            "marker": {
             "colorbar": {
              "outlinewidth": 0,
              "ticks": ""
             }
            },
            "type": "scattergeo"
           }
          ],
          "scattergl": [
           {
            "marker": {
             "colorbar": {
              "outlinewidth": 0,
              "ticks": ""
             }
            },
            "type": "scattergl"
           }
          ],
          "scattermapbox": [
           {
            "marker": {
             "colorbar": {
              "outlinewidth": 0,
              "ticks": ""
             }
            },
            "type": "scattermapbox"
           }
          ],
          "scatterpolar": [
           {
            "marker": {
             "colorbar": {
              "outlinewidth": 0,
              "ticks": ""
             }
            },
            "type": "scatterpolar"
           }
          ],
          "scatterpolargl": [
           {
            "marker": {
             "colorbar": {
              "outlinewidth": 0,
              "ticks": ""
             }
            },
            "type": "scatterpolargl"
           }
          ],
          "scatterternary": [
           {
            "marker": {
             "colorbar": {
              "outlinewidth": 0,
              "ticks": ""
             }
            },
            "type": "scatterternary"
           }
          ],
          "surface": [
           {
            "colorbar": {
             "outlinewidth": 0,
             "ticks": ""
            },
            "colorscale": [
             [
              0,
              "#0d0887"
             ],
             [
              0.1111111111111111,
              "#46039f"
             ],
             [
              0.2222222222222222,
              "#7201a8"
             ],
             [
              0.3333333333333333,
              "#9c179e"
             ],
             [
              0.4444444444444444,
              "#bd3786"
             ],
             [
              0.5555555555555556,
              "#d8576b"
             ],
             [
              0.6666666666666666,
              "#ed7953"
             ],
             [
              0.7777777777777778,
              "#fb9f3a"
             ],
             [
              0.8888888888888888,
              "#fdca26"
             ],
             [
              1,
              "#f0f921"
             ]
            ],
            "type": "surface"
           }
          ],
          "table": [
           {
            "cells": {
             "fill": {
              "color": "#EBF0F8"
             },
             "line": {
              "color": "white"
             }
            },
            "header": {
             "fill": {
              "color": "#C8D4E3"
             },
             "line": {
              "color": "white"
             }
            },
            "type": "table"
           }
          ]
         },
         "layout": {
          "annotationdefaults": {
           "arrowcolor": "#2a3f5f",
           "arrowhead": 0,
           "arrowwidth": 1
          },
          "autotypenumbers": "strict",
          "coloraxis": {
           "colorbar": {
            "outlinewidth": 0,
            "ticks": ""
           }
          },
          "colorscale": {
           "diverging": [
            [
             0,
             "#8e0152"
            ],
            [
             0.1,
             "#c51b7d"
            ],
            [
             0.2,
             "#de77ae"
            ],
            [
             0.3,
             "#f1b6da"
            ],
            [
             0.4,
             "#fde0ef"
            ],
            [
             0.5,
             "#f7f7f7"
            ],
            [
             0.6,
             "#e6f5d0"
            ],
            [
             0.7,
             "#b8e186"
            ],
            [
             0.8,
             "#7fbc41"
            ],
            [
             0.9,
             "#4d9221"
            ],
            [
             1,
             "#276419"
            ]
           ],
           "sequential": [
            [
             0,
             "#0d0887"
            ],
            [
             0.1111111111111111,
             "#46039f"
            ],
            [
             0.2222222222222222,
             "#7201a8"
            ],
            [
             0.3333333333333333,
             "#9c179e"
            ],
            [
             0.4444444444444444,
             "#bd3786"
            ],
            [
             0.5555555555555556,
             "#d8576b"
            ],
            [
             0.6666666666666666,
             "#ed7953"
            ],
            [
             0.7777777777777778,
             "#fb9f3a"
            ],
            [
             0.8888888888888888,
             "#fdca26"
            ],
            [
             1,
             "#f0f921"
            ]
           ],
           "sequentialminus": [
            [
             0,
             "#0d0887"
            ],
            [
             0.1111111111111111,
             "#46039f"
            ],
            [
             0.2222222222222222,
             "#7201a8"
            ],
            [
             0.3333333333333333,
             "#9c179e"
            ],
            [
             0.4444444444444444,
             "#bd3786"
            ],
            [
             0.5555555555555556,
             "#d8576b"
            ],
            [
             0.6666666666666666,
             "#ed7953"
            ],
            [
             0.7777777777777778,
             "#fb9f3a"
            ],
            [
             0.8888888888888888,
             "#fdca26"
            ],
            [
             1,
             "#f0f921"
            ]
           ]
          },
          "colorway": [
           "#636efa",
           "#EF553B",
           "#00cc96",
           "#ab63fa",
           "#FFA15A",
           "#19d3f3",
           "#FF6692",
           "#B6E880",
           "#FF97FF",
           "#FECB52"
          ],
          "font": {
           "color": "#2a3f5f"
          },
          "geo": {
           "bgcolor": "white",
           "lakecolor": "white",
           "landcolor": "#E5ECF6",
           "showlakes": true,
           "showland": true,
           "subunitcolor": "white"
          },
          "hoverlabel": {
           "align": "left"
          },
          "hovermode": "closest",
          "mapbox": {
           "style": "light"
          },
          "paper_bgcolor": "white",
          "plot_bgcolor": "#E5ECF6",
          "polar": {
           "angularaxis": {
            "gridcolor": "white",
            "linecolor": "white",
            "ticks": ""
           },
           "bgcolor": "#E5ECF6",
           "radialaxis": {
            "gridcolor": "white",
            "linecolor": "white",
            "ticks": ""
           }
          },
          "scene": {
           "xaxis": {
            "backgroundcolor": "#E5ECF6",
            "gridcolor": "white",
            "gridwidth": 2,
            "linecolor": "white",
            "showbackground": true,
            "ticks": "",
            "zerolinecolor": "white"
           },
           "yaxis": {
            "backgroundcolor": "#E5ECF6",
            "gridcolor": "white",
            "gridwidth": 2,
            "linecolor": "white",
            "showbackground": true,
            "ticks": "",
            "zerolinecolor": "white"
           },
           "zaxis": {
            "backgroundcolor": "#E5ECF6",
            "gridcolor": "white",
            "gridwidth": 2,
            "linecolor": "white",
            "showbackground": true,
            "ticks": "",
            "zerolinecolor": "white"
           }
          },
          "shapedefaults": {
           "line": {
            "color": "#2a3f5f"
           }
          },
          "ternary": {
           "aaxis": {
            "gridcolor": "white",
            "linecolor": "white",
            "ticks": ""
           },
           "baxis": {
            "gridcolor": "white",
            "linecolor": "white",
            "ticks": ""
           },
           "bgcolor": "#E5ECF6",
           "caxis": {
            "gridcolor": "white",
            "linecolor": "white",
            "ticks": ""
           }
          },
          "title": {
           "x": 0.05
          },
          "xaxis": {
           "automargin": true,
           "gridcolor": "white",
           "linecolor": "white",
           "ticks": "",
           "title": {
            "standoff": 15
           },
           "zerolinecolor": "white",
           "zerolinewidth": 2
          },
          "yaxis": {
           "automargin": true,
           "gridcolor": "white",
           "linecolor": "white",
           "ticks": "",
           "title": {
            "standoff": 15
           },
           "zerolinecolor": "white",
           "zerolinewidth": 2
          }
         }
        },
        "title": {
         "text": "Distribution of Easy Apply",
         "x": 0.5
        }
       }
      },
      "image/png": "[encoded data removed]",
      "text/html": [
       "<div>                            <div id=\"598a1219-1187-420c-9534-4c45db04336b\" class=\"plotly-graph-div\" style=\"height:525px; width:100%;\"></div>            <script type=\"text/javascript\">                require([\"plotly\"], function(Plotly) {                    window.PLOTLYENV=window.PLOTLYENV || {};                                    if (document.getElementById(\"598a1219-1187-420c-9534-4c45db04336b\")) {                    Plotly.newPlot(                        \"598a1219-1187-420c-9534-4c45db04336b\",                        [{\"customdata\":[[true],[false]],\"domain\":{\"x\":[0.0,1.0],\"y\":[0.0,1.0]},\"hole\":0.3,\"hovertemplate\":\"Easy Apply=%{customdata[0]}\\u003cbr\\u003evalue=%{value}\\u003cextra\\u003e\\u003c\\u002fextra\\u003e\",\"labels\":[true,false],\"legendgroup\":\"\",\"marker\":{\"colors\":[\"#00cc96\",\"#ab63fa\"]},\"name\":\"\",\"showlegend\":true,\"values\":[15,5],\"type\":\"pie\"}],                        {\"template\":{\"data\":{\"histogram2dcontour\":[{\"type\":\"histogram2dcontour\",\"colorbar\":{\"outlinewidth\":0,\"ticks\":\"\"},\"colorscale\":[[0.0,\"#0d0887\"],[0.1111111111111111,\"#46039f\"],[0.2222222222222222,\"#7201a8\"],[0.3333333333333333,\"#9c179e\"],[0.4444444444444444,\"#bd3786\"],[0.5555555555555556,\"#d8576b\"],[0.6666666666666666,\"#ed7953\"],[0.7777777777777778,\"#fb9f3a\"],[0.8888888888888888,\"#fdca26\"],[1.0,\"#f0f921\"]]}],\"choropleth\":[{\"type\":\"choropleth\",\"colorbar\":{\"outlinewidth\":0,\"ticks\":\"\"}}],\"histogram2d\":[{\"type\":\"histogram2d\",\"colorbar\":{\"outlinewidth\":0,\"ticks\":\"\"},\"colorscale\":[[0.0,\"#0d0887\"],[0.1111111111111111,\"#46039f\"],[0.2222222222222222,\"#7201a8\"],[0.3333333333333333,\"#9c179e\"],[0.4444444444444444,\"#bd3786\"],[0.5555555555555556,\"#d8576b\"],[0.6666666666666666,\"#ed7953\"],[0.7777777777777778,\"#fb9f3a\"],[0.8888888888888888,\"#fdca26\"],[1.0,\"#f0f921\"]]}],\"heatmap\":[{\"type\":\"heatmap\",\"colorbar\":{\"outlinewidth\":0,\"ticks\":\"\"},\"colorscale\":[[0.0,\"#0d0887\"],[0.1111111111111111,\"#46039f\"],[0.2222222222222222,\"#7201a8\"],[0.3333333333333333,\"#9c179e\"],[0.4444444444444444,\"#bd3786\"],[0.5555555555555556,\"#d8576b\"],[0.6666666666666666,\"#ed7953\"],[0.7777777777777778,\"#fb9f3a\"],[0.8888888888888888,\"#fdca26\"],[1.0,\"#f0f921\"]]}],\"heatmapgl\":[{\"type\":\"heatmapgl\",\"colorbar\":{\"outlinewidth\":0,\"ticks\":\"\"},\"colorscale\":[[0.0,\"#0d0887\"],[0.1111111111111111,\"#46039f\"],[0.2222222222222222,\"#7201a8\"],[0.3333333333333333,\"#9c179e\"],[0.4444444444444444,\"#bd3786\"],[0.5555555555555556,\"#d8576b\"],[0.6666666666666666,\"#ed7953\"],[0.7777777777777778,\"#fb9f3a\"],[0.8888888888888888,\"#fdca26\"],[1.0,\"#f0f921\"]]}],\"contourcarpet\":[{\"type\":\"contourcarpet\",\"colorbar\":{\"outlinewidth\":0,\"ticks\":\"\"}}],\"contour\":[{\"type\":\"contour\",\"colorbar\":{\"outlinewidth\":0,\"ticks\":\"\"},\"colorscale\":[[0.0,\"#0d0887\"],[0.1111111111111111,\"#46039f\"],[0.2222222222222222,\"#7201a8\"],[0.3333333333333333,\"#9c179e\"],[0.4444444444444444,\"#bd3786\"],[0.5555555555555556,\"#d8576b\"],[0.6666666666666666,\"#ed7953\"],[0.7777777777777778,\"#fb9f3a\"],[0.8888888888888888,\"#fdca26\"],[1.0,\"#f0f921\"]]}],\"surface\":[{\"type\":\"surface\",\"colorbar\":{\"outlinewidth\":0,\"ticks\":\"\"},\"colorscale\":[[0.0,\"#0d0887\"],[0.1111111111111111,\"#46039f\"],[0.2222222222222222,\"#7201a8\"],[0.3333333333333333,\"#9c179e\"],[0.4444444444444444,\"#bd3786\"],[0.5555555555555556,\"#d8576b\"],[0.6666666666666666,\"#ed7953\"],[0.7777777777777778,\"#fb9f3a\"],[0.8888888888888888,\"#fdca26\"],[1.0,\"#f0f921\"]]}],\"mesh3d\":[{\"type\":\"mesh3d\",\"colorbar\":{\"outlinewidth\":0,\"ticks\":\"\"}}],\"scatter\":[{\"fillpattern\":{\"fillmode\":\"overlay\",\"size\":10,\"solidity\":0.2},\"type\":\"scatter\"}],\"parcoords\":[{\"type\":\"parcoords\",\"line\":{\"colorbar\":{\"outlinewidth\":0,\"ticks\":\"\"}}}],\"scatterpolargl\":[{\"type\":\"scatterpolargl\",\"marker\":{\"colorbar\":{\"outlinewidth\":0,\"ticks\":\"\"}}}],\"bar\":[{\"error_x\":{\"color\":\"#2a3f5f\"},\"error_y\":{\"color\":\"#2a3f5f\"},\"marker\":{\"line\":{\"color\":\"#E5ECF6\",\"width\":0.5},\"pattern\":{\"fillmode\":\"overlay\",\"size\":10,\"solidity\":0.2}},\"type\":\"bar\"}],\"scattergeo\":[{\"type\":\"scattergeo\",\"marker\":{\"colorbar\":{\"outlinewidth\":0,\"ticks\":\"\"}}}],\"scatterpolar\":[{\"type\":\"scatterpolar\",\"marker\":{\"colorbar\":{\"outlinewidth\":0,\"ticks\":\"\"}}}],\"histogram\":[{\"marker\":{\"pattern\":{\"fillmode\":\"overlay\",\"size\":10,\"solidity\":0.2}},\"type\":\"histogram\"}],\"scattergl\":[{\"type\":\"scattergl\",\"marker\":{\"colorbar\":{\"outlinewidth\":0,\"ticks\":\"\"}}}],\"scatter3d\":[{\"type\":\"scatter3d\",\"line\":{\"colorbar\":{\"outlinewidth\":0,\"ticks\":\"\"}},\"marker\":{\"colorbar\":{\"outlinewidth\":0,\"ticks\":\"\"}}}],\"scattermapbox\":[{\"type\":\"scattermapbox\",\"marker\":{\"colorbar\":{\"outlinewidth\":0,\"ticks\":\"\"}}}],\"scatterternary\":[{\"type\":\"scatterternary\",\"marker\":{\"colorbar\":{\"outlinewidth\":0,\"ticks\":\"\"}}}],\"scattercarpet\":[{\"type\":\"scattercarpet\",\"marker\":{\"colorbar\":{\"outlinewidth\":0,\"ticks\":\"\"}}}],\"carpet\":[{\"aaxis\":{\"endlinecolor\":\"#2a3f5f\",\"gridcolor\":\"white\",\"linecolor\":\"white\",\"minorgridcolor\":\"white\",\"startlinecolor\":\"#2a3f5f\"},\"baxis\":{\"endlinecolor\":\"#2a3f5f\",\"gridcolor\":\"white\",\"linecolor\":\"white\",\"minorgridcolor\":\"white\",\"startlinecolor\":\"#2a3f5f\"},\"type\":\"carpet\"}],\"table\":[{\"cells\":{\"fill\":{\"color\":\"#EBF0F8\"},\"line\":{\"color\":\"white\"}},\"header\":{\"fill\":{\"color\":\"#C8D4E3\"},\"line\":{\"color\":\"white\"}},\"type\":\"table\"}],\"barpolar\":[{\"marker\":{\"line\":{\"color\":\"#E5ECF6\",\"width\":0.5},\"pattern\":{\"fillmode\":\"overlay\",\"size\":10,\"solidity\":0.2}},\"type\":\"barpolar\"}],\"pie\":[{\"automargin\":true,\"type\":\"pie\"}]},\"layout\":{\"autotypenumbers\":\"strict\",\"colorway\":[\"#636efa\",\"#EF553B\",\"#00cc96\",\"#ab63fa\",\"#FFA15A\",\"#19d3f3\",\"#FF6692\",\"#B6E880\",\"#FF97FF\",\"#FECB52\"],\"font\":{\"color\":\"#2a3f5f\"},\"hovermode\":\"closest\",\"hoverlabel\":{\"align\":\"left\"},\"paper_bgcolor\":\"white\",\"plot_bgcolor\":\"#E5ECF6\",\"polar\":{\"bgcolor\":\"#E5ECF6\",\"angularaxis\":{\"gridcolor\":\"white\",\"linecolor\":\"white\",\"ticks\":\"\"},\"radialaxis\":{\"gridcolor\":\"white\",\"linecolor\":\"white\",\"ticks\":\"\"}},\"ternary\":{\"bgcolor\":\"#E5ECF6\",\"aaxis\":{\"gridcolor\":\"white\",\"linecolor\":\"white\",\"ticks\":\"\"},\"baxis\":{\"gridcolor\":\"white\",\"linecolor\":\"white\",\"ticks\":\"\"},\"caxis\":{\"gridcolor\":\"white\",\"linecolor\":\"white\",\"ticks\":\"\"}},\"coloraxis\":{\"colorbar\":{\"outlinewidth\":0,\"ticks\":\"\"}},\"colorscale\":{\"sequential\":[[0.0,\"#0d0887\"],[0.1111111111111111,\"#46039f\"],[0.2222222222222222,\"#7201a8\"],[0.3333333333333333,\"#9c179e\"],[0.4444444444444444,\"#bd3786\"],[0.5555555555555556,\"#d8576b\"],[0.6666666666666666,\"#ed7953\"],[0.7777777777777778,\"#fb9f3a\"],[0.8888888888888888,\"#fdca26\"],[1.0,\"#f0f921\"]],\"sequentialminus\":[[0.0,\"#0d0887\"],[0.1111111111111111,\"#46039f\"],[0.2222222222222222,\"#7201a8\"],[0.3333333333333333,\"#9c179e\"],[0.4444444444444444,\"#bd3786\"],[0.5555555555555556,\"#d8576b\"],[0.6666666666666666,\"#ed7953\"],[0.7777777777777778,\"#fb9f3a\"],[0.8888888888888888,\"#fdca26\"],[1.0,\"#f0f921\"]],\"diverging\":[[0,\"#8e0152\"],[0.1,\"#c51b7d\"],[0.2,\"#de77ae\"],[0.3,\"#f1b6da\"],[0.4,\"#fde0ef\"],[0.5,\"#f7f7f7\"],[0.6,\"#e6f5d0\"],[0.7,\"#b8e186\"],[0.8,\"#7fbc41\"],[0.9,\"#4d9221\"],[1,\"#276419\"]]},\"xaxis\":{\"gridcolor\":\"white\",\"linecolor\":\"white\",\"ticks\":\"\",\"title\":{\"standoff\":15},\"zerolinecolor\":\"white\",\"automargin\":true,\"zerolinewidth\":2},\"yaxis\":{\"gridcolor\":\"white\",\"linecolor\":\"white\",\"ticks\":\"\",\"title\":{\"standoff\":15},\"zerolinecolor\":\"white\",\"automargin\":true,\"zerolinewidth\":2},\"scene\":{\"xaxis\":{\"backgroundcolor\":\"#E5ECF6\",\"gridcolor\":\"white\",\"linecolor\":\"white\",\"showbackground\":true,\"ticks\":\"\",\"zerolinecolor\":\"white\",\"gridwidth\":2},\"yaxis\":{\"backgroundcolor\":\"#E5ECF6\",\"gridcolor\":\"white\",\"linecolor\":\"white\",\"showbackground\":true,\"ticks\":\"\",\"zerolinecolor\":\"white\",\"gridwidth\":2},\"zaxis\":{\"backgroundcolor\":\"#E5ECF6\",\"gridcolor\":\"white\",\"linecolor\":\"white\",\"showbackground\":true,\"ticks\":\"\",\"zerolinecolor\":\"white\",\"gridwidth\":2}},\"shapedefaults\":{\"line\":{\"color\":\"#2a3f5f\"}},\"annotationdefaults\":{\"arrowcolor\":\"#2a3f5f\",\"arrowhead\":0,\"arrowwidth\":1},\"geo\":{\"bgcolor\":\"white\",\"landcolor\":\"#E5ECF6\",\"subunitcolor\":\"white\",\"showland\":true,\"showlakes\":true,\"lakecolor\":\"white\"},\"title\":{\"x\":0.05},\"mapbox\":{\"style\":\"light\"}}},\"legend\":{\"tracegroupgap\":0},\"title\":{\"text\":\"Distribution of Easy Apply\",\"x\":0.5}},                        {\"responsive\": true}                    ).then(function(){\n",
       "                            \n",
       "var gd = document.getElementById('598a1219-1187-420c-9534-4c45db04336b');\n",
       "var x = new MutationObserver(function (mutations, observer) {{\n",
       "        var display = window.getComputedStyle(gd).display;\n",
       "        if (!display || display === 'none') {{\n",
       "            console.log([gd, 'removed!']);\n",
       "            Plotly.purge(gd);\n",
       "            observer.disconnect();\n",
       "        }}\n",
       "}});\n",
       "\n",
       "// Listen for the removal of the full notebook cells\n",
       "var notebookContainer = gd.closest('#notebook-container');\n",
       "if (notebookContainer) {{\n",
       "    x.observe(notebookContainer, {childList: true});\n",
       "}}\n",
       "\n",
       "// Listen for the clearing of the current output cell\n",
       "var outputEl = gd.closest('.output');\n",
       "if (outputEl) {{\n",
       "    x.observe(outputEl, {childList: true});\n",
       "}}\n",
       "\n",
       "                        })                };                });            </script>        </div>"
      ]
     },
     "metadata": {},
     "output_type": "display_data"
    },
    {
     "data": {
      "application/vnd.plotly.v1+json": {
       "config": {
        "plotlyServerURL": "https://plot.ly"
       },
       "data": [
        {
         "alignmentgroup": "True",
         "hovertemplate": "Company=%{x}<br>Number of Jobs=%{y}<extra></extra>",
         "legendgroup": "",
         "marker": {
          "color": "#636efa",
          "pattern": {
           "shape": ""
          }
         },
         "name": "",
         "offsetgroup": "",
         "orientation": "v",
         "showlegend": false,
         "textposition": "auto",
         "type": "bar",
         "x": [
          "LCX",
          "Infosys Limited",
          "Wits Innovation Lab",
          "Panaesha Capital ltd. pvt",
          "Hack2skill",
          "Zorang Technologies",
          "Ably Corporate",
          "MPACT",
          "SAVE - NGO",
          "CoinFantasy",
          "QuillHash Technologies Pvt Ltd",
          "Synergy Labs",
          "Varaha ClimateAg Private Limited",
          "TeraBlock",
          "Waterneer Biokube Technologies",
          "Zuvomo",
          "Sarahna Industries Pvt. Ltd.",
          "REGex Software Services",
          "Lapits Technologies"
         ],
         "xaxis": "x",
         "y": [
          2,
          1,
          1,
          1,
          1,
          1,
          1,
          1,
          1,
          1,
          1,
          1,
          1,
          1,
          1,
          1,
          1,
          1,
          1
         ],
         "yaxis": "y"
        }
       ],
       "layout": {
        "autosize": true,
        "barmode": "relative",
        "legend": {
         "tracegroupgap": 0
        },
        "template": {
         "data": {
          "bar": [
           {
            "error_x": {
             "color": "#2a3f5f"
            },
            "error_y": {
             "color": "#2a3f5f"
            },
            "marker": {
             "line": {
              "color": "#E5ECF6",
              "width": 0.5
             },
             "pattern": {
              "fillmode": "overlay",
              "size": 10,
              "solidity": 0.2
             }
            },
            "type": "bar"
           }
          ],
          "barpolar": [
           {
            "marker": {
             "line": {
              "color": "#E5ECF6",
              "width": 0.5
             },
             "pattern": {
              "fillmode": "overlay",
              "size": 10,
              "solidity": 0.2
             }
            },
            "type": "barpolar"
           }
          ],
          "carpet": [
           {
            "aaxis": {
             "endlinecolor": "#2a3f5f",
             "gridcolor": "white",
             "linecolor": "white",
             "minorgridcolor": "white",
             "startlinecolor": "#2a3f5f"
            },
            "baxis": {
             "endlinecolor": "#2a3f5f",
             "gridcolor": "white",
             "linecolor": "white",
             "minorgridcolor": "white",
             "startlinecolor": "#2a3f5f"
            },
            "type": "carpet"
           }
          ],
          "choropleth": [
           {
            "colorbar": {
             "outlinewidth": 0,
             "ticks": ""
            },
            "type": "choropleth"
           }
          ],
          "contour": [
           {
            "colorbar": {
             "outlinewidth": 0,
             "ticks": ""
            },
            "colorscale": [
             [
              0,
              "#0d0887"
             ],
             [
              0.1111111111111111,
              "#46039f"
             ],
             [
              0.2222222222222222,
              "#7201a8"
             ],
             [
              0.3333333333333333,
              "#9c179e"
             ],
             [
              0.4444444444444444,
              "#bd3786"
             ],
             [
              0.5555555555555556,
              "#d8576b"
             ],
             [
              0.6666666666666666,
              "#ed7953"
             ],
             [
              0.7777777777777778,
              "#fb9f3a"
             ],
             [
              0.8888888888888888,
              "#fdca26"
             ],
             [
              1,
              "#f0f921"
             ]
            ],
            "type": "contour"
           }
          ],
          "contourcarpet": [
           {
            "colorbar": {
             "outlinewidth": 0,
             "ticks": ""
            },
            "type": "contourcarpet"
           }
          ],
          "heatmap": [
           {
            "colorbar": {
             "outlinewidth": 0,
             "ticks": ""
            },
            "colorscale": [
             [
              0,
              "#0d0887"
             ],
             [
              0.1111111111111111,
              "#46039f"
             ],
             [
              0.2222222222222222,
              "#7201a8"
             ],
             [
              0.3333333333333333,
              "#9c179e"
             ],
             [
              0.4444444444444444,
              "#bd3786"
             ],
             [
              0.5555555555555556,
              "#d8576b"
             ],
             [
              0.6666666666666666,
              "#ed7953"
             ],
             [
              0.7777777777777778,
              "#fb9f3a"
             ],
             [
              0.8888888888888888,
              "#fdca26"
             ],
             [
              1,
              "#f0f921"
             ]
            ],
            "type": "heatmap"
           }
          ],
          "heatmapgl": [
           {
            "colorbar": {
             "outlinewidth": 0,
             "ticks": ""
            },
            "colorscale": [
             [
              0,
              "#0d0887"
             ],
             [
              0.1111111111111111,
              "#46039f"
             ],
             [
              0.2222222222222222,
              "#7201a8"
             ],
             [
              0.3333333333333333,
              "#9c179e"
             ],
             [
              0.4444444444444444,
              "#bd3786"
             ],
             [
              0.5555555555555556,
              "#d8576b"
             ],
             [
              0.6666666666666666,
              "#ed7953"
             ],
             [
              0.7777777777777778,
              "#fb9f3a"
             ],
             [
              0.8888888888888888,
              "#fdca26"
             ],
             [
              1,
              "#f0f921"
             ]
            ],
            "type": "heatmapgl"
           }
          ],
          "histogram": [
           {
            "marker": {
             "pattern": {
              "fillmode": "overlay",
              "size": 10,
              "solidity": 0.2
             }
            },
            "type": "histogram"
           }
          ],
          "histogram2d": [
           {
            "colorbar": {
             "outlinewidth": 0,
             "ticks": ""
            },
            "colorscale": [
             [
              0,
              "#0d0887"
             ],
             [
              0.1111111111111111,
              "#46039f"
             ],
             [
              0.2222222222222222,
              "#7201a8"
             ],
             [
              0.3333333333333333,
              "#9c179e"
             ],
             [
              0.4444444444444444,
              "#bd3786"
             ],
             [
              0.5555555555555556,
              "#d8576b"
             ],
             [
              0.6666666666666666,
              "#ed7953"
             ],
             [
              0.7777777777777778,
              "#fb9f3a"
             ],
             [
              0.8888888888888888,
              "#fdca26"
             ],
             [
              1,
              "#f0f921"
             ]
            ],
            "type": "histogram2d"
           }
          ],
          "histogram2dcontour": [
           {
            "colorbar": {
             "outlinewidth": 0,
             "ticks": ""
            },
            "colorscale": [
             [
              0,
              "#0d0887"
             ],
             [
              0.1111111111111111,
              "#46039f"
             ],
             [
              0.2222222222222222,
              "#7201a8"
             ],
             [
              0.3333333333333333,
              "#9c179e"
             ],
             [
              0.4444444444444444,
              "#bd3786"
             ],
             [
              0.5555555555555556,
              "#d8576b"
             ],
             [
              0.6666666666666666,
              "#ed7953"
             ],
             [
              0.7777777777777778,
              "#fb9f3a"
             ],
             [
              0.8888888888888888,
              "#fdca26"
             ],
             [
              1,
              "#f0f921"
             ]
            ],
            "type": "histogram2dcontour"
           }
          ],
          "mesh3d": [
           {
            "colorbar": {
             "outlinewidth": 0,
             "ticks": ""
            },
            "type": "mesh3d"
           }
          ],
          "parcoords": [
           {
            "line": {
             "colorbar": {
              "outlinewidth": 0,
              "ticks": ""
             }
            },
            "type": "parcoords"
           }
          ],
          "pie": [
           {
            "automargin": true,
            "type": "pie"
           }
          ],
          "scatter": [
           {
            "fillpattern": {
             "fillmode": "overlay",
             "size": 10,
             "solidity": 0.2
            },
            "type": "scatter"
           }
          ],
          "scatter3d": [
           {
            "line": {
             "colorbar": {
              "outlinewidth": 0,
              "ticks": ""
             }
            },
            "marker": {
             "colorbar": {
              "outlinewidth": 0,
              "ticks": ""
             }
            },
            "type": "scatter3d"
           }
          ],
          "scattercarpet": [
           {
            "marker": {
             "colorbar": {
              "outlinewidth": 0,
              "ticks": ""
             }
            },
            "type": "scattercarpet"
           }
          ],
          "scattergeo": [
           {
            "marker": {
             "colorbar": {
              "outlinewidth": 0,
              "ticks": ""
             }
            },
            "type": "scattergeo"
           }
          ],
          "scattergl": [
           {
            "marker": {
             "colorbar": {
              "outlinewidth": 0,
              "ticks": ""
             }
            },
            "type": "scattergl"
           }
          ],
          "scattermapbox": [
           {
            "marker": {
             "colorbar": {
              "outlinewidth": 0,
              "ticks": ""
             }
            },
            "type": "scattermapbox"
           }
          ],
          "scatterpolar": [
           {
            "marker": {
             "colorbar": {
              "outlinewidth": 0,
              "ticks": ""
             }
            },
            "type": "scatterpolar"
           }
          ],
          "scatterpolargl": [
           {
            "marker": {
             "colorbar": {
              "outlinewidth": 0,
              "ticks": ""
             }
            },
            "type": "scatterpolargl"
           }
          ],
          "scatterternary": [
           {
            "marker": {
             "colorbar": {
              "outlinewidth": 0,
              "ticks": ""
             }
            },
            "type": "scatterternary"
           }
          ],
          "surface": [
           {
            "colorbar": {
             "outlinewidth": 0,
             "ticks": ""
            },
            "colorscale": [
             [
              0,
              "#0d0887"
             ],
             [
              0.1111111111111111,
              "#46039f"
             ],
             [
              0.2222222222222222,
              "#7201a8"
             ],
             [
              0.3333333333333333,
              "#9c179e"
             ],
             [
              0.4444444444444444,
              "#bd3786"
             ],
             [
              0.5555555555555556,
              "#d8576b"
             ],
             [
              0.6666666666666666,
              "#ed7953"
             ],
             [
              0.7777777777777778,
              "#fb9f3a"
             ],
             [
              0.8888888888888888,
              "#fdca26"
             ],
             [
              1,
              "#f0f921"
             ]
            ],
            "type": "surface"
           }
          ],
          "table": [
           {
            "cells": {
             "fill": {
              "color": "#EBF0F8"
             },
             "line": {
              "color": "white"
             }
            },
            "header": {
             "fill": {
              "color": "#C8D4E3"
             },
             "line": {
              "color": "white"
             }
            },
            "type": "table"
           }
          ]
         },
         "layout": {
          "annotationdefaults": {
           "arrowcolor": "#2a3f5f",
           "arrowhead": 0,
           "arrowwidth": 1
          },
          "autotypenumbers": "strict",
          "coloraxis": {
           "colorbar": {
            "outlinewidth": 0,
            "ticks": ""
           }
          },
          "colorscale": {
           "diverging": [
            [
             0,
             "#8e0152"
            ],
            [
             0.1,
             "#c51b7d"
            ],
            [
             0.2,
             "#de77ae"
            ],
            [
             0.3,
             "#f1b6da"
            ],
            [
             0.4,
             "#fde0ef"
            ],
            [
             0.5,
             "#f7f7f7"
            ],
            [
             0.6,
             "#e6f5d0"
            ],
            [
             0.7,
             "#b8e186"
            ],
            [
             0.8,
             "#7fbc41"
            ],
            [
             0.9,
             "#4d9221"
            ],
            [
             1,
             "#276419"
            ]
           ],
           "sequential": [
            [
             0,
             "#0d0887"
            ],
            [
             0.1111111111111111,
             "#46039f"
            ],
            [
             0.2222222222222222,
             "#7201a8"
            ],
            [
             0.3333333333333333,
             "#9c179e"
            ],
            [
             0.4444444444444444,
             "#bd3786"
            ],
            [
             0.5555555555555556,
             "#d8576b"
            ],
            [
             0.6666666666666666,
             "#ed7953"
            ],
            [
             0.7777777777777778,
             "#fb9f3a"
            ],
            [
             0.8888888888888888,
             "#fdca26"
            ],
            [
             1,
             "#f0f921"
            ]
           ],
           "sequentialminus": [
            [
             0,
             "#0d0887"
            ],
            [
             0.1111111111111111,
             "#46039f"
            ],
            [
             0.2222222222222222,
             "#7201a8"
            ],
            [
             0.3333333333333333,
             "#9c179e"
            ],
            [
             0.4444444444444444,
             "#bd3786"
            ],
            [
             0.5555555555555556,
             "#d8576b"
            ],
            [
             0.6666666666666666,
             "#ed7953"
            ],
            [
             0.7777777777777778,
             "#fb9f3a"
            ],
            [
             0.8888888888888888,
             "#fdca26"
            ],
            [
             1,
             "#f0f921"
            ]
           ]
          },
          "colorway": [
           "#636efa",
           "#EF553B",
           "#00cc96",
           "#ab63fa",
           "#FFA15A",
           "#19d3f3",
           "#FF6692",
           "#B6E880",
           "#FF97FF",
           "#FECB52"
          ],
          "font": {
           "color": "#2a3f5f"
          },
          "geo": {
           "bgcolor": "white",
           "lakecolor": "white",
           "landcolor": "#E5ECF6",
           "showlakes": true,
           "showland": true,
           "subunitcolor": "white"
          },
          "hoverlabel": {
           "align": "left"
          },
          "hovermode": "closest",
          "mapbox": {
           "style": "light"
          },
          "paper_bgcolor": "white",
          "plot_bgcolor": "#E5ECF6",
          "polar": {
           "angularaxis": {
            "gridcolor": "white",
            "linecolor": "white",
            "ticks": ""
           },
           "bgcolor": "#E5ECF6",
           "radialaxis": {
            "gridcolor": "white",
            "linecolor": "white",
            "ticks": ""
           }
          },
          "scene": {
           "xaxis": {
            "backgroundcolor": "#E5ECF6",
            "gridcolor": "white",
            "gridwidth": 2,
            "linecolor": "white",
            "showbackground": true,
            "ticks": "",
            "zerolinecolor": "white"
           },
           "yaxis": {
            "backgroundcolor": "#E5ECF6",
            "gridcolor": "white",
            "gridwidth": 2,
            "linecolor": "white",
            "showbackground": true,
            "ticks": "",
            "zerolinecolor": "white"
           },
           "zaxis": {
            "backgroundcolor": "#E5ECF6",
            "gridcolor": "white",
            "gridwidth": 2,
            "linecolor": "white",
            "showbackground": true,
            "ticks": "",
            "zerolinecolor": "white"
           }
          },
          "shapedefaults": {
           "line": {
            "color": "#2a3f5f"
           }
          },
          "ternary": {
           "aaxis": {
            "gridcolor": "white",
            "linecolor": "white",
            "ticks": ""
           },
           "baxis": {
            "gridcolor": "white",
            "linecolor": "white",
            "ticks": ""
           },
           "bgcolor": "#E5ECF6",
           "caxis": {
            "gridcolor": "white",
            "linecolor": "white",
            "ticks": ""
           }
          },
          "title": {
           "x": 0.05
          },
          "xaxis": {
           "automargin": true,
           "gridcolor": "white",
           "linecolor": "white",
           "ticks": "",
           "title": {
            "standoff": 15
           },
           "zerolinecolor": "white",
           "zerolinewidth": 2
          },
          "yaxis": {
           "automargin": true,
           "gridcolor": "white",
           "linecolor": "white",
           "ticks": "",
           "title": {
            "standoff": 15
           },
           "zerolinecolor": "white",
           "zerolinewidth": 2
          }
         }
        },
        "title": {
         "text": "Company Count",
         "x": 0.5
        },
        "xaxis": {
         "anchor": "y",
         "autorange": true,
         "domain": [
          0,
          1
         ],
         "range": [
          -0.5,
          18.5
         ],
         "title": {
          "text": "Company"
         },
         "type": "category"
        },
        "yaxis": {
         "anchor": "x",
         "autorange": true,
         "domain": [
          0,
          1
         ],
         "range": [
          0,
          2.1052631578947367
         ],
         "title": {
          "text": "Number of Jobs"
         },
         "type": "linear"
        }
       }
      },
      "image/png": "[encoded data removed]",
      "text/html": [
       "<div>                            <div id=\"2233b295-861c-4e1a-b583-813278110ffb\" class=\"plotly-graph-div\" style=\"height:525px; width:100%;\"></div>            <script type=\"text/javascript\">                require([\"plotly\"], function(Plotly) {                    window.PLOTLYENV=window.PLOTLYENV || {};                                    if (document.getElementById(\"2233b295-861c-4e1a-b583-813278110ffb\")) {                    Plotly.newPlot(                        \"2233b295-861c-4e1a-b583-813278110ffb\",                        [{\"alignmentgroup\":\"True\",\"hovertemplate\":\"Company=%{x}\\u003cbr\\u003eNumber of Jobs=%{y}\\u003cextra\\u003e\\u003c\\u002fextra\\u003e\",\"legendgroup\":\"\",\"marker\":{\"color\":\"#636efa\",\"pattern\":{\"shape\":\"\"}},\"name\":\"\",\"offsetgroup\":\"\",\"orientation\":\"v\",\"showlegend\":false,\"textposition\":\"auto\",\"x\":[\"LCX\",\"Infosys Limited\",\"Wits Innovation Lab\",\"Panaesha Capital ltd. pvt\",\"Hack2skill\",\"Zorang Technologies\",\"Ably Corporate\",\"MPACT\",\"SAVE - NGO\",\"CoinFantasy\",\"QuillHash Technologies Pvt Ltd\",\"Synergy Labs\",\"Varaha ClimateAg Private Limited\",\"TeraBlock\",\"Waterneer Biokube Technologies\",\"Zuvomo\",\"Sarahna Industries Pvt. Ltd.\",\"REGex Software Services\",\"Lapits Technologies\"],\"xaxis\":\"x\",\"y\":[2,1,1,1,1,1,1,1,1,1,1,1,1,1,1,1,1,1,1],\"yaxis\":\"y\",\"type\":\"bar\"}],                        {\"template\":{\"data\":{\"histogram2dcontour\":[{\"type\":\"histogram2dcontour\",\"colorbar\":{\"outlinewidth\":0,\"ticks\":\"\"},\"colorscale\":[[0.0,\"#0d0887\"],[0.1111111111111111,\"#46039f\"],[0.2222222222222222,\"#7201a8\"],[0.3333333333333333,\"#9c179e\"],[0.4444444444444444,\"#bd3786\"],[0.5555555555555556,\"#d8576b\"],[0.6666666666666666,\"#ed7953\"],[0.7777777777777778,\"#fb9f3a\"],[0.8888888888888888,\"#fdca26\"],[1.0,\"#f0f921\"]]}],\"choropleth\":[{\"type\":\"choropleth\",\"colorbar\":{\"outlinewidth\":0,\"ticks\":\"\"}}],\"histogram2d\":[{\"type\":\"histogram2d\",\"colorbar\":{\"outlinewidth\":0,\"ticks\":\"\"},\"colorscale\":[[0.0,\"#0d0887\"],[0.1111111111111111,\"#46039f\"],[0.2222222222222222,\"#7201a8\"],[0.3333333333333333,\"#9c179e\"],[0.4444444444444444,\"#bd3786\"],[0.5555555555555556,\"#d8576b\"],[0.6666666666666666,\"#ed7953\"],[0.7777777777777778,\"#fb9f3a\"],[0.8888888888888888,\"#fdca26\"],[1.0,\"#f0f921\"]]}],\"heatmap\":[{\"type\":\"heatmap\",\"colorbar\":{\"outlinewidth\":0,\"ticks\":\"\"},\"colorscale\":[[0.0,\"#0d0887\"],[0.1111111111111111,\"#46039f\"],[0.2222222222222222,\"#7201a8\"],[0.3333333333333333,\"#9c179e\"],[0.4444444444444444,\"#bd3786\"],[0.5555555555555556,\"#d8576b\"],[0.6666666666666666,\"#ed7953\"],[0.7777777777777778,\"#fb9f3a\"],[0.8888888888888888,\"#fdca26\"],[1.0,\"#f0f921\"]]}],\"heatmapgl\":[{\"type\":\"heatmapgl\",\"colorbar\":{\"outlinewidth\":0,\"ticks\":\"\"},\"colorscale\":[[0.0,\"#0d0887\"],[0.1111111111111111,\"#46039f\"],[0.2222222222222222,\"#7201a8\"],[0.3333333333333333,\"#9c179e\"],[0.4444444444444444,\"#bd3786\"],[0.5555555555555556,\"#d8576b\"],[0.6666666666666666,\"#ed7953\"],[0.7777777777777778,\"#fb9f3a\"],[0.8888888888888888,\"#fdca26\"],[1.0,\"#f0f921\"]]}],\"contourcarpet\":[{\"type\":\"contourcarpet\",\"colorbar\":{\"outlinewidth\":0,\"ticks\":\"\"}}],\"contour\":[{\"type\":\"contour\",\"colorbar\":{\"outlinewidth\":0,\"ticks\":\"\"},\"colorscale\":[[0.0,\"#0d0887\"],[0.1111111111111111,\"#46039f\"],[0.2222222222222222,\"#7201a8\"],[0.3333333333333333,\"#9c179e\"],[0.4444444444444444,\"#bd3786\"],[0.5555555555555556,\"#d8576b\"],[0.6666666666666666,\"#ed7953\"],[0.7777777777777778,\"#fb9f3a\"],[0.8888888888888888,\"#fdca26\"],[1.0,\"#f0f921\"]]}],\"surface\":[{\"type\":\"surface\",\"colorbar\":{\"outlinewidth\":0,\"ticks\":\"\"},\"colorscale\":[[0.0,\"#0d0887\"],[0.1111111111111111,\"#46039f\"],[0.2222222222222222,\"#7201a8\"],[0.3333333333333333,\"#9c179e\"],[0.4444444444444444,\"#bd3786\"],[0.5555555555555556,\"#d8576b\"],[0.6666666666666666,\"#ed7953\"],[0.7777777777777778,\"#fb9f3a\"],[0.8888888888888888,\"#fdca26\"],[1.0,\"#f0f921\"]]}],\"mesh3d\":[{\"type\":\"mesh3d\",\"colorbar\":{\"outlinewidth\":0,\"ticks\":\"\"}}],\"scatter\":[{\"fillpattern\":{\"fillmode\":\"overlay\",\"size\":10,\"solidity\":0.2},\"type\":\"scatter\"}],\"parcoords\":[{\"type\":\"parcoords\",\"line\":{\"colorbar\":{\"outlinewidth\":0,\"ticks\":\"\"}}}],\"scatterpolargl\":[{\"type\":\"scatterpolargl\",\"marker\":{\"colorbar\":{\"outlinewidth\":0,\"ticks\":\"\"}}}],\"bar\":[{\"error_x\":{\"color\":\"#2a3f5f\"},\"error_y\":{\"color\":\"#2a3f5f\"},\"marker\":{\"line\":{\"color\":\"#E5ECF6\",\"width\":0.5},\"pattern\":{\"fillmode\":\"overlay\",\"size\":10,\"solidity\":0.2}},\"type\":\"bar\"}],\"scattergeo\":[{\"type\":\"scattergeo\",\"marker\":{\"colorbar\":{\"outlinewidth\":0,\"ticks\":\"\"}}}],\"scatterpolar\":[{\"type\":\"scatterpolar\",\"marker\":{\"colorbar\":{\"outlinewidth\":0,\"ticks\":\"\"}}}],\"histogram\":[{\"marker\":{\"pattern\":{\"fillmode\":\"overlay\",\"size\":10,\"solidity\":0.2}},\"type\":\"histogram\"}],\"scattergl\":[{\"type\":\"scattergl\",\"marker\":{\"colorbar\":{\"outlinewidth\":0,\"ticks\":\"\"}}}],\"scatter3d\":[{\"type\":\"scatter3d\",\"line\":{\"colorbar\":{\"outlinewidth\":0,\"ticks\":\"\"}},\"marker\":{\"colorbar\":{\"outlinewidth\":0,\"ticks\":\"\"}}}],\"scattermapbox\":[{\"type\":\"scattermapbox\",\"marker\":{\"colorbar\":{\"outlinewidth\":0,\"ticks\":\"\"}}}],\"scatterternary\":[{\"type\":\"scatterternary\",\"marker\":{\"colorbar\":{\"outlinewidth\":0,\"ticks\":\"\"}}}],\"scattercarpet\":[{\"type\":\"scattercarpet\",\"marker\":{\"colorbar\":{\"outlinewidth\":0,\"ticks\":\"\"}}}],\"carpet\":[{\"aaxis\":{\"endlinecolor\":\"#2a3f5f\",\"gridcolor\":\"white\",\"linecolor\":\"white\",\"minorgridcolor\":\"white\",\"startlinecolor\":\"#2a3f5f\"},\"baxis\":{\"endlinecolor\":\"#2a3f5f\",\"gridcolor\":\"white\",\"linecolor\":\"white\",\"minorgridcolor\":\"white\",\"startlinecolor\":\"#2a3f5f\"},\"type\":\"carpet\"}],\"table\":[{\"cells\":{\"fill\":{\"color\":\"#EBF0F8\"},\"line\":{\"color\":\"white\"}},\"header\":{\"fill\":{\"color\":\"#C8D4E3\"},\"line\":{\"color\":\"white\"}},\"type\":\"table\"}],\"barpolar\":[{\"marker\":{\"line\":{\"color\":\"#E5ECF6\",\"width\":0.5},\"pattern\":{\"fillmode\":\"overlay\",\"size\":10,\"solidity\":0.2}},\"type\":\"barpolar\"}],\"pie\":[{\"automargin\":true,\"type\":\"pie\"}]},\"layout\":{\"autotypenumbers\":\"strict\",\"colorway\":[\"#636efa\",\"#EF553B\",\"#00cc96\",\"#ab63fa\",\"#FFA15A\",\"#19d3f3\",\"#FF6692\",\"#B6E880\",\"#FF97FF\",\"#FECB52\"],\"font\":{\"color\":\"#2a3f5f\"},\"hovermode\":\"closest\",\"hoverlabel\":{\"align\":\"left\"},\"paper_bgcolor\":\"white\",\"plot_bgcolor\":\"#E5ECF6\",\"polar\":{\"bgcolor\":\"#E5ECF6\",\"angularaxis\":{\"gridcolor\":\"white\",\"linecolor\":\"white\",\"ticks\":\"\"},\"radialaxis\":{\"gridcolor\":\"white\",\"linecolor\":\"white\",\"ticks\":\"\"}},\"ternary\":{\"bgcolor\":\"#E5ECF6\",\"aaxis\":{\"gridcolor\":\"white\",\"linecolor\":\"white\",\"ticks\":\"\"},\"baxis\":{\"gridcolor\":\"white\",\"linecolor\":\"white\",\"ticks\":\"\"},\"caxis\":{\"gridcolor\":\"white\",\"linecolor\":\"white\",\"ticks\":\"\"}},\"coloraxis\":{\"colorbar\":{\"outlinewidth\":0,\"ticks\":\"\"}},\"colorscale\":{\"sequential\":[[0.0,\"#0d0887\"],[0.1111111111111111,\"#46039f\"],[0.2222222222222222,\"#7201a8\"],[0.3333333333333333,\"#9c179e\"],[0.4444444444444444,\"#bd3786\"],[0.5555555555555556,\"#d8576b\"],[0.6666666666666666,\"#ed7953\"],[0.7777777777777778,\"#fb9f3a\"],[0.8888888888888888,\"#fdca26\"],[1.0,\"#f0f921\"]],\"sequentialminus\":[[0.0,\"#0d0887\"],[0.1111111111111111,\"#46039f\"],[0.2222222222222222,\"#7201a8\"],[0.3333333333333333,\"#9c179e\"],[0.4444444444444444,\"#bd3786\"],[0.5555555555555556,\"#d8576b\"],[0.6666666666666666,\"#ed7953\"],[0.7777777777777778,\"#fb9f3a\"],[0.8888888888888888,\"#fdca26\"],[1.0,\"#f0f921\"]],\"diverging\":[[0,\"#8e0152\"],[0.1,\"#c51b7d\"],[0.2,\"#de77ae\"],[0.3,\"#f1b6da\"],[0.4,\"#fde0ef\"],[0.5,\"#f7f7f7\"],[0.6,\"#e6f5d0\"],[0.7,\"#b8e186\"],[0.8,\"#7fbc41\"],[0.9,\"#4d9221\"],[1,\"#276419\"]]},\"xaxis\":{\"gridcolor\":\"white\",\"linecolor\":\"white\",\"ticks\":\"\",\"title\":{\"standoff\":15},\"zerolinecolor\":\"white\",\"automargin\":true,\"zerolinewidth\":2},\"yaxis\":{\"gridcolor\":\"white\",\"linecolor\":\"white\",\"ticks\":\"\",\"title\":{\"standoff\":15},\"zerolinecolor\":\"white\",\"automargin\":true,\"zerolinewidth\":2},\"scene\":{\"xaxis\":{\"backgroundcolor\":\"#E5ECF6\",\"gridcolor\":\"white\",\"linecolor\":\"white\",\"showbackground\":true,\"ticks\":\"\",\"zerolinecolor\":\"white\",\"gridwidth\":2},\"yaxis\":{\"backgroundcolor\":\"#E5ECF6\",\"gridcolor\":\"white\",\"linecolor\":\"white\",\"showbackground\":true,\"ticks\":\"\",\"zerolinecolor\":\"white\",\"gridwidth\":2},\"zaxis\":{\"backgroundcolor\":\"#E5ECF6\",\"gridcolor\":\"white\",\"linecolor\":\"white\",\"showbackground\":true,\"ticks\":\"\",\"zerolinecolor\":\"white\",\"gridwidth\":2}},\"shapedefaults\":{\"line\":{\"color\":\"#2a3f5f\"}},\"annotationdefaults\":{\"arrowcolor\":\"#2a3f5f\",\"arrowhead\":0,\"arrowwidth\":1},\"geo\":{\"bgcolor\":\"white\",\"landcolor\":\"#E5ECF6\",\"subunitcolor\":\"white\",\"showland\":true,\"showlakes\":true,\"lakecolor\":\"white\"},\"title\":{\"x\":0.05},\"mapbox\":{\"style\":\"light\"}}},\"xaxis\":{\"anchor\":\"y\",\"domain\":[0.0,1.0],\"title\":{\"text\":\"Company\"}},\"yaxis\":{\"anchor\":\"x\",\"domain\":[0.0,1.0],\"title\":{\"text\":\"Number of Jobs\"}},\"legend\":{\"tracegroupgap\":0},\"title\":{\"text\":\"Company Count\",\"x\":0.5},\"barmode\":\"relative\"},                        {\"responsive\": true}                    ).then(function(){\n",
       "                            \n",
       "var gd = document.getElementById('2233b295-861c-4e1a-b583-813278110ffb');\n",
       "var x = new MutationObserver(function (mutations, observer) {{\n",
       "        var display = window.getComputedStyle(gd).display;\n",
       "        if (!display || display === 'none') {{\n",
       "            console.log([gd, 'removed!']);\n",
       "            Plotly.purge(gd);\n",
       "            observer.disconnect();\n",
       "        }}\n",
       "}});\n",
       "\n",
       "// Listen for the removal of the full notebook cells\n",
       "var notebookContainer = gd.closest('#notebook-container');\n",
       "if (notebookContainer) {{\n",
       "    x.observe(notebookContainer, {childList: true});\n",
       "}}\n",
       "\n",
       "// Listen for the clearing of the current output cell\n",
       "var outputEl = gd.closest('.output');\n",
       "if (outputEl) {{\n",
       "    x.observe(outputEl, {childList: true});\n",
       "}}\n",
       "\n",
       "                        })                };                });            </script>        </div>"
      ]
     },
     "metadata": {},
     "output_type": "display_data"
    },
    {
     "data": {
      "application/vnd.plotly.v1+json": {
       "config": {
        "plotlyServerURL": "https://plot.ly"
       },
       "data": [
        {
         "alignmentgroup": "True",
         "bingroup": "x",
         "hovertemplate": "Avg_Salary=%{x}<br>count=%{y}<extra></extra>",
         "legendgroup": "",
         "marker": {
          "color": "#636efa",
          "pattern": {
           "shape": ""
          }
         },
         "name": "",
         "offsetgroup": "",
         "orientation": "v",
         "showlegend": false,
         "type": "histogram",
         "x": [
          100000,
          250000,
          98000,
          650000,
          600000,
          650000,
          1250000,
          150000,
          900000,
          950000,
          600000,
          800000,
          950000,
          650000,
          800000,
          600000,
          1200000,
          850000,
          550000,
          250000
         ],
         "xaxis": "x",
         "yaxis": "y"
        }
       ],
       "layout": {
        "autosize": true,
        "barmode": "relative",
        "legend": {
         "tracegroupgap": 0
        },
        "template": {
         "data": {
          "bar": [
           {
            "error_x": {
             "color": "#2a3f5f"
            },
            "error_y": {
             "color": "#2a3f5f"
            },
            "marker": {
             "line": {
              "color": "#E5ECF6",
              "width": 0.5
             },
             "pattern": {
              "fillmode": "overlay",
              "size": 10,
              "solidity": 0.2
             }
            },
            "type": "bar"
           }
          ],
          "barpolar": [
           {
            "marker": {
             "line": {
              "color": "#E5ECF6",
              "width": 0.5
             },
             "pattern": {
              "fillmode": "overlay",
              "size": 10,
              "solidity": 0.2
             }
            },
            "type": "barpolar"
           }
          ],
          "carpet": [
           {
            "aaxis": {
             "endlinecolor": "#2a3f5f",
             "gridcolor": "white",
             "linecolor": "white",
             "minorgridcolor": "white",
             "startlinecolor": "#2a3f5f"
            },
            "baxis": {
             "endlinecolor": "#2a3f5f",
             "gridcolor": "white",
             "linecolor": "white",
             "minorgridcolor": "white",
             "startlinecolor": "#2a3f5f"
            },
            "type": "carpet"
           }
          ],
          "choropleth": [
           {
            "colorbar": {
             "outlinewidth": 0,
             "ticks": ""
            },
            "type": "choropleth"
           }
          ],
          "contour": [
           {
            "colorbar": {
             "outlinewidth": 0,
             "ticks": ""
            },
            "colorscale": [
             [
              0,
              "#0d0887"
             ],
             [
              0.1111111111111111,
              "#46039f"
             ],
             [
              0.2222222222222222,
              "#7201a8"
             ],
             [
              0.3333333333333333,
              "#9c179e"
             ],
             [
              0.4444444444444444,
              "#bd3786"
             ],
             [
              0.5555555555555556,
              "#d8576b"
             ],
             [
              0.6666666666666666,
              "#ed7953"
             ],
             [
              0.7777777777777778,
              "#fb9f3a"
             ],
             [
              0.8888888888888888,
              "#fdca26"
             ],
             [
              1,
              "#f0f921"
             ]
            ],
            "type": "contour"
           }
          ],
          "contourcarpet": [
           {
            "colorbar": {
             "outlinewidth": 0,
             "ticks": ""
            },
            "type": "contourcarpet"
           }
          ],
          "heatmap": [
           {
            "colorbar": {
             "outlinewidth": 0,
             "ticks": ""
            },
            "colorscale": [
             [
              0,
              "#0d0887"
             ],
             [
              0.1111111111111111,
              "#46039f"
             ],
             [
              0.2222222222222222,
              "#7201a8"
             ],
             [
              0.3333333333333333,
              "#9c179e"
             ],
             [
              0.4444444444444444,
              "#bd3786"
             ],
             [
              0.5555555555555556,
              "#d8576b"
             ],
             [
              0.6666666666666666,
              "#ed7953"
             ],
             [
              0.7777777777777778,
              "#fb9f3a"
             ],
             [
              0.8888888888888888,
              "#fdca26"
             ],
             [
              1,
              "#f0f921"
             ]
            ],
            "type": "heatmap"
           }
          ],
          "heatmapgl": [
           {
            "colorbar": {
             "outlinewidth": 0,
             "ticks": ""
            },
            "colorscale": [
             [
              0,
              "#0d0887"
             ],
             [
              0.1111111111111111,
              "#46039f"
             ],
             [
              0.2222222222222222,
              "#7201a8"
             ],
             [
              0.3333333333333333,
              "#9c179e"
             ],
             [
              0.4444444444444444,
              "#bd3786"
             ],
             [
              0.5555555555555556,
              "#d8576b"
             ],
             [
              0.6666666666666666,
              "#ed7953"
             ],
             [
              0.7777777777777778,
              "#fb9f3a"
             ],
             [
              0.8888888888888888,
              "#fdca26"
             ],
             [
              1,
              "#f0f921"
             ]
            ],
            "type": "heatmapgl"
           }
          ],
          "histogram": [
           {
            "marker": {
             "pattern": {
              "fillmode": "overlay",
              "size": 10,
              "solidity": 0.2
             }
            },
            "type": "histogram"
           }
          ],
          "histogram2d": [
           {
            "colorbar": {
             "outlinewidth": 0,
             "ticks": ""
            },
            "colorscale": [
             [
              0,
              "#0d0887"
             ],
             [
              0.1111111111111111,
              "#46039f"
             ],
             [
              0.2222222222222222,
              "#7201a8"
             ],
             [
              0.3333333333333333,
              "#9c179e"
             ],
             [
              0.4444444444444444,
              "#bd3786"
             ],
             [
              0.5555555555555556,
              "#d8576b"
             ],
             [
              0.6666666666666666,
              "#ed7953"
             ],
             [
              0.7777777777777778,
              "#fb9f3a"
             ],
             [
              0.8888888888888888,
              "#fdca26"
             ],
             [
              1,
              "#f0f921"
             ]
            ],
            "type": "histogram2d"
           }
          ],
          "histogram2dcontour": [
           {
            "colorbar": {
             "outlinewidth": 0,
             "ticks": ""
            },
            "colorscale": [
             [
              0,
              "#0d0887"
             ],
             [
              0.1111111111111111,
              "#46039f"
             ],
             [
              0.2222222222222222,
              "#7201a8"
             ],
             [
              0.3333333333333333,
              "#9c179e"
             ],
             [
              0.4444444444444444,
              "#bd3786"
             ],
             [
              0.5555555555555556,
              "#d8576b"
             ],
             [
              0.6666666666666666,
              "#ed7953"
             ],
             [
              0.7777777777777778,
              "#fb9f3a"
             ],
             [
              0.8888888888888888,
              "#fdca26"
             ],
             [
              1,
              "#f0f921"
             ]
            ],
            "type": "histogram2dcontour"
           }
          ],
          "mesh3d": [
           {
            "colorbar": {
             "outlinewidth": 0,
             "ticks": ""
            },
            "type": "mesh3d"
           }
          ],
          "parcoords": [
           {
            "line": {
             "colorbar": {
              "outlinewidth": 0,
              "ticks": ""
             }
            },
            "type": "parcoords"
           }
          ],
          "pie": [
           {
            "automargin": true,
            "type": "pie"
           }
          ],
          "scatter": [
           {
            "fillpattern": {
             "fillmode": "overlay",
             "size": 10,
             "solidity": 0.2
            },
            "type": "scatter"
           }
          ],
          "scatter3d": [
           {
            "line": {
             "colorbar": {
              "outlinewidth": 0,
              "ticks": ""
             }
            },
            "marker": {
             "colorbar": {
              "outlinewidth": 0,
              "ticks": ""
             }
            },
            "type": "scatter3d"
           }
          ],
          "scattercarpet": [
           {
            "marker": {
             "colorbar": {
              "outlinewidth": 0,
              "ticks": ""
             }
            },
            "type": "scattercarpet"
           }
          ],
          "scattergeo": [
           {
            "marker": {
             "colorbar": {
              "outlinewidth": 0,
              "ticks": ""
             }
            },
            "type": "scattergeo"
           }
          ],
          "scattergl": [
           {
            "marker": {
             "colorbar": {
              "outlinewidth": 0,
              "ticks": ""
             }
            },
            "type": "scattergl"
           }
          ],
          "scattermapbox": [
           {
            "marker": {
             "colorbar": {
              "outlinewidth": 0,
              "ticks": ""
             }
            },
            "type": "scattermapbox"
           }
          ],
          "scatterpolar": [
           {
            "marker": {
             "colorbar": {
              "outlinewidth": 0,
              "ticks": ""
             }
            },
            "type": "scatterpolar"
           }
          ],
          "scatterpolargl": [
           {
            "marker": {
             "colorbar": {
              "outlinewidth": 0,
              "ticks": ""
             }
            },
            "type": "scatterpolargl"
           }
          ],
          "scatterternary": [
           {
            "marker": {
             "colorbar": {
              "outlinewidth": 0,
              "ticks": ""
             }
            },
            "type": "scatterternary"
           }
          ],
          "surface": [
           {
            "colorbar": {
             "outlinewidth": 0,
             "ticks": ""
            },
            "colorscale": [
             [
              0,
              "#0d0887"
             ],
             [
              0.1111111111111111,
              "#46039f"
             ],
             [
              0.2222222222222222,
              "#7201a8"
             ],
             [
              0.3333333333333333,
              "#9c179e"
             ],
             [
              0.4444444444444444,
              "#bd3786"
             ],
             [
              0.5555555555555556,
              "#d8576b"
             ],
             [
              0.6666666666666666,
              "#ed7953"
             ],
             [
              0.7777777777777778,
              "#fb9f3a"
             ],
             [
              0.8888888888888888,
              "#fdca26"
             ],
             [
              1,
              "#f0f921"
             ]
            ],
            "type": "surface"
           }
          ],
          "table": [
           {
            "cells": {
             "fill": {
              "color": "#EBF0F8"
             },
             "line": {
              "color": "white"
             }
            },
            "header": {
             "fill": {
              "color": "#C8D4E3"
             },
             "line": {
              "color": "white"
             }
            },
            "type": "table"
           }
          ]
         },
         "layout": {
          "annotationdefaults": {
           "arrowcolor": "#2a3f5f",
           "arrowhead": 0,
           "arrowwidth": 1
          },
          "autotypenumbers": "strict",
          "coloraxis": {
           "colorbar": {
            "outlinewidth": 0,
            "ticks": ""
           }
          },
          "colorscale": {
           "diverging": [
            [
             0,
             "#8e0152"
            ],
            [
             0.1,
             "#c51b7d"
            ],
            [
             0.2,
             "#de77ae"
            ],
            [
             0.3,
             "#f1b6da"
            ],
            [
             0.4,
             "#fde0ef"
            ],
            [
             0.5,
             "#f7f7f7"
            ],
            [
             0.6,
             "#e6f5d0"
            ],
            [
             0.7,
             "#b8e186"
            ],
            [
             0.8,
             "#7fbc41"
            ],
            [
             0.9,
             "#4d9221"
            ],
            [
             1,
             "#276419"
            ]
           ],
           "sequential": [
            [
             0,
             "#0d0887"
            ],
            [
             0.1111111111111111,
             "#46039f"
            ],
            [
             0.2222222222222222,
             "#7201a8"
            ],
            [
             0.3333333333333333,
             "#9c179e"
            ],
            [
             0.4444444444444444,
             "#bd3786"
            ],
            [
             0.5555555555555556,
             "#d8576b"
            ],
            [
             0.6666666666666666,
             "#ed7953"
            ],
            [
             0.7777777777777778,
             "#fb9f3a"
            ],
            [
             0.8888888888888888,
             "#fdca26"
            ],
            [
             1,
             "#f0f921"
            ]
           ],
           "sequentialminus": [
            [
             0,
             "#0d0887"
            ],
            [
             0.1111111111111111,
             "#46039f"
            ],
            [
             0.2222222222222222,
             "#7201a8"
            ],
            [
             0.3333333333333333,
             "#9c179e"
            ],
            [
             0.4444444444444444,
             "#bd3786"
            ],
            [
             0.5555555555555556,
             "#d8576b"
            ],
            [
             0.6666666666666666,
             "#ed7953"
            ],
            [
             0.7777777777777778,
             "#fb9f3a"
            ],
            [
             0.8888888888888888,
             "#fdca26"
            ],
            [
             1,
             "#f0f921"
            ]
           ]
          },
          "colorway": [
           "#636efa",
           "#EF553B",
           "#00cc96",
           "#ab63fa",
           "#FFA15A",
           "#19d3f3",
           "#FF6692",
           "#B6E880",
           "#FF97FF",
           "#FECB52"
          ],
          "font": {
           "color": "#2a3f5f"
          },
          "geo": {
           "bgcolor": "white",
           "lakecolor": "white",
           "landcolor": "#E5ECF6",
           "showlakes": true,
           "showland": true,
           "subunitcolor": "white"
          },
          "hoverlabel": {
           "align": "left"
          },
          "hovermode": "closest",
          "mapbox": {
           "style": "light"
          },
          "paper_bgcolor": "white",
          "plot_bgcolor": "#E5ECF6",
          "polar": {
           "angularaxis": {
            "gridcolor": "white",
            "linecolor": "white",
            "ticks": ""
           },
           "bgcolor": "#E5ECF6",
           "radialaxis": {
            "gridcolor": "white",
            "linecolor": "white",
            "ticks": ""
           }
          },
          "scene": {
           "xaxis": {
            "backgroundcolor": "#E5ECF6",
            "gridcolor": "white",
            "gridwidth": 2,
            "linecolor": "white",
            "showbackground": true,
            "ticks": "",
            "zerolinecolor": "white"
           },
           "yaxis": {
            "backgroundcolor": "#E5ECF6",
            "gridcolor": "white",
            "gridwidth": 2,
            "linecolor": "white",
            "showbackground": true,
            "ticks": "",
            "zerolinecolor": "white"
           },
           "zaxis": {
            "backgroundcolor": "#E5ECF6",
            "gridcolor": "white",
            "gridwidth": 2,
            "linecolor": "white",
            "showbackground": true,
            "ticks": "",
            "zerolinecolor": "white"
           }
          },
          "shapedefaults": {
           "line": {
            "color": "#2a3f5f"
           }
          },
          "ternary": {
           "aaxis": {
            "gridcolor": "white",
            "linecolor": "white",
            "ticks": ""
           },
           "baxis": {
            "gridcolor": "white",
            "linecolor": "white",
            "ticks": ""
           },
           "bgcolor": "#E5ECF6",
           "caxis": {
            "gridcolor": "white",
            "linecolor": "white",
            "ticks": ""
           }
          },
          "title": {
           "x": 0.05
          },
          "xaxis": {
           "automargin": true,
           "gridcolor": "white",
           "linecolor": "white",
           "ticks": "",
           "title": {
            "standoff": 15
           },
           "zerolinecolor": "white",
           "zerolinewidth": 2
          },
          "yaxis": {
           "automargin": true,
           "gridcolor": "white",
           "linecolor": "white",
           "ticks": "",
           "title": {
            "standoff": 15
           },
           "zerolinecolor": "white",
           "zerolinewidth": 2
          }
         }
        },
        "title": {
         "text": "Average Salary Distribution",
         "x": 0.5
        },
        "xaxis": {
         "anchor": "y",
         "autorange": true,
         "domain": [
          0,
          1
         ],
         "range": [
          -0.5,
          1399999.5
         ],
         "title": {
          "text": "Average Salary"
         },
         "type": "linear"
        },
        "yaxis": {
         "anchor": "x",
         "autorange": true,
         "domain": [
          0,
          1
         ],
         "range": [
          0,
          6.315789473684211
         ],
         "title": {
          "text": "Frequency"
         }
        }
       }
      },
      "image/png": "[encoded data removed]",
      "text/html": [
       "<div>                            <div id=\"b4e2c0ad-0f63-41eb-8d53-527b9534190a\" class=\"plotly-graph-div\" style=\"height:525px; width:100%;\"></div>            <script type=\"text/javascript\">                require([\"plotly\"], function(Plotly) {                    window.PLOTLYENV=window.PLOTLYENV || {};                                    if (document.getElementById(\"b4e2c0ad-0f63-41eb-8d53-527b9534190a\")) {                    Plotly.newPlot(                        \"b4e2c0ad-0f63-41eb-8d53-527b9534190a\",                        [{\"alignmentgroup\":\"True\",\"bingroup\":\"x\",\"hovertemplate\":\"Avg_Salary=%{x}\\u003cbr\\u003ecount=%{y}\\u003cextra\\u003e\\u003c\\u002fextra\\u003e\",\"legendgroup\":\"\",\"marker\":{\"color\":\"#636efa\",\"pattern\":{\"shape\":\"\"}},\"name\":\"\",\"offsetgroup\":\"\",\"orientation\":\"v\",\"showlegend\":false,\"x\":[100000.0,250000.0,98000.0,650000.0,600000.0,650000.0,1250000.0,150000.0,900000.0,950000.0,600000.0,800000.0,950000.0,650000.0,800000.0,600000.0,1200000.0,850000.0,550000.0,250000.0],\"xaxis\":\"x\",\"yaxis\":\"y\",\"type\":\"histogram\"}],                        {\"template\":{\"data\":{\"histogram2dcontour\":[{\"type\":\"histogram2dcontour\",\"colorbar\":{\"outlinewidth\":0,\"ticks\":\"\"},\"colorscale\":[[0.0,\"#0d0887\"],[0.1111111111111111,\"#46039f\"],[0.2222222222222222,\"#7201a8\"],[0.3333333333333333,\"#9c179e\"],[0.4444444444444444,\"#bd3786\"],[0.5555555555555556,\"#d8576b\"],[0.6666666666666666,\"#ed7953\"],[0.7777777777777778,\"#fb9f3a\"],[0.8888888888888888,\"#fdca26\"],[1.0,\"#f0f921\"]]}],\"choropleth\":[{\"type\":\"choropleth\",\"colorbar\":{\"outlinewidth\":0,\"ticks\":\"\"}}],\"histogram2d\":[{\"type\":\"histogram2d\",\"colorbar\":{\"outlinewidth\":0,\"ticks\":\"\"},\"colorscale\":[[0.0,\"#0d0887\"],[0.1111111111111111,\"#46039f\"],[0.2222222222222222,\"#7201a8\"],[0.3333333333333333,\"#9c179e\"],[0.4444444444444444,\"#bd3786\"],[0.5555555555555556,\"#d8576b\"],[0.6666666666666666,\"#ed7953\"],[0.7777777777777778,\"#fb9f3a\"],[0.8888888888888888,\"#fdca26\"],[1.0,\"#f0f921\"]]}],\"heatmap\":[{\"type\":\"heatmap\",\"colorbar\":{\"outlinewidth\":0,\"ticks\":\"\"},\"colorscale\":[[0.0,\"#0d0887\"],[0.1111111111111111,\"#46039f\"],[0.2222222222222222,\"#7201a8\"],[0.3333333333333333,\"#9c179e\"],[0.4444444444444444,\"#bd3786\"],[0.5555555555555556,\"#d8576b\"],[0.6666666666666666,\"#ed7953\"],[0.7777777777777778,\"#fb9f3a\"],[0.8888888888888888,\"#fdca26\"],[1.0,\"#f0f921\"]]}],\"heatmapgl\":[{\"type\":\"heatmapgl\",\"colorbar\":{\"outlinewidth\":0,\"ticks\":\"\"},\"colorscale\":[[0.0,\"#0d0887\"],[0.1111111111111111,\"#46039f\"],[0.2222222222222222,\"#7201a8\"],[0.3333333333333333,\"#9c179e\"],[0.4444444444444444,\"#bd3786\"],[0.5555555555555556,\"#d8576b\"],[0.6666666666666666,\"#ed7953\"],[0.7777777777777778,\"#fb9f3a\"],[0.8888888888888888,\"#fdca26\"],[1.0,\"#f0f921\"]]}],\"contourcarpet\":[{\"type\":\"contourcarpet\",\"colorbar\":{\"outlinewidth\":0,\"ticks\":\"\"}}],\"contour\":[{\"type\":\"contour\",\"colorbar\":{\"outlinewidth\":0,\"ticks\":\"\"},\"colorscale\":[[0.0,\"#0d0887\"],[0.1111111111111111,\"#46039f\"],[0.2222222222222222,\"#7201a8\"],[0.3333333333333333,\"#9c179e\"],[0.4444444444444444,\"#bd3786\"],[0.5555555555555556,\"#d8576b\"],[0.6666666666666666,\"#ed7953\"],[0.7777777777777778,\"#fb9f3a\"],[0.8888888888888888,\"#fdca26\"],[1.0,\"#f0f921\"]]}],\"surface\":[{\"type\":\"surface\",\"colorbar\":{\"outlinewidth\":0,\"ticks\":\"\"},\"colorscale\":[[0.0,\"#0d0887\"],[0.1111111111111111,\"#46039f\"],[0.2222222222222222,\"#7201a8\"],[0.3333333333333333,\"#9c179e\"],[0.4444444444444444,\"#bd3786\"],[0.5555555555555556,\"#d8576b\"],[0.6666666666666666,\"#ed7953\"],[0.7777777777777778,\"#fb9f3a\"],[0.8888888888888888,\"#fdca26\"],[1.0,\"#f0f921\"]]}],\"mesh3d\":[{\"type\":\"mesh3d\",\"colorbar\":{\"outlinewidth\":0,\"ticks\":\"\"}}],\"scatter\":[{\"fillpattern\":{\"fillmode\":\"overlay\",\"size\":10,\"solidity\":0.2},\"type\":\"scatter\"}],\"parcoords\":[{\"type\":\"parcoords\",\"line\":{\"colorbar\":{\"outlinewidth\":0,\"ticks\":\"\"}}}],\"scatterpolargl\":[{\"type\":\"scatterpolargl\",\"marker\":{\"colorbar\":{\"outlinewidth\":0,\"ticks\":\"\"}}}],\"bar\":[{\"error_x\":{\"color\":\"#2a3f5f\"},\"error_y\":{\"color\":\"#2a3f5f\"},\"marker\":{\"line\":{\"color\":\"#E5ECF6\",\"width\":0.5},\"pattern\":{\"fillmode\":\"overlay\",\"size\":10,\"solidity\":0.2}},\"type\":\"bar\"}],\"scattergeo\":[{\"type\":\"scattergeo\",\"marker\":{\"colorbar\":{\"outlinewidth\":0,\"ticks\":\"\"}}}],\"scatterpolar\":[{\"type\":\"scatterpolar\",\"marker\":{\"colorbar\":{\"outlinewidth\":0,\"ticks\":\"\"}}}],\"histogram\":[{\"marker\":{\"pattern\":{\"fillmode\":\"overlay\",\"size\":10,\"solidity\":0.2}},\"type\":\"histogram\"}],\"scattergl\":[{\"type\":\"scattergl\",\"marker\":{\"colorbar\":{\"outlinewidth\":0,\"ticks\":\"\"}}}],\"scatter3d\":[{\"type\":\"scatter3d\",\"line\":{\"colorbar\":{\"outlinewidth\":0,\"ticks\":\"\"}},\"marker\":{\"colorbar\":{\"outlinewidth\":0,\"ticks\":\"\"}}}],\"scattermapbox\":[{\"type\":\"scattermapbox\",\"marker\":{\"colorbar\":{\"outlinewidth\":0,\"ticks\":\"\"}}}],\"scatterternary\":[{\"type\":\"scatterternary\",\"marker\":{\"colorbar\":{\"outlinewidth\":0,\"ticks\":\"\"}}}],\"scattercarpet\":[{\"type\":\"scattercarpet\",\"marker\":{\"colorbar\":{\"outlinewidth\":0,\"ticks\":\"\"}}}],\"carpet\":[{\"aaxis\":{\"endlinecolor\":\"#2a3f5f\",\"gridcolor\":\"white\",\"linecolor\":\"white\",\"minorgridcolor\":\"white\",\"startlinecolor\":\"#2a3f5f\"},\"baxis\":{\"endlinecolor\":\"#2a3f5f\",\"gridcolor\":\"white\",\"linecolor\":\"white\",\"minorgridcolor\":\"white\",\"startlinecolor\":\"#2a3f5f\"},\"type\":\"carpet\"}],\"table\":[{\"cells\":{\"fill\":{\"color\":\"#EBF0F8\"},\"line\":{\"color\":\"white\"}},\"header\":{\"fill\":{\"color\":\"#C8D4E3\"},\"line\":{\"color\":\"white\"}},\"type\":\"table\"}],\"barpolar\":[{\"marker\":{\"line\":{\"color\":\"#E5ECF6\",\"width\":0.5},\"pattern\":{\"fillmode\":\"overlay\",\"size\":10,\"solidity\":0.2}},\"type\":\"barpolar\"}],\"pie\":[{\"automargin\":true,\"type\":\"pie\"}]},\"layout\":{\"autotypenumbers\":\"strict\",\"colorway\":[\"#636efa\",\"#EF553B\",\"#00cc96\",\"#ab63fa\",\"#FFA15A\",\"#19d3f3\",\"#FF6692\",\"#B6E880\",\"#FF97FF\",\"#FECB52\"],\"font\":{\"color\":\"#2a3f5f\"},\"hovermode\":\"closest\",\"hoverlabel\":{\"align\":\"left\"},\"paper_bgcolor\":\"white\",\"plot_bgcolor\":\"#E5ECF6\",\"polar\":{\"bgcolor\":\"#E5ECF6\",\"angularaxis\":{\"gridcolor\":\"white\",\"linecolor\":\"white\",\"ticks\":\"\"},\"radialaxis\":{\"gridcolor\":\"white\",\"linecolor\":\"white\",\"ticks\":\"\"}},\"ternary\":{\"bgcolor\":\"#E5ECF6\",\"aaxis\":{\"gridcolor\":\"white\",\"linecolor\":\"white\",\"ticks\":\"\"},\"baxis\":{\"gridcolor\":\"white\",\"linecolor\":\"white\",\"ticks\":\"\"},\"caxis\":{\"gridcolor\":\"white\",\"linecolor\":\"white\",\"ticks\":\"\"}},\"coloraxis\":{\"colorbar\":{\"outlinewidth\":0,\"ticks\":\"\"}},\"colorscale\":{\"sequential\":[[0.0,\"#0d0887\"],[0.1111111111111111,\"#46039f\"],[0.2222222222222222,\"#7201a8\"],[0.3333333333333333,\"#9c179e\"],[0.4444444444444444,\"#bd3786\"],[0.5555555555555556,\"#d8576b\"],[0.6666666666666666,\"#ed7953\"],[0.7777777777777778,\"#fb9f3a\"],[0.8888888888888888,\"#fdca26\"],[1.0,\"#f0f921\"]],\"sequentialminus\":[[0.0,\"#0d0887\"],[0.1111111111111111,\"#46039f\"],[0.2222222222222222,\"#7201a8\"],[0.3333333333333333,\"#9c179e\"],[0.4444444444444444,\"#bd3786\"],[0.5555555555555556,\"#d8576b\"],[0.6666666666666666,\"#ed7953\"],[0.7777777777777778,\"#fb9f3a\"],[0.8888888888888888,\"#fdca26\"],[1.0,\"#f0f921\"]],\"diverging\":[[0,\"#8e0152\"],[0.1,\"#c51b7d\"],[0.2,\"#de77ae\"],[0.3,\"#f1b6da\"],[0.4,\"#fde0ef\"],[0.5,\"#f7f7f7\"],[0.6,\"#e6f5d0\"],[0.7,\"#b8e186\"],[0.8,\"#7fbc41\"],[0.9,\"#4d9221\"],[1,\"#276419\"]]},\"xaxis\":{\"gridcolor\":\"white\",\"linecolor\":\"white\",\"ticks\":\"\",\"title\":{\"standoff\":15},\"zerolinecolor\":\"white\",\"automargin\":true,\"zerolinewidth\":2},\"yaxis\":{\"gridcolor\":\"white\",\"linecolor\":\"white\",\"ticks\":\"\",\"title\":{\"standoff\":15},\"zerolinecolor\":\"white\",\"automargin\":true,\"zerolinewidth\":2},\"scene\":{\"xaxis\":{\"backgroundcolor\":\"#E5ECF6\",\"gridcolor\":\"white\",\"linecolor\":\"white\",\"showbackground\":true,\"ticks\":\"\",\"zerolinecolor\":\"white\",\"gridwidth\":2},\"yaxis\":{\"backgroundcolor\":\"#E5ECF6\",\"gridcolor\":\"white\",\"linecolor\":\"white\",\"showbackground\":true,\"ticks\":\"\",\"zerolinecolor\":\"white\",\"gridwidth\":2},\"zaxis\":{\"backgroundcolor\":\"#E5ECF6\",\"gridcolor\":\"white\",\"linecolor\":\"white\",\"showbackground\":true,\"ticks\":\"\",\"zerolinecolor\":\"white\",\"gridwidth\":2}},\"shapedefaults\":{\"line\":{\"color\":\"#2a3f5f\"}},\"annotationdefaults\":{\"arrowcolor\":\"#2a3f5f\",\"arrowhead\":0,\"arrowwidth\":1},\"geo\":{\"bgcolor\":\"white\",\"landcolor\":\"#E5ECF6\",\"subunitcolor\":\"white\",\"showland\":true,\"showlakes\":true,\"lakecolor\":\"white\"},\"title\":{\"x\":0.05},\"mapbox\":{\"style\":\"light\"}}},\"xaxis\":{\"anchor\":\"y\",\"domain\":[0.0,1.0],\"title\":{\"text\":\"Average Salary\"}},\"yaxis\":{\"anchor\":\"x\",\"domain\":[0.0,1.0],\"title\":{\"text\":\"Frequency\"}},\"legend\":{\"tracegroupgap\":0},\"title\":{\"text\":\"Average Salary Distribution\",\"x\":0.5},\"barmode\":\"relative\"},                        {\"responsive\": true}                    ).then(function(){\n",
       "                            \n",
       "var gd = document.getElementById('b4e2c0ad-0f63-41eb-8d53-527b9534190a');\n",
       "var x = new MutationObserver(function (mutations, observer) {{\n",
       "        var display = window.getComputedStyle(gd).display;\n",
       "        if (!display || display === 'none') {{\n",
       "            console.log([gd, 'removed!']);\n",
       "            Plotly.purge(gd);\n",
       "            observer.disconnect();\n",
       "        }}\n",
       "}});\n",
       "\n",
       "// Listen for the removal of the full notebook cells\n",
       "var notebookContainer = gd.closest('#notebook-container');\n",
       "if (notebookContainer) {{\n",
       "    x.observe(notebookContainer, {childList: true});\n",
       "}}\n",
       "\n",
       "// Listen for the clearing of the current output cell\n",
       "var outputEl = gd.closest('.output');\n",
       "if (outputEl) {{\n",
       "    x.observe(outputEl, {childList: true});\n",
       "}}\n",
       "\n",
       "                        })                };                });            </script>        </div>"
      ]
     },
     "metadata": {},
     "output_type": "display_data"
    },
    {
     "data": {
      "application/vnd.plotly.v1+json": {
       "config": {
        "plotlyServerURL": "https://plot.ly"
       },
       "data": [
        {
         "alignmentgroup": "True",
         "hovertemplate": "Avg_Salary=%{y}<extra></extra>",
         "legendgroup": "",
         "marker": {
          "color": "#636efa"
         },
         "name": "",
         "notched": false,
         "offsetgroup": "",
         "orientation": "v",
         "showlegend": false,
         "type": "box",
         "x0": " ",
         "xaxis": "x",
         "y": [
          100000,
          250000,
          98000,
          650000,
          600000,
          650000,
          1250000,
          150000,
          900000,
          950000,
          600000,
          800000,
          950000,
          650000,
          800000,
          600000,
          1200000,
          850000,
          550000,
          250000
         ],
         "y0": " ",
         "yaxis": "y"
        }
       ],
       "layout": {
        "autosize": true,
        "boxmode": "group",
        "legend": {
         "tracegroupgap": 0
        },
        "template": {
         "data": {
          "bar": [
           {
            "error_x": {
             "color": "#2a3f5f"
            },
            "error_y": {
             "color": "#2a3f5f"
            },
            "marker": {
             "line": {
              "color": "#E5ECF6",
              "width": 0.5
             },
             "pattern": {
              "fillmode": "overlay",
              "size": 10,
              "solidity": 0.2
             }
            },
            "type": "bar"
           }
          ],
          "barpolar": [
           {
            "marker": {
             "line": {
              "color": "#E5ECF6",
              "width": 0.5
             },
             "pattern": {
              "fillmode": "overlay",
              "size": 10,
              "solidity": 0.2
             }
            },
            "type": "barpolar"
           }
          ],
          "carpet": [
           {
            "aaxis": {
             "endlinecolor": "#2a3f5f",
             "gridcolor": "white",
             "linecolor": "white",
             "minorgridcolor": "white",
             "startlinecolor": "#2a3f5f"
            },
            "baxis": {
             "endlinecolor": "#2a3f5f",
             "gridcolor": "white",
             "linecolor": "white",
             "minorgridcolor": "white",
             "startlinecolor": "#2a3f5f"
            },
            "type": "carpet"
           }
          ],
          "choropleth": [
           {
            "colorbar": {
             "outlinewidth": 0,
             "ticks": ""
            },
            "type": "choropleth"
           }
          ],
          "contour": [
           {
            "colorbar": {
             "outlinewidth": 0,
             "ticks": ""
            },
            "colorscale": [
             [
              0,
              "#0d0887"
             ],
             [
              0.1111111111111111,
              "#46039f"
             ],
             [
              0.2222222222222222,
              "#7201a8"
             ],
             [
              0.3333333333333333,
              "#9c179e"
             ],
             [
              0.4444444444444444,
              "#bd3786"
             ],
             [
              0.5555555555555556,
              "#d8576b"
             ],
             [
              0.6666666666666666,
              "#ed7953"
             ],
             [
              0.7777777777777778,
              "#fb9f3a"
             ],
             [
              0.8888888888888888,
              "#fdca26"
             ],
             [
              1,
              "#f0f921"
             ]
            ],
            "type": "contour"
           }
          ],
          "contourcarpet": [
           {
            "colorbar": {
             "outlinewidth": 0,
             "ticks": ""
            },
            "type": "contourcarpet"
           }
          ],
          "heatmap": [
           {
            "colorbar": {
             "outlinewidth": 0,
             "ticks": ""
            },
            "colorscale": [
             [
              0,
              "#0d0887"
             ],
             [
              0.1111111111111111,
              "#46039f"
             ],
             [
              0.2222222222222222,
              "#7201a8"
             ],
             [
              0.3333333333333333,
              "#9c179e"
             ],
             [
              0.4444444444444444,
              "#bd3786"
             ],
             [
              0.5555555555555556,
              "#d8576b"
             ],
             [
              0.6666666666666666,
              "#ed7953"
             ],
             [
              0.7777777777777778,
              "#fb9f3a"
             ],
             [
              0.8888888888888888,
              "#fdca26"
             ],
             [
              1,
              "#f0f921"
             ]
            ],
            "type": "heatmap"
           }
          ],
          "heatmapgl": [
           {
            "colorbar": {
             "outlinewidth": 0,
             "ticks": ""
            },
            "colorscale": [
             [
              0,
              "#0d0887"
             ],
             [
              0.1111111111111111,
              "#46039f"
             ],
             [
              0.2222222222222222,
              "#7201a8"
             ],
             [
              0.3333333333333333,
              "#9c179e"
             ],
             [
              0.4444444444444444,
              "#bd3786"
             ],
             [
              0.5555555555555556,
              "#d8576b"
             ],
             [
              0.6666666666666666,
              "#ed7953"
             ],
             [
              0.7777777777777778,
              "#fb9f3a"
             ],
             [
              0.8888888888888888,
              "#fdca26"
             ],
             [
              1,
              "#f0f921"
             ]
            ],
            "type": "heatmapgl"
           }
          ],
          "histogram": [
           {
            "marker": {
             "pattern": {
              "fillmode": "overlay",
              "size": 10,
              "solidity": 0.2
             }
            },
            "type": "histogram"
           }
          ],
          "histogram2d": [
           {
            "colorbar": {
             "outlinewidth": 0,
             "ticks": ""
            },
            "colorscale": [
             [
              0,
              "#0d0887"
             ],
             [
              0.1111111111111111,
              "#46039f"
             ],
             [
              0.2222222222222222,
              "#7201a8"
             ],
             [
              0.3333333333333333,
              "#9c179e"
             ],
             [
              0.4444444444444444,
              "#bd3786"
             ],
             [
              0.5555555555555556,
              "#d8576b"
             ],
             [
              0.6666666666666666,
              "#ed7953"
             ],
             [
              0.7777777777777778,
              "#fb9f3a"
             ],
             [
              0.8888888888888888,
              "#fdca26"
             ],
             [
              1,
              "#f0f921"
             ]
            ],
            "type": "histogram2d"
           }
          ],
          "histogram2dcontour": [
           {
            "colorbar": {
             "outlinewidth": 0,
             "ticks": ""
            },
            "colorscale": [
             [
              0,
              "#0d0887"
             ],
             [
              0.1111111111111111,
              "#46039f"
             ],
             [
              0.2222222222222222,
              "#7201a8"
             ],
             [
              0.3333333333333333,
              "#9c179e"
             ],
             [
              0.4444444444444444,
              "#bd3786"
             ],
             [
              0.5555555555555556,
              "#d8576b"
             ],
             [
              0.6666666666666666,
              "#ed7953"
             ],
             [
              0.7777777777777778,
              "#fb9f3a"
             ],
             [
              0.8888888888888888,
              "#fdca26"
             ],
             [
              1,
              "#f0f921"
             ]
            ],
            "type": "histogram2dcontour"
           }
          ],
          "mesh3d": [
           {
            "colorbar": {
             "outlinewidth": 0,
             "ticks": ""
            },
            "type": "mesh3d"
           }
          ],
          "parcoords": [
           {
            "line": {
             "colorbar": {
              "outlinewidth": 0,
              "ticks": ""
             }
            },
            "type": "parcoords"
           }
          ],
          "pie": [
           {
            "automargin": true,
            "type": "pie"
           }
          ],
          "scatter": [
           {
            "fillpattern": {
             "fillmode": "overlay",
             "size": 10,
             "solidity": 0.2
            },
            "type": "scatter"
           }
          ],
          "scatter3d": [
           {
            "line": {
             "colorbar": {
              "outlinewidth": 0,
              "ticks": ""
             }
            },
            "marker": {
             "colorbar": {
              "outlinewidth": 0,
              "ticks": ""
             }
            },
            "type": "scatter3d"
           }
          ],
          "scattercarpet": [
           {
            "marker": {
             "colorbar": {
              "outlinewidth": 0,
              "ticks": ""
             }
            },
            "type": "scattercarpet"
           }
          ],
          "scattergeo": [
           {
            "marker": {
             "colorbar": {
              "outlinewidth": 0,
              "ticks": ""
             }
            },
            "type": "scattergeo"
           }
          ],
          "scattergl": [
           {
            "marker": {
             "colorbar": {
              "outlinewidth": 0,
              "ticks": ""
             }
            },
            "type": "scattergl"
           }
          ],
          "scattermapbox": [
           {
            "marker": {
             "colorbar": {
              "outlinewidth": 0,
              "ticks": ""
             }
            },
            "type": "scattermapbox"
           }
          ],
          "scatterpolar": [
           {
            "marker": {
             "colorbar": {
              "outlinewidth": 0,
              "ticks": ""
             }
            },
            "type": "scatterpolar"
           }
          ],
          "scatterpolargl": [
           {
            "marker": {
             "colorbar": {
              "outlinewidth": 0,
              "ticks": ""
             }
            },
            "type": "scatterpolargl"
           }
          ],
          "scatterternary": [
           {
            "marker": {
             "colorbar": {
              "outlinewidth": 0,
              "ticks": ""
             }
            },
            "type": "scatterternary"
           }
          ],
          "surface": [
           {
            "colorbar": {
             "outlinewidth": 0,
             "ticks": ""
            },
            "colorscale": [
             [
              0,
              "#0d0887"
             ],
             [
              0.1111111111111111,
              "#46039f"
             ],
             [
              0.2222222222222222,
              "#7201a8"
             ],
             [
              0.3333333333333333,
              "#9c179e"
             ],
             [
              0.4444444444444444,
              "#bd3786"
             ],
             [
              0.5555555555555556,
              "#d8576b"
             ],
             [
              0.6666666666666666,
              "#ed7953"
             ],
             [
              0.7777777777777778,
              "#fb9f3a"
             ],
             [
              0.8888888888888888,
              "#fdca26"
             ],
             [
              1,
              "#f0f921"
             ]
            ],
            "type": "surface"
           }
          ],
          "table": [
           {
            "cells": {
             "fill": {
              "color": "#EBF0F8"
             },
             "line": {
              "color": "white"
             }
            },
            "header": {
             "fill": {
              "color": "#C8D4E3"
             },
             "line": {
              "color": "white"
             }
            },
            "type": "table"
           }
          ]
         },
         "layout": {
          "annotationdefaults": {
           "arrowcolor": "#2a3f5f",
           "arrowhead": 0,
           "arrowwidth": 1
          },
          "autotypenumbers": "strict",
          "coloraxis": {
           "colorbar": {
            "outlinewidth": 0,
            "ticks": ""
           }
          },
          "colorscale": {
           "diverging": [
            [
             0,
             "#8e0152"
            ],
            [
             0.1,
             "#c51b7d"
            ],
            [
             0.2,
             "#de77ae"
            ],
            [
             0.3,
             "#f1b6da"
            ],
            [
             0.4,
             "#fde0ef"
            ],
            [
             0.5,
             "#f7f7f7"
            ],
            [
             0.6,
             "#e6f5d0"
            ],
            [
             0.7,
             "#b8e186"
            ],
            [
             0.8,
             "#7fbc41"
            ],
            [
             0.9,
             "#4d9221"
            ],
            [
             1,
             "#276419"
            ]
           ],
           "sequential": [
            [
             0,
             "#0d0887"
            ],
            [
             0.1111111111111111,
             "#46039f"
            ],
            [
             0.2222222222222222,
             "#7201a8"
            ],
            [
             0.3333333333333333,
             "#9c179e"
            ],
            [
             0.4444444444444444,
             "#bd3786"
            ],
            [
             0.5555555555555556,
             "#d8576b"
            ],
            [
             0.6666666666666666,
             "#ed7953"
            ],
            [
             0.7777777777777778,
             "#fb9f3a"
            ],
            [
             0.8888888888888888,
             "#fdca26"
            ],
            [
             1,
             "#f0f921"
            ]
           ],
           "sequentialminus": [
            [
             0,
             "#0d0887"
            ],
            [
             0.1111111111111111,
             "#46039f"
            ],
            [
             0.2222222222222222,
             "#7201a8"
            ],
            [
             0.3333333333333333,
             "#9c179e"
            ],
            [
             0.4444444444444444,
             "#bd3786"
            ],
            [
             0.5555555555555556,
             "#d8576b"
            ],
            [
             0.6666666666666666,
             "#ed7953"
            ],
            [
             0.7777777777777778,
             "#fb9f3a"
            ],
            [
             0.8888888888888888,
             "#fdca26"
            ],
            [
             1,
             "#f0f921"
            ]
           ]
          },
          "colorway": [
           "#636efa",
           "#EF553B",
           "#00cc96",
           "#ab63fa",
           "#FFA15A",
           "#19d3f3",
           "#FF6692",
           "#B6E880",
           "#FF97FF",
           "#FECB52"
          ],
          "font": {
           "color": "#2a3f5f"
          },
          "geo": {
           "bgcolor": "white",
           "lakecolor": "white",
           "landcolor": "#E5ECF6",
           "showlakes": true,
           "showland": true,
           "subunitcolor": "white"
          },
          "hoverlabel": {
           "align": "left"
          },
          "hovermode": "closest",
          "mapbox": {
           "style": "light"
          },
          "paper_bgcolor": "white",
          "plot_bgcolor": "#E5ECF6",
          "polar": {
           "angularaxis": {
            "gridcolor": "white",
            "linecolor": "white",
            "ticks": ""
           },
           "bgcolor": "#E5ECF6",
           "radialaxis": {
            "gridcolor": "white",
            "linecolor": "white",
            "ticks": ""
           }
          },
          "scene": {
           "xaxis": {
            "backgroundcolor": "#E5ECF6",
            "gridcolor": "white",
            "gridwidth": 2,
            "linecolor": "white",
            "showbackground": true,
            "ticks": "",
            "zerolinecolor": "white"
           },
           "yaxis": {
            "backgroundcolor": "#E5ECF6",
            "gridcolor": "white",
            "gridwidth": 2,
            "linecolor": "white",
            "showbackground": true,
            "ticks": "",
            "zerolinecolor": "white"
           },
           "zaxis": {
            "backgroundcolor": "#E5ECF6",
            "gridcolor": "white",
            "gridwidth": 2,
            "linecolor": "white",
            "showbackground": true,
            "ticks": "",
            "zerolinecolor": "white"
           }
          },
          "shapedefaults": {
           "line": {
            "color": "#2a3f5f"
           }
          },
          "ternary": {
           "aaxis": {
            "gridcolor": "white",
            "linecolor": "white",
            "ticks": ""
           },
           "baxis": {
            "gridcolor": "white",
            "linecolor": "white",
            "ticks": ""
           },
           "bgcolor": "#E5ECF6",
           "caxis": {
            "gridcolor": "white",
            "linecolor": "white",
            "ticks": ""
           }
          },
          "title": {
           "x": 0.05
          },
          "xaxis": {
           "automargin": true,
           "gridcolor": "white",
           "linecolor": "white",
           "ticks": "",
           "title": {
            "standoff": 15
           },
           "zerolinecolor": "white",
           "zerolinewidth": 2
          },
          "yaxis": {
           "automargin": true,
           "gridcolor": "white",
           "linecolor": "white",
           "ticks": "",
           "title": {
            "standoff": 15
           },
           "zerolinecolor": "white",
           "zerolinewidth": 2
          }
         }
        },
        "title": {
         "text": "Average Salary Distribution",
         "x": 0.5
        },
        "xaxis": {
         "anchor": "y",
         "autorange": true,
         "domain": [
          0,
          1
         ],
         "range": [
          -0.5,
          0.5
         ],
         "type": "category"
        },
        "yaxis": {
         "anchor": "x",
         "autorange": true,
         "domain": [
          0,
          1
         ],
         "range": [
          34000,
          1314000
         ],
         "title": {
          "text": "Average Salary"
         },
         "type": "linear"
        }
       }
      },
      "image/png": "[encoded data removed]",
      "text/html": [
       "<div>                            <div id=\"bd13f7b1-d6a8-4048-a675-7458a990648f\" class=\"plotly-graph-div\" style=\"height:525px; width:100%;\"></div>            <script type=\"text/javascript\">                require([\"plotly\"], function(Plotly) {                    window.PLOTLYENV=window.PLOTLYENV || {};                                    if (document.getElementById(\"bd13f7b1-d6a8-4048-a675-7458a990648f\")) {                    Plotly.newPlot(                        \"bd13f7b1-d6a8-4048-a675-7458a990648f\",                        [{\"alignmentgroup\":\"True\",\"hovertemplate\":\"Avg_Salary=%{y}\\u003cextra\\u003e\\u003c\\u002fextra\\u003e\",\"legendgroup\":\"\",\"marker\":{\"color\":\"#636efa\"},\"name\":\"\",\"notched\":false,\"offsetgroup\":\"\",\"orientation\":\"v\",\"showlegend\":false,\"x0\":\" \",\"xaxis\":\"x\",\"y\":[100000.0,250000.0,98000.0,650000.0,600000.0,650000.0,1250000.0,150000.0,900000.0,950000.0,600000.0,800000.0,950000.0,650000.0,800000.0,600000.0,1200000.0,850000.0,550000.0,250000.0],\"y0\":\" \",\"yaxis\":\"y\",\"type\":\"box\"}],                        {\"template\":{\"data\":{\"histogram2dcontour\":[{\"type\":\"histogram2dcontour\",\"colorbar\":{\"outlinewidth\":0,\"ticks\":\"\"},\"colorscale\":[[0.0,\"#0d0887\"],[0.1111111111111111,\"#46039f\"],[0.2222222222222222,\"#7201a8\"],[0.3333333333333333,\"#9c179e\"],[0.4444444444444444,\"#bd3786\"],[0.5555555555555556,\"#d8576b\"],[0.6666666666666666,\"#ed7953\"],[0.7777777777777778,\"#fb9f3a\"],[0.8888888888888888,\"#fdca26\"],[1.0,\"#f0f921\"]]}],\"choropleth\":[{\"type\":\"choropleth\",\"colorbar\":{\"outlinewidth\":0,\"ticks\":\"\"}}],\"histogram2d\":[{\"type\":\"histogram2d\",\"colorbar\":{\"outlinewidth\":0,\"ticks\":\"\"},\"colorscale\":[[0.0,\"#0d0887\"],[0.1111111111111111,\"#46039f\"],[0.2222222222222222,\"#7201a8\"],[0.3333333333333333,\"#9c179e\"],[0.4444444444444444,\"#bd3786\"],[0.5555555555555556,\"#d8576b\"],[0.6666666666666666,\"#ed7953\"],[0.7777777777777778,\"#fb9f3a\"],[0.8888888888888888,\"#fdca26\"],[1.0,\"#f0f921\"]]}],\"heatmap\":[{\"type\":\"heatmap\",\"colorbar\":{\"outlinewidth\":0,\"ticks\":\"\"},\"colorscale\":[[0.0,\"#0d0887\"],[0.1111111111111111,\"#46039f\"],[0.2222222222222222,\"#7201a8\"],[0.3333333333333333,\"#9c179e\"],[0.4444444444444444,\"#bd3786\"],[0.5555555555555556,\"#d8576b\"],[0.6666666666666666,\"#ed7953\"],[0.7777777777777778,\"#fb9f3a\"],[0.8888888888888888,\"#fdca26\"],[1.0,\"#f0f921\"]]}],\"heatmapgl\":[{\"type\":\"heatmapgl\",\"colorbar\":{\"outlinewidth\":0,\"ticks\":\"\"},\"colorscale\":[[0.0,\"#0d0887\"],[0.1111111111111111,\"#46039f\"],[0.2222222222222222,\"#7201a8\"],[0.3333333333333333,\"#9c179e\"],[0.4444444444444444,\"#bd3786\"],[0.5555555555555556,\"#d8576b\"],[0.6666666666666666,\"#ed7953\"],[0.7777777777777778,\"#fb9f3a\"],[0.8888888888888888,\"#fdca26\"],[1.0,\"#f0f921\"]]}],\"contourcarpet\":[{\"type\":\"contourcarpet\",\"colorbar\":{\"outlinewidth\":0,\"ticks\":\"\"}}],\"contour\":[{\"type\":\"contour\",\"colorbar\":{\"outlinewidth\":0,\"ticks\":\"\"},\"colorscale\":[[0.0,\"#0d0887\"],[0.1111111111111111,\"#46039f\"],[0.2222222222222222,\"#7201a8\"],[0.3333333333333333,\"#9c179e\"],[0.4444444444444444,\"#bd3786\"],[0.5555555555555556,\"#d8576b\"],[0.6666666666666666,\"#ed7953\"],[0.7777777777777778,\"#fb9f3a\"],[0.8888888888888888,\"#fdca26\"],[1.0,\"#f0f921\"]]}],\"surface\":[{\"type\":\"surface\",\"colorbar\":{\"outlinewidth\":0,\"ticks\":\"\"},\"colorscale\":[[0.0,\"#0d0887\"],[0.1111111111111111,\"#46039f\"],[0.2222222222222222,\"#7201a8\"],[0.3333333333333333,\"#9c179e\"],[0.4444444444444444,\"#bd3786\"],[0.5555555555555556,\"#d8576b\"],[0.6666666666666666,\"#ed7953\"],[0.7777777777777778,\"#fb9f3a\"],[0.8888888888888888,\"#fdca26\"],[1.0,\"#f0f921\"]]}],\"mesh3d\":[{\"type\":\"mesh3d\",\"colorbar\":{\"outlinewidth\":0,\"ticks\":\"\"}}],\"scatter\":[{\"fillpattern\":{\"fillmode\":\"overlay\",\"size\":10,\"solidity\":0.2},\"type\":\"scatter\"}],\"parcoords\":[{\"type\":\"parcoords\",\"line\":{\"colorbar\":{\"outlinewidth\":0,\"ticks\":\"\"}}}],\"scatterpolargl\":[{\"type\":\"scatterpolargl\",\"marker\":{\"colorbar\":{\"outlinewidth\":0,\"ticks\":\"\"}}}],\"bar\":[{\"error_x\":{\"color\":\"#2a3f5f\"},\"error_y\":{\"color\":\"#2a3f5f\"},\"marker\":{\"line\":{\"color\":\"#E5ECF6\",\"width\":0.5},\"pattern\":{\"fillmode\":\"overlay\",\"size\":10,\"solidity\":0.2}},\"type\":\"bar\"}],\"scattergeo\":[{\"type\":\"scattergeo\",\"marker\":{\"colorbar\":{\"outlinewidth\":0,\"ticks\":\"\"}}}],\"scatterpolar\":[{\"type\":\"scatterpolar\",\"marker\":{\"colorbar\":{\"outlinewidth\":0,\"ticks\":\"\"}}}],\"histogram\":[{\"marker\":{\"pattern\":{\"fillmode\":\"overlay\",\"size\":10,\"solidity\":0.2}},\"type\":\"histogram\"}],\"scattergl\":[{\"type\":\"scattergl\",\"marker\":{\"colorbar\":{\"outlinewidth\":0,\"ticks\":\"\"}}}],\"scatter3d\":[{\"type\":\"scatter3d\",\"line\":{\"colorbar\":{\"outlinewidth\":0,\"ticks\":\"\"}},\"marker\":{\"colorbar\":{\"outlinewidth\":0,\"ticks\":\"\"}}}],\"scattermapbox\":[{\"type\":\"scattermapbox\",\"marker\":{\"colorbar\":{\"outlinewidth\":0,\"ticks\":\"\"}}}],\"scatterternary\":[{\"type\":\"scatterternary\",\"marker\":{\"colorbar\":{\"outlinewidth\":0,\"ticks\":\"\"}}}],\"scattercarpet\":[{\"type\":\"scattercarpet\",\"marker\":{\"colorbar\":{\"outlinewidth\":0,\"ticks\":\"\"}}}],\"carpet\":[{\"aaxis\":{\"endlinecolor\":\"#2a3f5f\",\"gridcolor\":\"white\",\"linecolor\":\"white\",\"minorgridcolor\":\"white\",\"startlinecolor\":\"#2a3f5f\"},\"baxis\":{\"endlinecolor\":\"#2a3f5f\",\"gridcolor\":\"white\",\"linecolor\":\"white\",\"minorgridcolor\":\"white\",\"startlinecolor\":\"#2a3f5f\"},\"type\":\"carpet\"}],\"table\":[{\"cells\":{\"fill\":{\"color\":\"#EBF0F8\"},\"line\":{\"color\":\"white\"}},\"header\":{\"fill\":{\"color\":\"#C8D4E3\"},\"line\":{\"color\":\"white\"}},\"type\":\"table\"}],\"barpolar\":[{\"marker\":{\"line\":{\"color\":\"#E5ECF6\",\"width\":0.5},\"pattern\":{\"fillmode\":\"overlay\",\"size\":10,\"solidity\":0.2}},\"type\":\"barpolar\"}],\"pie\":[{\"automargin\":true,\"type\":\"pie\"}]},\"layout\":{\"autotypenumbers\":\"strict\",\"colorway\":[\"#636efa\",\"#EF553B\",\"#00cc96\",\"#ab63fa\",\"#FFA15A\",\"#19d3f3\",\"#FF6692\",\"#B6E880\",\"#FF97FF\",\"#FECB52\"],\"font\":{\"color\":\"#2a3f5f\"},\"hovermode\":\"closest\",\"hoverlabel\":{\"align\":\"left\"},\"paper_bgcolor\":\"white\",\"plot_bgcolor\":\"#E5ECF6\",\"polar\":{\"bgcolor\":\"#E5ECF6\",\"angularaxis\":{\"gridcolor\":\"white\",\"linecolor\":\"white\",\"ticks\":\"\"},\"radialaxis\":{\"gridcolor\":\"white\",\"linecolor\":\"white\",\"ticks\":\"\"}},\"ternary\":{\"bgcolor\":\"#E5ECF6\",\"aaxis\":{\"gridcolor\":\"white\",\"linecolor\":\"white\",\"ticks\":\"\"},\"baxis\":{\"gridcolor\":\"white\",\"linecolor\":\"white\",\"ticks\":\"\"},\"caxis\":{\"gridcolor\":\"white\",\"linecolor\":\"white\",\"ticks\":\"\"}},\"coloraxis\":{\"colorbar\":{\"outlinewidth\":0,\"ticks\":\"\"}},\"colorscale\":{\"sequential\":[[0.0,\"#0d0887\"],[0.1111111111111111,\"#46039f\"],[0.2222222222222222,\"#7201a8\"],[0.3333333333333333,\"#9c179e\"],[0.4444444444444444,\"#bd3786\"],[0.5555555555555556,\"#d8576b\"],[0.6666666666666666,\"#ed7953\"],[0.7777777777777778,\"#fb9f3a\"],[0.8888888888888888,\"#fdca26\"],[1.0,\"#f0f921\"]],\"sequentialminus\":[[0.0,\"#0d0887\"],[0.1111111111111111,\"#46039f\"],[0.2222222222222222,\"#7201a8\"],[0.3333333333333333,\"#9c179e\"],[0.4444444444444444,\"#bd3786\"],[0.5555555555555556,\"#d8576b\"],[0.6666666666666666,\"#ed7953\"],[0.7777777777777778,\"#fb9f3a\"],[0.8888888888888888,\"#fdca26\"],[1.0,\"#f0f921\"]],\"diverging\":[[0,\"#8e0152\"],[0.1,\"#c51b7d\"],[0.2,\"#de77ae\"],[0.3,\"#f1b6da\"],[0.4,\"#fde0ef\"],[0.5,\"#f7f7f7\"],[0.6,\"#e6f5d0\"],[0.7,\"#b8e186\"],[0.8,\"#7fbc41\"],[0.9,\"#4d9221\"],[1,\"#276419\"]]},\"xaxis\":{\"gridcolor\":\"white\",\"linecolor\":\"white\",\"ticks\":\"\",\"title\":{\"standoff\":15},\"zerolinecolor\":\"white\",\"automargin\":true,\"zerolinewidth\":2},\"yaxis\":{\"gridcolor\":\"white\",\"linecolor\":\"white\",\"ticks\":\"\",\"title\":{\"standoff\":15},\"zerolinecolor\":\"white\",\"automargin\":true,\"zerolinewidth\":2},\"scene\":{\"xaxis\":{\"backgroundcolor\":\"#E5ECF6\",\"gridcolor\":\"white\",\"linecolor\":\"white\",\"showbackground\":true,\"ticks\":\"\",\"zerolinecolor\":\"white\",\"gridwidth\":2},\"yaxis\":{\"backgroundcolor\":\"#E5ECF6\",\"gridcolor\":\"white\",\"linecolor\":\"white\",\"showbackground\":true,\"ticks\":\"\",\"zerolinecolor\":\"white\",\"gridwidth\":2},\"zaxis\":{\"backgroundcolor\":\"#E5ECF6\",\"gridcolor\":\"white\",\"linecolor\":\"white\",\"showbackground\":true,\"ticks\":\"\",\"zerolinecolor\":\"white\",\"gridwidth\":2}},\"shapedefaults\":{\"line\":{\"color\":\"#2a3f5f\"}},\"annotationdefaults\":{\"arrowcolor\":\"#2a3f5f\",\"arrowhead\":0,\"arrowwidth\":1},\"geo\":{\"bgcolor\":\"white\",\"landcolor\":\"#E5ECF6\",\"subunitcolor\":\"white\",\"showland\":true,\"showlakes\":true,\"lakecolor\":\"white\"},\"title\":{\"x\":0.05},\"mapbox\":{\"style\":\"light\"}}},\"xaxis\":{\"anchor\":\"y\",\"domain\":[0.0,1.0]},\"yaxis\":{\"anchor\":\"x\",\"domain\":[0.0,1.0],\"title\":{\"text\":\"Average Salary\"}},\"legend\":{\"tracegroupgap\":0},\"title\":{\"text\":\"Average Salary Distribution\",\"x\":0.5},\"boxmode\":\"group\"},                        {\"responsive\": true}                    ).then(function(){\n",
       "                            \n",
       "var gd = document.getElementById('bd13f7b1-d6a8-4048-a675-7458a990648f');\n",
       "var x = new MutationObserver(function (mutations, observer) {{\n",
       "        var display = window.getComputedStyle(gd).display;\n",
       "        if (!display || display === 'none') {{\n",
       "            console.log([gd, 'removed!']);\n",
       "            Plotly.purge(gd);\n",
       "            observer.disconnect();\n",
       "        }}\n",
       "}});\n",
       "\n",
       "// Listen for the removal of the full notebook cells\n",
       "var notebookContainer = gd.closest('#notebook-container');\n",
       "if (notebookContainer) {{\n",
       "    x.observe(notebookContainer, {childList: true});\n",
       "}}\n",
       "\n",
       "// Listen for the clearing of the current output cell\n",
       "var outputEl = gd.closest('.output');\n",
       "if (outputEl) {{\n",
       "    x.observe(outputEl, {childList: true});\n",
       "}}\n",
       "\n",
       "                        })                };                });            </script>        </div>"
      ]
     },
     "metadata": {},
     "output_type": "display_data"
    },
    {
     "data": {
      "application/vnd.plotly.v1+json": {
       "config": {
        "plotlyServerURL": "https://plot.ly"
       },
       "data": [
        {
         "domain": {
          "x": [
           0,
           1
          ],
          "y": [
           0,
           1
          ]
         },
         "hole": 0.3,
         "hovertemplate": "Title=%{label}<br>Count=%{value}<extra></extra>",
         "labels": [
          "Blockchain Developer",
          "Blockchain Developer Intern",
          "Trainer",
          "Consultant",
          "Business Development Associate",
          "Business Development Manager",
          "Field Interviewer",
          "Full Stack Engineer",
          "Content Manager",
          "Project Manager",
          "Associate Blockchain Developer",
          "Digital Marketing",
          "Technical Recruiter"
         ],
         "legendgroup": "",
         "name": "",
         "showlegend": true,
         "type": "pie",
         "values": [
          6,
          2,
          2,
          1,
          1,
          1,
          1,
          1,
          1,
          1,
          1,
          1,
          1
         ]
        }
       ],
       "layout": {
        "autosize": true,
        "legend": {
         "tracegroupgap": 0
        },
        "template": {
         "data": {
          "bar": [
           {
            "error_x": {
             "color": "#2a3f5f"
            },
            "error_y": {
             "color": "#2a3f5f"
            },
            "marker": {
             "line": {
              "color": "#E5ECF6",
              "width": 0.5
             },
             "pattern": {
              "fillmode": "overlay",
              "size": 10,
              "solidity": 0.2
             }
            },
            "type": "bar"
           }
          ],
          "barpolar": [
           {
            "marker": {
             "line": {
              "color": "#E5ECF6",
              "width": 0.5
             },
             "pattern": {
              "fillmode": "overlay",
              "size": 10,
              "solidity": 0.2
             }
            },
            "type": "barpolar"
           }
          ],
          "carpet": [
           {
            "aaxis": {
             "endlinecolor": "#2a3f5f",
             "gridcolor": "white",
             "linecolor": "white",
             "minorgridcolor": "white",
             "startlinecolor": "#2a3f5f"
            },
            "baxis": {
             "endlinecolor": "#2a3f5f",
             "gridcolor": "white",
             "linecolor": "white",
             "minorgridcolor": "white",
             "startlinecolor": "#2a3f5f"
            },
            "type": "carpet"
           }
          ],
          "choropleth": [
           {
            "colorbar": {
             "outlinewidth": 0,
             "ticks": ""
            },
            "type": "choropleth"
           }
          ],
          "contour": [
           {
            "colorbar": {
             "outlinewidth": 0,
             "ticks": ""
            },
            "colorscale": [
             [
              0,
              "#0d0887"
             ],
             [
              0.1111111111111111,
              "#46039f"
             ],
             [
              0.2222222222222222,
              "#7201a8"
             ],
             [
              0.3333333333333333,
              "#9c179e"
             ],
             [
              0.4444444444444444,
              "#bd3786"
             ],
             [
              0.5555555555555556,
              "#d8576b"
             ],
             [
              0.6666666666666666,
              "#ed7953"
             ],
             [
              0.7777777777777778,
              "#fb9f3a"
             ],
             [
              0.8888888888888888,
              "#fdca26"
             ],
             [
              1,
              "#f0f921"
             ]
            ],
            "type": "contour"
           }
          ],
          "contourcarpet": [
           {
            "colorbar": {
             "outlinewidth": 0,
             "ticks": ""
            },
            "type": "contourcarpet"
           }
          ],
          "heatmap": [
           {
            "colorbar": {
             "outlinewidth": 0,
             "ticks": ""
            },
            "colorscale": [
             [
              0,
              "#0d0887"
             ],
             [
              0.1111111111111111,
              "#46039f"
             ],
             [
              0.2222222222222222,
              "#7201a8"
             ],
             [
              0.3333333333333333,
              "#9c179e"
             ],
             [
              0.4444444444444444,
              "#bd3786"
             ],
             [
              0.5555555555555556,
              "#d8576b"
             ],
             [
              0.6666666666666666,
              "#ed7953"
             ],
             [
              0.7777777777777778,
              "#fb9f3a"
             ],
             [
              0.8888888888888888,
              "#fdca26"
             ],
             [
              1,
              "#f0f921"
             ]
            ],
            "type": "heatmap"
           }
          ],
          "heatmapgl": [
           {
            "colorbar": {
             "outlinewidth": 0,
             "ticks": ""
            },
            "colorscale": [
             [
              0,
              "#0d0887"
             ],
             [
              0.1111111111111111,
              "#46039f"
             ],
             [
              0.2222222222222222,
              "#7201a8"
             ],
             [
              0.3333333333333333,
              "#9c179e"
             ],
             [
              0.4444444444444444,
              "#bd3786"
             ],
             [
              0.5555555555555556,
              "#d8576b"
             ],
             [
              0.6666666666666666,
              "#ed7953"
             ],
             [
              0.7777777777777778,
              "#fb9f3a"
             ],
             [
              0.8888888888888888,
              "#fdca26"
             ],
             [
              1,
              "#f0f921"
             ]
            ],
            "type": "heatmapgl"
           }
          ],
          "histogram": [
           {
            "marker": {
             "pattern": {
              "fillmode": "overlay",
              "size": 10,
              "solidity": 0.2
             }
            },
            "type": "histogram"
           }
          ],
          "histogram2d": [
           {
            "colorbar": {
             "outlinewidth": 0,
             "ticks": ""
            },
            "colorscale": [
             [
              0,
              "#0d0887"
             ],
             [
              0.1111111111111111,
              "#46039f"
             ],
             [
              0.2222222222222222,
              "#7201a8"
             ],
             [
              0.3333333333333333,
              "#9c179e"
             ],
             [
              0.4444444444444444,
              "#bd3786"
             ],
             [
              0.5555555555555556,
              "#d8576b"
             ],
             [
              0.6666666666666666,
              "#ed7953"
             ],
             [
              0.7777777777777778,
              "#fb9f3a"
             ],
             [
              0.8888888888888888,
              "#fdca26"
             ],
             [
              1,
              "#f0f921"
             ]
            ],
            "type": "histogram2d"
           }
          ],
          "histogram2dcontour": [
           {
            "colorbar": {
             "outlinewidth": 0,
             "ticks": ""
            },
            "colorscale": [
             [
              0,
              "#0d0887"
             ],
             [
              0.1111111111111111,
              "#46039f"
             ],
             [
              0.2222222222222222,
              "#7201a8"
             ],
             [
              0.3333333333333333,
              "#9c179e"
             ],
             [
              0.4444444444444444,
              "#bd3786"
             ],
             [
              0.5555555555555556,
              "#d8576b"
             ],
             [
              0.6666666666666666,
              "#ed7953"
             ],
             [
              0.7777777777777778,
              "#fb9f3a"
             ],
             [
              0.8888888888888888,
              "#fdca26"
             ],
             [
              1,
              "#f0f921"
             ]
            ],
            "type": "histogram2dcontour"
           }
          ],
          "mesh3d": [
           {
            "colorbar": {
             "outlinewidth": 0,
             "ticks": ""
            },
            "type": "mesh3d"
           }
          ],
          "parcoords": [
           {
            "line": {
             "colorbar": {
              "outlinewidth": 0,
              "ticks": ""
             }
            },
            "type": "parcoords"
           }
          ],
          "pie": [
           {
            "automargin": true,
            "type": "pie"
           }
          ],
          "scatter": [
           {
            "fillpattern": {
             "fillmode": "overlay",
             "size": 10,
             "solidity": 0.2
            },
            "type": "scatter"
           }
          ],
          "scatter3d": [
           {
            "line": {
             "colorbar": {
              "outlinewidth": 0,
              "ticks": ""
             }
            },
            "marker": {
             "colorbar": {
              "outlinewidth": 0,
              "ticks": ""
             }
            },
            "type": "scatter3d"
           }
          ],
          "scattercarpet": [
           {
            "marker": {
             "colorbar": {
              "outlinewidth": 0,
              "ticks": ""
             }
            },
            "type": "scattercarpet"
           }
          ],
          "scattergeo": [
           {
            "marker": {
             "colorbar": {
              "outlinewidth": 0,
              "ticks": ""
             }
            },
            "type": "scattergeo"
           }
          ],
          "scattergl": [
           {
            "marker": {
             "colorbar": {
              "outlinewidth": 0,
              "ticks": ""
             }
            },
            "type": "scattergl"
           }
          ],
          "scattermapbox": [
           {
            "marker": {
             "colorbar": {
              "outlinewidth": 0,
              "ticks": ""
             }
            },
            "type": "scattermapbox"
           }
          ],
          "scatterpolar": [
           {
            "marker": {
             "colorbar": {
              "outlinewidth": 0,
              "ticks": ""
             }
            },
            "type": "scatterpolar"
           }
          ],
          "scatterpolargl": [
           {
            "marker": {
             "colorbar": {
              "outlinewidth": 0,
              "ticks": ""
             }
            },
            "type": "scatterpolargl"
           }
          ],
          "scatterternary": [
           {
            "marker": {
             "colorbar": {
              "outlinewidth": 0,
              "ticks": ""
             }
            },
            "type": "scatterternary"
           }
          ],
          "surface": [
           {
            "colorbar": {
             "outlinewidth": 0,
             "ticks": ""
            },
            "colorscale": [
             [
              0,
              "#0d0887"
             ],
             [
              0.1111111111111111,
              "#46039f"
             ],
             [
              0.2222222222222222,
              "#7201a8"
             ],
             [
              0.3333333333333333,
              "#9c179e"
             ],
             [
              0.4444444444444444,
              "#bd3786"
             ],
             [
              0.5555555555555556,
              "#d8576b"
             ],
             [
              0.6666666666666666,
              "#ed7953"
             ],
             [
              0.7777777777777778,
              "#fb9f3a"
             ],
             [
              0.8888888888888888,
              "#fdca26"
             ],
             [
              1,
              "#f0f921"
             ]
            ],
            "type": "surface"
           }
          ],
          "table": [
           {
            "cells": {
             "fill": {
              "color": "#EBF0F8"
             },
             "line": {
              "color": "white"
             }
            },
            "header": {
             "fill": {
              "color": "#C8D4E3"
             },
             "line": {
              "color": "white"
             }
            },
            "type": "table"
           }
          ]
         },
         "layout": {
          "annotationdefaults": {
           "arrowcolor": "#2a3f5f",
           "arrowhead": 0,
           "arrowwidth": 1
          },
          "autotypenumbers": "strict",
          "coloraxis": {
           "colorbar": {
            "outlinewidth": 0,
            "ticks": ""
           }
          },
          "colorscale": {
           "diverging": [
            [
             0,
             "#8e0152"
            ],
            [
             0.1,
             "#c51b7d"
            ],
            [
             0.2,
             "#de77ae"
            ],
            [
             0.3,
             "#f1b6da"
            ],
            [
             0.4,
             "#fde0ef"
            ],
            [
             0.5,
             "#f7f7f7"
            ],
            [
             0.6,
             "#e6f5d0"
            ],
            [
             0.7,
             "#b8e186"
            ],
            [
             0.8,
             "#7fbc41"
            ],
            [
             0.9,
             "#4d9221"
            ],
            [
             1,
             "#276419"
            ]
           ],
           "sequential": [
            [
             0,
             "#0d0887"
            ],
            [
             0.1111111111111111,
             "#46039f"
            ],
            [
             0.2222222222222222,
             "#7201a8"
            ],
            [
             0.3333333333333333,
             "#9c179e"
            ],
            [
             0.4444444444444444,
             "#bd3786"
            ],
            [
             0.5555555555555556,
             "#d8576b"
            ],
            [
             0.6666666666666666,
             "#ed7953"
            ],
            [
             0.7777777777777778,
             "#fb9f3a"
            ],
            [
             0.8888888888888888,
             "#fdca26"
            ],
            [
             1,
             "#f0f921"
            ]
           ],
           "sequentialminus": [
            [
             0,
             "#0d0887"
            ],
            [
             0.1111111111111111,
             "#46039f"
            ],
            [
             0.2222222222222222,
             "#7201a8"
            ],
            [
             0.3333333333333333,
             "#9c179e"
            ],
            [
             0.4444444444444444,
             "#bd3786"
            ],
            [
             0.5555555555555556,
             "#d8576b"
            ],
            [
             0.6666666666666666,
             "#ed7953"
            ],
            [
             0.7777777777777778,
             "#fb9f3a"
            ],
            [
             0.8888888888888888,
             "#fdca26"
            ],
            [
             1,
             "#f0f921"
            ]
           ]
          },
          "colorway": [
           "#636efa",
           "#EF553B",
           "#00cc96",
           "#ab63fa",
           "#FFA15A",
           "#19d3f3",
           "#FF6692",
           "#B6E880",
           "#FF97FF",
           "#FECB52"
          ],
          "font": {
           "color": "#2a3f5f"
          },
          "geo": {
           "bgcolor": "white",
           "lakecolor": "white",
           "landcolor": "#E5ECF6",
           "showlakes": true,
           "showland": true,
           "subunitcolor": "white"
          },
          "hoverlabel": {
           "align": "left"
          },
          "hovermode": "closest",
          "mapbox": {
           "style": "light"
          },
          "paper_bgcolor": "white",
          "plot_bgcolor": "#E5ECF6",
          "polar": {
           "angularaxis": {
            "gridcolor": "white",
            "linecolor": "white",
            "ticks": ""
           },
           "bgcolor": "#E5ECF6",
           "radialaxis": {
            "gridcolor": "white",
            "linecolor": "white",
            "ticks": ""
           }
          },
          "scene": {
           "xaxis": {
            "backgroundcolor": "#E5ECF6",
            "gridcolor": "white",
            "gridwidth": 2,
            "linecolor": "white",
            "showbackground": true,
            "ticks": "",
            "zerolinecolor": "white"
           },
           "yaxis": {
            "backgroundcolor": "#E5ECF6",
            "gridcolor": "white",
            "gridwidth": 2,
            "linecolor": "white",
            "showbackground": true,
            "ticks": "",
            "zerolinecolor": "white"
           },
           "zaxis": {
            "backgroundcolor": "#E5ECF6",
            "gridcolor": "white",
            "gridwidth": 2,
            "linecolor": "white",
            "showbackground": true,
            "ticks": "",
            "zerolinecolor": "white"
           }
          },
          "shapedefaults": {
           "line": {
            "color": "#2a3f5f"
           }
          },
          "ternary": {
           "aaxis": {
            "gridcolor": "white",
            "linecolor": "white",
            "ticks": ""
           },
           "baxis": {
            "gridcolor": "white",
            "linecolor": "white",
            "ticks": ""
           },
           "bgcolor": "#E5ECF6",
           "caxis": {
            "gridcolor": "white",
            "linecolor": "white",
            "ticks": ""
           }
          },
          "title": {
           "x": 0.05
          },
          "xaxis": {
           "automargin": true,
           "gridcolor": "white",
           "linecolor": "white",
           "ticks": "",
           "title": {
            "standoff": 15
           },
           "zerolinecolor": "white",
           "zerolinewidth": 2
          },
          "yaxis": {
           "automargin": true,
           "gridcolor": "white",
           "linecolor": "white",
           "ticks": "",
           "title": {
            "standoff": 15
           },
           "zerolinecolor": "white",
           "zerolinewidth": 2
          }
         }
        },
        "title": {
         "text": "Title Categories Distribution",
         "x": 0.5
        }
       }
      },
      "image/png": "[encoded data removed]",
      "text/html": [
       "<div>                            <div id=\"30cf90b8-f4c8-4694-be9b-a6c74162270d\" class=\"plotly-graph-div\" style=\"height:525px; width:100%;\"></div>            <script type=\"text/javascript\">                require([\"plotly\"], function(Plotly) {                    window.PLOTLYENV=window.PLOTLYENV || {};                                    if (document.getElementById(\"30cf90b8-f4c8-4694-be9b-a6c74162270d\")) {                    Plotly.newPlot(                        \"30cf90b8-f4c8-4694-be9b-a6c74162270d\",                        [{\"domain\":{\"x\":[0.0,1.0],\"y\":[0.0,1.0]},\"hole\":0.3,\"hovertemplate\":\"Title=%{label}\\u003cbr\\u003eCount=%{value}\\u003cextra\\u003e\\u003c\\u002fextra\\u003e\",\"labels\":[\"Blockchain Developer\",\"Blockchain Developer Intern\",\"Trainer\",\"Consultant\",\"Business Development Associate\",\"Business Development Manager\",\"Field Interviewer\",\"Full Stack Engineer\",\"Content Manager\",\"Project Manager\",\"Associate Blockchain Developer\",\"Digital Marketing\",\"Technical Recruiter\"],\"legendgroup\":\"\",\"name\":\"\",\"showlegend\":true,\"values\":[6,2,2,1,1,1,1,1,1,1,1,1,1],\"type\":\"pie\"}],                        {\"template\":{\"data\":{\"histogram2dcontour\":[{\"type\":\"histogram2dcontour\",\"colorbar\":{\"outlinewidth\":0,\"ticks\":\"\"},\"colorscale\":[[0.0,\"#0d0887\"],[0.1111111111111111,\"#46039f\"],[0.2222222222222222,\"#7201a8\"],[0.3333333333333333,\"#9c179e\"],[0.4444444444444444,\"#bd3786\"],[0.5555555555555556,\"#d8576b\"],[0.6666666666666666,\"#ed7953\"],[0.7777777777777778,\"#fb9f3a\"],[0.8888888888888888,\"#fdca26\"],[1.0,\"#f0f921\"]]}],\"choropleth\":[{\"type\":\"choropleth\",\"colorbar\":{\"outlinewidth\":0,\"ticks\":\"\"}}],\"histogram2d\":[{\"type\":\"histogram2d\",\"colorbar\":{\"outlinewidth\":0,\"ticks\":\"\"},\"colorscale\":[[0.0,\"#0d0887\"],[0.1111111111111111,\"#46039f\"],[0.2222222222222222,\"#7201a8\"],[0.3333333333333333,\"#9c179e\"],[0.4444444444444444,\"#bd3786\"],[0.5555555555555556,\"#d8576b\"],[0.6666666666666666,\"#ed7953\"],[0.7777777777777778,\"#fb9f3a\"],[0.8888888888888888,\"#fdca26\"],[1.0,\"#f0f921\"]]}],\"heatmap\":[{\"type\":\"heatmap\",\"colorbar\":{\"outlinewidth\":0,\"ticks\":\"\"},\"colorscale\":[[0.0,\"#0d0887\"],[0.1111111111111111,\"#46039f\"],[0.2222222222222222,\"#7201a8\"],[0.3333333333333333,\"#9c179e\"],[0.4444444444444444,\"#bd3786\"],[0.5555555555555556,\"#d8576b\"],[0.6666666666666666,\"#ed7953\"],[0.7777777777777778,\"#fb9f3a\"],[0.8888888888888888,\"#fdca26\"],[1.0,\"#f0f921\"]]}],\"heatmapgl\":[{\"type\":\"heatmapgl\",\"colorbar\":{\"outlinewidth\":0,\"ticks\":\"\"},\"colorscale\":[[0.0,\"#0d0887\"],[0.1111111111111111,\"#46039f\"],[0.2222222222222222,\"#7201a8\"],[0.3333333333333333,\"#9c179e\"],[0.4444444444444444,\"#bd3786\"],[0.5555555555555556,\"#d8576b\"],[0.6666666666666666,\"#ed7953\"],[0.7777777777777778,\"#fb9f3a\"],[0.8888888888888888,\"#fdca26\"],[1.0,\"#f0f921\"]]}],\"contourcarpet\":[{\"type\":\"contourcarpet\",\"colorbar\":{\"outlinewidth\":0,\"ticks\":\"\"}}],\"contour\":[{\"type\":\"contour\",\"colorbar\":{\"outlinewidth\":0,\"ticks\":\"\"},\"colorscale\":[[0.0,\"#0d0887\"],[0.1111111111111111,\"#46039f\"],[0.2222222222222222,\"#7201a8\"],[0.3333333333333333,\"#9c179e\"],[0.4444444444444444,\"#bd3786\"],[0.5555555555555556,\"#d8576b\"],[0.6666666666666666,\"#ed7953\"],[0.7777777777777778,\"#fb9f3a\"],[0.8888888888888888,\"#fdca26\"],[1.0,\"#f0f921\"]]}],\"surface\":[{\"type\":\"surface\",\"colorbar\":{\"outlinewidth\":0,\"ticks\":\"\"},\"colorscale\":[[0.0,\"#0d0887\"],[0.1111111111111111,\"#46039f\"],[0.2222222222222222,\"#7201a8\"],[0.3333333333333333,\"#9c179e\"],[0.4444444444444444,\"#bd3786\"],[0.5555555555555556,\"#d8576b\"],[0.6666666666666666,\"#ed7953\"],[0.7777777777777778,\"#fb9f3a\"],[0.8888888888888888,\"#fdca26\"],[1.0,\"#f0f921\"]]}],\"mesh3d\":[{\"type\":\"mesh3d\",\"colorbar\":{\"outlinewidth\":0,\"ticks\":\"\"}}],\"scatter\":[{\"fillpattern\":{\"fillmode\":\"overlay\",\"size\":10,\"solidity\":0.2},\"type\":\"scatter\"}],\"parcoords\":[{\"type\":\"parcoords\",\"line\":{\"colorbar\":{\"outlinewidth\":0,\"ticks\":\"\"}}}],\"scatterpolargl\":[{\"type\":\"scatterpolargl\",\"marker\":{\"colorbar\":{\"outlinewidth\":0,\"ticks\":\"\"}}}],\"bar\":[{\"error_x\":{\"color\":\"#2a3f5f\"},\"error_y\":{\"color\":\"#2a3f5f\"},\"marker\":{\"line\":{\"color\":\"#E5ECF6\",\"width\":0.5},\"pattern\":{\"fillmode\":\"overlay\",\"size\":10,\"solidity\":0.2}},\"type\":\"bar\"}],\"scattergeo\":[{\"type\":\"scattergeo\",\"marker\":{\"colorbar\":{\"outlinewidth\":0,\"ticks\":\"\"}}}],\"scatterpolar\":[{\"type\":\"scatterpolar\",\"marker\":{\"colorbar\":{\"outlinewidth\":0,\"ticks\":\"\"}}}],\"histogram\":[{\"marker\":{\"pattern\":{\"fillmode\":\"overlay\",\"size\":10,\"solidity\":0.2}},\"type\":\"histogram\"}],\"scattergl\":[{\"type\":\"scattergl\",\"marker\":{\"colorbar\":{\"outlinewidth\":0,\"ticks\":\"\"}}}],\"scatter3d\":[{\"type\":\"scatter3d\",\"line\":{\"colorbar\":{\"outlinewidth\":0,\"ticks\":\"\"}},\"marker\":{\"colorbar\":{\"outlinewidth\":0,\"ticks\":\"\"}}}],\"scattermapbox\":[{\"type\":\"scattermapbox\",\"marker\":{\"colorbar\":{\"outlinewidth\":0,\"ticks\":\"\"}}}],\"scatterternary\":[{\"type\":\"scatterternary\",\"marker\":{\"colorbar\":{\"outlinewidth\":0,\"ticks\":\"\"}}}],\"scattercarpet\":[{\"type\":\"scattercarpet\",\"marker\":{\"colorbar\":{\"outlinewidth\":0,\"ticks\":\"\"}}}],\"carpet\":[{\"aaxis\":{\"endlinecolor\":\"#2a3f5f\",\"gridcolor\":\"white\",\"linecolor\":\"white\",\"minorgridcolor\":\"white\",\"startlinecolor\":\"#2a3f5f\"},\"baxis\":{\"endlinecolor\":\"#2a3f5f\",\"gridcolor\":\"white\",\"linecolor\":\"white\",\"minorgridcolor\":\"white\",\"startlinecolor\":\"#2a3f5f\"},\"type\":\"carpet\"}],\"table\":[{\"cells\":{\"fill\":{\"color\":\"#EBF0F8\"},\"line\":{\"color\":\"white\"}},\"header\":{\"fill\":{\"color\":\"#C8D4E3\"},\"line\":{\"color\":\"white\"}},\"type\":\"table\"}],\"barpolar\":[{\"marker\":{\"line\":{\"color\":\"#E5ECF6\",\"width\":0.5},\"pattern\":{\"fillmode\":\"overlay\",\"size\":10,\"solidity\":0.2}},\"type\":\"barpolar\"}],\"pie\":[{\"automargin\":true,\"type\":\"pie\"}]},\"layout\":{\"autotypenumbers\":\"strict\",\"colorway\":[\"#636efa\",\"#EF553B\",\"#00cc96\",\"#ab63fa\",\"#FFA15A\",\"#19d3f3\",\"#FF6692\",\"#B6E880\",\"#FF97FF\",\"#FECB52\"],\"font\":{\"color\":\"#2a3f5f\"},\"hovermode\":\"closest\",\"hoverlabel\":{\"align\":\"left\"},\"paper_bgcolor\":\"white\",\"plot_bgcolor\":\"#E5ECF6\",\"polar\":{\"bgcolor\":\"#E5ECF6\",\"angularaxis\":{\"gridcolor\":\"white\",\"linecolor\":\"white\",\"ticks\":\"\"},\"radialaxis\":{\"gridcolor\":\"white\",\"linecolor\":\"white\",\"ticks\":\"\"}},\"ternary\":{\"bgcolor\":\"#E5ECF6\",\"aaxis\":{\"gridcolor\":\"white\",\"linecolor\":\"white\",\"ticks\":\"\"},\"baxis\":{\"gridcolor\":\"white\",\"linecolor\":\"white\",\"ticks\":\"\"},\"caxis\":{\"gridcolor\":\"white\",\"linecolor\":\"white\",\"ticks\":\"\"}},\"coloraxis\":{\"colorbar\":{\"outlinewidth\":0,\"ticks\":\"\"}},\"colorscale\":{\"sequential\":[[0.0,\"#0d0887\"],[0.1111111111111111,\"#46039f\"],[0.2222222222222222,\"#7201a8\"],[0.3333333333333333,\"#9c179e\"],[0.4444444444444444,\"#bd3786\"],[0.5555555555555556,\"#d8576b\"],[0.6666666666666666,\"#ed7953\"],[0.7777777777777778,\"#fb9f3a\"],[0.8888888888888888,\"#fdca26\"],[1.0,\"#f0f921\"]],\"sequentialminus\":[[0.0,\"#0d0887\"],[0.1111111111111111,\"#46039f\"],[0.2222222222222222,\"#7201a8\"],[0.3333333333333333,\"#9c179e\"],[0.4444444444444444,\"#bd3786\"],[0.5555555555555556,\"#d8576b\"],[0.6666666666666666,\"#ed7953\"],[0.7777777777777778,\"#fb9f3a\"],[0.8888888888888888,\"#fdca26\"],[1.0,\"#f0f921\"]],\"diverging\":[[0,\"#8e0152\"],[0.1,\"#c51b7d\"],[0.2,\"#de77ae\"],[0.3,\"#f1b6da\"],[0.4,\"#fde0ef\"],[0.5,\"#f7f7f7\"],[0.6,\"#e6f5d0\"],[0.7,\"#b8e186\"],[0.8,\"#7fbc41\"],[0.9,\"#4d9221\"],[1,\"#276419\"]]},\"xaxis\":{\"gridcolor\":\"white\",\"linecolor\":\"white\",\"ticks\":\"\",\"title\":{\"standoff\":15},\"zerolinecolor\":\"white\",\"automargin\":true,\"zerolinewidth\":2},\"yaxis\":{\"gridcolor\":\"white\",\"linecolor\":\"white\",\"ticks\":\"\",\"title\":{\"standoff\":15},\"zerolinecolor\":\"white\",\"automargin\":true,\"zerolinewidth\":2},\"scene\":{\"xaxis\":{\"backgroundcolor\":\"#E5ECF6\",\"gridcolor\":\"white\",\"linecolor\":\"white\",\"showbackground\":true,\"ticks\":\"\",\"zerolinecolor\":\"white\",\"gridwidth\":2},\"yaxis\":{\"backgroundcolor\":\"#E5ECF6\",\"gridcolor\":\"white\",\"linecolor\":\"white\",\"showbackground\":true,\"ticks\":\"\",\"zerolinecolor\":\"white\",\"gridwidth\":2},\"zaxis\":{\"backgroundcolor\":\"#E5ECF6\",\"gridcolor\":\"white\",\"linecolor\":\"white\",\"showbackground\":true,\"ticks\":\"\",\"zerolinecolor\":\"white\",\"gridwidth\":2}},\"shapedefaults\":{\"line\":{\"color\":\"#2a3f5f\"}},\"annotationdefaults\":{\"arrowcolor\":\"#2a3f5f\",\"arrowhead\":0,\"arrowwidth\":1},\"geo\":{\"bgcolor\":\"white\",\"landcolor\":\"#E5ECF6\",\"subunitcolor\":\"white\",\"showland\":true,\"showlakes\":true,\"lakecolor\":\"white\"},\"title\":{\"x\":0.05},\"mapbox\":{\"style\":\"light\"}}},\"legend\":{\"tracegroupgap\":0},\"title\":{\"text\":\"Title Categories Distribution\",\"x\":0.5}},                        {\"responsive\": true}                    ).then(function(){\n",
       "                            \n",
       "var gd = document.getElementById('30cf90b8-f4c8-4694-be9b-a6c74162270d');\n",
       "var x = new MutationObserver(function (mutations, observer) {{\n",
       "        var display = window.getComputedStyle(gd).display;\n",
       "        if (!display || display === 'none') {{\n",
       "            console.log([gd, 'removed!']);\n",
       "            Plotly.purge(gd);\n",
       "            observer.disconnect();\n",
       "        }}\n",
       "}});\n",
       "\n",
       "// Listen for the removal of the full notebook cells\n",
       "var notebookContainer = gd.closest('#notebook-container');\n",
       "if (notebookContainer) {{\n",
       "    x.observe(notebookContainer, {childList: true});\n",
       "}}\n",
       "\n",
       "// Listen for the clearing of the current output cell\n",
       "var outputEl = gd.closest('.output');\n",
       "if (outputEl) {{\n",
       "    x.observe(outputEl, {childList: true});\n",
       "}}\n",
       "\n",
       "                        })                };                });            </script>        </div>"
      ]
     },
     "metadata": {},
     "output_type": "display_data"
    }
   ],
   "source": [
    "import pandas as pd\n",
    "import plotly.express as px\n",
    "\n",
    "# Load the data from CSV\n",
    "data = pd.read_csv(\"sorted.csv\")\n",
    "\n",
    "# Create a color map for Easy Apply\n",
    "color_map = {True: 'green', False: 'red'}\n",
    "\n",
    "# Map the colors based on Easy Apply column\n",
    "data['Color'] = data['Easy Apply'].map(color_map)\n",
    "\n",
    "# Count the number of occurrences for each category\n",
    "easy_apply_counts = data['Easy Apply'].value_counts()\n",
    "\n",
    "# Create a pie chart for Easy Apply distribution\n",
    "fig_easy_apply = px.pie(data_frame=easy_apply_counts,\n",
    "                        names=easy_apply_counts.index,\n",
    "                        values=easy_apply_counts.values,\n",
    "                        color=easy_apply_counts.index,\n",
    "                        color_discrete_map={'True': 'green', 'False': 'red'},\n",
    "                        hole=0.3,\n",
    "                        title='Distribution of Easy Apply',\n",
    "                        labels={'True': 'Easily Appliable', 'False': 'Not Easily Appliable'})\n",
    "\n",
    "# Update layout for the Easy Apply chart\n",
    "fig_easy_apply.update_layout(title_x=0.5)\n",
    "\n",
    "# Show the Easy Apply pie chart\n",
    "fig_easy_apply.show()\n",
    "\n",
    "# Count the number of occurrences for each company\n",
    "company_counts = data['Company'].value_counts().reset_index()\n",
    "company_counts.columns = ['Company', 'Count']\n",
    "\n",
    "# Create a bar chart for Company Count\n",
    "fig_company_count = px.bar(data_frame=company_counts,\n",
    "                           x='Company',\n",
    "                           y='Count',\n",
    "                           title='Company Count',\n",
    "                           labels={'Count': 'Number of Jobs'})\n",
    "\n",
    "# Update layout for the Company Count chart\n",
    "fig_company_count.update_layout(xaxis_title='Company', yaxis_title='Number of Jobs', title_x=0.5)\n",
    "\n",
    "# Show the Company Count bar chart\n",
    "fig_company_count.show()\n",
    "\n",
    "# Create a histogram for average salary distribution\n",
    "fig_salary_hist = px.histogram(data_frame=data,\n",
    "                               x='Avg_Salary',\n",
    "                               title='Average Salary Distribution')\n",
    "\n",
    "# Update layout for the Salary Histogram chart\n",
    "fig_salary_hist.update_layout(xaxis_title='Average Salary', yaxis_title='Frequency', title_x=0.5)\n",
    "\n",
    "# Show the Average Salary Histogram\n",
    "fig_salary_hist.show()\n",
    "\n",
    "# Create a box plot for average salary distribution\n",
    "fig_salary_box = px.box(data_frame=data,\n",
    "                         y='Avg_Salary',\n",
    "                         title='Average Salary Distribution')\n",
    "\n",
    "# Update layout for the Salary Box plot\n",
    "fig_salary_box.update_layout(yaxis_title='Average Salary', title_x=0.5)\n",
    "\n",
    "# Show the Average Salary Box plot\n",
    "fig_salary_box.show()\n",
    "\n",
    "# Count the number of occurrences for each title\n",
    "title_counts = data['Title'].value_counts().reset_index()\n",
    "title_counts.columns = ['Title', 'Count']\n",
    "\n",
    "# Create a pie chart for Title Categories distribution\n",
    "fig_titles = px.pie(data_frame=title_counts,\n",
    "                     names='Title',\n",
    "                     values='Count',\n",
    "                     title='Title Categories Distribution',\n",
    "                     hole=0.3)\n",
    "\n",
    "# Update layout for the Title Categories chart\n",
    "fig_titles.update_layout(title_x=0.5)\n",
    "\n",
    "# Show the Title Categories pie chart\n",
    "fig_titles.show()"
   ]
  },
  {
   "cell_type": "code",
   "execution_count": null,
   "id": "a4538411-6798-4cad-a48f-360564ea128d",
   "metadata": {},
   "outputs": [],
   "source": []
  }
 ],
 "metadata": {
  "kernelspec": {
   "display_name": "Python 3 (ipykernel)",
   "language": "python",
   "name": "python3"
  },
  "language_info": {
   "codemirror_mode": {
    "name": "ipython",
    "version": 3
   },
   "file_extension": ".py",
   "mimetype": "text/x-python",
   "name": "python",
   "nbconvert_exporter": "python",
   "pygments_lexer": "ipython3",
   "version": "3.12.1"
  }
 },
 "nbformat": 4,
 "nbformat_minor": 5
}
